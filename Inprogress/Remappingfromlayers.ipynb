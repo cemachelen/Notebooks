{
 "metadata": {
  "name": "",
  "signature": "sha256:f723c2c2b49647804bfbaf5273ca0aafecee008c14b16ca2114e3e29369edb53"
 },
 "nbformat": 3,
 "nbformat_minor": 0,
 "worksheets": [
  {
   "cells": [
    {
     "cell_type": "raw",
     "metadata": {},
     "source": [
      "#! /usr/bin/env python chmod the file and just type Remap.py Iridis4 TEST 30-50"
     ]
    },
    {
     "cell_type": "code",
     "collapsed": false,
     "input": [
      "from scipy.io import netcdf\n",
      "import numpy as np\n",
      "import matplotlib.pyplot as plt\n",
      "import os\n",
      "import csv\n",
      "import sys\n",
      "from scipy.interpolate import griddata\n",
      "from pylab import *\n",
      "from multiprocessing import Pool"
     ],
     "language": "python",
     "metadata": {},
     "outputs": [],
     "prompt_number": 1
    },
    {
     "cell_type": "markdown",
     "metadata": {},
     "source": [
      "Comp = sys.argv[1]\n",
      "OP = sys.argv[2]\n",
      "Years = sys.argv[3]"
     ]
    },
    {
     "cell_type": "code",
     "collapsed": false,
     "input": [
      "def find_nearest(array,value):\n",
      "    idx = (np.abs(array-value)).argmin()\n",
      "    return array[idx]"
     ],
     "language": "python",
     "metadata": {},
     "outputs": [],
     "prompt_number": 2
    },
    {
     "cell_type": "code",
     "collapsed": false,
     "input": [
      "Comp=\"Mobilis\"\n",
      "OP=\"Ryan_myedits\"\n",
      "Years=\"220-230\"\n",
      "x=\"/noc/msm/scratch/students/hb1g13/\"+Comp+\"/\"+OP+\"/Psi_temp/\" \n",
      "os.chdir(x)"
     ],
     "language": "python",
     "metadata": {},
     "outputs": [],
     "prompt_number": 3
    },
    {
     "cell_type": "raw",
     "metadata": {},
     "source": [
      "First find Psi_res "
     ]
    },
    {
     "cell_type": "code",
     "collapsed": false,
     "input": [
      "file = netcdf.NetCDFFile(Years+\"Psi.nc\",'r')\n",
      "lvrho=file.variables['LaVH1TH']\n",
      "lvrho=lvrho[:]\n",
      "Thick=file.variables['LaHs1TH']\n",
      "thick=Thick[:]\n",
      "Y=file.variables['Yp1']\n",
      "Y=Y[:]\n",
      "dx=5000"
     ],
     "language": "python",
     "metadata": {},
     "outputs": [],
     "prompt_number": 4
    },
    {
     "cell_type": "code",
     "collapsed": false,
     "input": [
      "Rho = np.genfromtxt('./Temp', delimiter = ',') \n",
      "Rho=Rho[0:len(lvrho[1,:,1,1])]"
     ],
     "language": "python",
     "metadata": {},
     "outputs": [],
     "prompt_number": 17
    },
    {
     "cell_type": "code",
     "collapsed": false,
     "input": [
      "VT=np.sum(lvrho*dx,axis=3)\n",
      "VTdz=np.cumsum(VT[:,:,:],axis=1)"
     ],
     "language": "python",
     "metadata": {},
     "outputs": [],
     "prompt_number": 18
    },
    {
     "cell_type": "code",
     "collapsed": false,
     "input": [
      "psi=-np.mean(VTdz[:,:,:],axis=0)/10**6"
     ],
     "language": "python",
     "metadata": {},
     "outputs": [],
     "prompt_number": 26
    },
    {
     "cell_type": "code",
     "collapsed": false,
     "input": [
      "y=Y/1000\n",
      "z=np.array(range(1,len(lvrho[1,:,1,1])))"
     ],
     "language": "python",
     "metadata": {},
     "outputs": [],
     "prompt_number": 27
    },
    {
     "cell_type": "raw",
     "metadata": {},
     "source": [
      "Now Plot to check"
     ]
    },
    {
     "cell_type": "code",
     "collapsed": false,
     "input": [
      "plt.contourf(y,Rho,psi,50,cmap=plt.cm.seismic)\n",
      "clim(-(np.nanmax(abs(psi))),np.nanmax(abs(psi)))\n",
      "cbar = plt.colorbar()\n",
      "plt.title('RMOC in temperature layers')\n",
      "plt.xlabel('Distance (km)')\n",
      "plt.ylabel('Temperature')\n",
      "cbar.ax.set_ylabel('Psi (sv)')\n",
      "x=\"/noc/users/hb1g13/Figures/\"+Comp+\"/\"+OP\n",
      "#os.chdir(x)\n",
      "#plt.savefig(\"Psires\"+str(I[0]/t)\".png\")"
     ],
     "language": "python",
     "metadata": {},
     "outputs": [
      {
       "metadata": {},
       "output_type": "display_data",
       "png": "[encoded data removed]",
       "text": [
        "<matplotlib.figure.Figure at 0x29a81d0>"
       ]
      }
     ],
     "prompt_number": 29
    },
    {
     "cell_type": "code",
     "collapsed": false,
     "input": [
      "thickav=np.mean(thick,axis=0)"
     ],
     "language": "python",
     "metadata": {},
     "outputs": [],
     "prompt_number": 30
    },
    {
     "cell_type": "code",
     "collapsed": false,
     "input": [
      "Depth1=np.cumsum(thickav,axis=0)"
     ],
     "language": "python",
     "metadata": {},
     "outputs": [],
     "prompt_number": 31
    },
    {
     "cell_type": "code",
     "collapsed": false,
     "input": [
      "Depth2=np.mean(Depth1,axis=2)"
     ],
     "language": "python",
     "metadata": {},
     "outputs": [],
     "prompt_number": 32
    },
    {
     "cell_type": "code",
     "collapsed": false,
     "input": [
      "Z=np.linspace(0,nanmax(Depth2),len(lvrho[1,:,1,1]))"
     ],
     "language": "python",
     "metadata": {},
     "outputs": [],
     "prompt_number": 33
    },
    {
     "cell_type": "code",
     "collapsed": false,
     "input": [
      "Psimap=np.zeros((len(lvrho[1,:,1,1]),len(Y)))"
     ],
     "language": "python",
     "metadata": {},
     "outputs": [],
     "prompt_number": 34
    },
    {
     "cell_type": "code",
     "collapsed": false,
     "input": [
      "for i in range(len(Y)):\n",
      "       for k in range(len(lvrho[1,:,1,1])):\n",
      "           D=Depth2[k,i]\n",
      "           I=find_nearest(Z,D)\n",
      "           if D==nan:\n",
      "              Psimap[k,i]=nan\n",
      "           else:\n",
      "               Psimap[k,i]=np.squeeze(psi[Z==I,i])"
     ],
     "language": "python",
     "metadata": {},
     "outputs": [],
     "prompt_number": 35
    },
    {
     "cell_type": "code",
     "collapsed": false,
     "input": [
      "#plt.contourf(y,Rho,psi,50,cmap=cm.seismic)\n",
      "plt.contourf(y,Z,Psimap,50,cmap=cm.seismic)\n",
      "clim(-(np.nanmax(abs(psi))),np.nanmax(abs(psi)))\n",
      "cbar = plt.colorbar()\n",
      "plt.title('MOC')\n",
      "plt.gca().invert_yaxis()\n",
      "#plt.annotate('NADW?', xy=(1000, 999.5), xytext=(1500, 998),arrowprops=dict(facecolor='black', shrink=0.05),)\n",
      "plt.xlabel('Distance (km)')\n",
      "plt.ylabel('Depth')\n",
      "cbar.ax.set_ylabel('Psi (sv)')"
     ],
     "language": "python",
     "metadata": {},
     "outputs": [
      {
       "metadata": {},
       "output_type": "pyout",
       "prompt_number": 36,
       "text": [
        "<matplotlib.text.Text at 0x28c7910>"
       ]
      },
      {
       "metadata": {},
       "output_type": "display_data",
       "png": "[encoded data removed]",
       "text": [
        "<matplotlib.figure.Figure at 0x2a19410>"
       ]
      }
     ],
     "prompt_number": 36
    },
    {
     "cell_type": "code",
     "collapsed": false,
     "input": [],
     "language": "python",
     "metadata": {},
     "outputs": [],
     "prompt_number": 37
    },
    {
     "cell_type": "code",
     "collapsed": false,
     "input": [],
     "language": "python",
     "metadata": {},
     "outputs": []
    }
   ],
   "metadata": {}
  }
 ]
}