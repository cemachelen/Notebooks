{
 "metadata": {
  "name": "",
  "signature": "sha256:ebcb8b621210da5ce7994b8d970ab6250e1fab885bf1e4cddc8a978692e6d85a"
 },
 "nbformat": 3,
 "nbformat_minor": 0,
 "worksheets": [
  {
   "cells": [
    {
     "cell_type": "raw",
     "metadata": {},
     "source": [
      "#! /usr/bin/env python chmod the file and just type Remap.py Iridis4 TEST 30-50"
     ]
    },
    {
     "cell_type": "code",
     "collapsed": false,
     "input": [
      "from scipy.io import netcdf\n",
      "import numpy as np\n",
      "from scipy.interpolate import interp1d\n",
      "from scipy import interpolate\n",
      "import matplotlib.pyplot as plt\n",
      "import os\n",
      "import csv\n",
      "import sys\n",
      "from scipy.interpolate import griddata as gdd\n",
      "from pylab import *\n",
      "from multiprocessing import Pool\n",
      "from numba import autojit"
     ],
     "language": "python",
     "metadata": {},
     "outputs": [],
     "prompt_number": 1
    },
    {
     "cell_type": "markdown",
     "metadata": {},
     "source": [
      "Calculate Diabatic Eddy Flux\n",
      "\n",
      "\n",
      "**Theory:**\n",
      "***\n",
      "Here's my thoughts:\n",
      "\n",
      "\\begin{equation}\n",
      "\\left. \\psi_{res}\\right|_{z=h_{ml}} = \\frac{\\partial b_0}{\\partial y} = \\tilde{B_0}\n",
      "\\end{equation}\n",
      "\n",
      "* So $\\psi_{res}$ is essentially set in the mixed layer - I guess this makes sense as it's the only place you can have diabatic fluxes. \n",
      "\n",
      "* $\\tilde{B_0}$ is the buoyancy supplied to the mixed layer by air-sea fluxes\n",
      "\n",
      "* TEM theory assumes lateral diabtic eddy fluxes are negliable so \n",
      "\\begin{equation}\n",
      "\\tilde{B_0} = B + D\n",
      "\\end{equation}\n",
      "where D=0 \n",
      "\n",
      "* I'm gonna argue they're not!\n",
      "\n",
      "* First lets find that diabatic component and see how it changes with changing NBC\n",
      "\n",
      "* Assuming that we see a noticable change can I find a relation betwen D and $B_N$ \n",
      "\n",
      "* Maybe plot $B_N$ vs $B_o(y)$ where B is kept constant and the relation to D *do i need to look at isopycnal slopes as well or is that again just a function of $B_N$*\n",
      "***\n",
      "\n",
      "**CODE:**\n",
      "\n",
      "First lets do a little test:\n",
      "\n",
      "\\begin{equation}\n",
      "\\psi_{iso}(y)\\frac{\\partial \\overline{b}}{\\partial y} \\simeq B + D\n",
      "\\end{equation}\n",
      "\n",
      "* First I need to calculate the ROC (isothermal stream function mapped back into depth space) $\\checkmark$\n",
      "\n",
      "* $B= (g \\alpha / \\rho_0 c_p)Q$\n",
      "\n",
      "* TEM theory would expect $\\left. \\psi_{iso}\\right|_{z=h_{ml}}$ to simply reflect B so we can find D by finding the difference between B and $\\psi_{iso}$\n",
      "\n",
      "* so to find B simply copy over the code from gendata $\\checkmark$\n",
      "\n",
      "* Abernathey approxmates everything as functions of vertically averaged buoyancy \n",
      "\n",
      "* So take b as:\n",
      "\\begin{equation}\n",
      "b=- g \\alpha T\n",
      "\\end{equation}\n",
      "\n",
      "* So for this load in Av Temp data. and mixed layer depth data\n",
      "\n",
      "* Find vertially averaged buoyancy of mixed layer\n",
      "\n",
      "* Borrow the code from mixed layer depth to integrate *(or mean?)* $\\psi_{iso}$ to mixed layer depth x  meridional gradient of buoyancy intems of the vertically averaged bouyancy. \n",
      "\n",
      "* This can also be done in temperature space - *is that easier?*\n",
      "\n",
      "* Code that up as well \n",
      "\n",
      "***\n",
      "\n",
      "**Results**\n",
      "\n",
      "* Looks like my diabatic eddy flux divengence changes considerably\n",
      "\n",
      "\\begin{equation}\n",
      "D= - \\int_{-hml}^0 (1- \\mu) \\frac{\\partial}{\\partial y}\\overline{v'b'} \\mathrm{d}z\n",
      "\\end{equation}\n",
      "\n",
      "* Make a plot of this showing 3, 300, 3000 values maybe?\n",
      "\n",
      "* Can I see any relationships e.g. D= -$\\kappa$ B \n",
      "\n",
      "* where $\\kappa$ is a function of $b_y$ which itself is a function of $b_n$ \n",
      "\n",
      "* I think this would be nice to descibe $b_y$ as a function of Q and the NBC as then you can adapt it for changing surface conditions as well maybe?\n",
      "\n",
      "\n",
      "\n"
     ]
    },
    {
     "cell_type": "code",
     "collapsed": false,
     "input": [
      "Comp = sys.argv[1]\n",
      "OP = sys.argv[2]\n",
      "Years = sys.argv[3]"
     ],
     "language": "python",
     "metadata": {},
     "outputs": [],
     "prompt_number": 2
    },
    {
     "cell_type": "code",
     "collapsed": false,
     "input": [
      "def find_nearest(array,value):\n",
      "    idx = (np.abs(array-value)).argmin()\n",
      "    return array[idx]"
     ],
     "language": "python",
     "metadata": {},
     "outputs": [],
     "prompt_number": 3
    },
    {
     "cell_type": "code",
     "collapsed": false,
     "input": [
      "Comp=\"Mobilis\"\n",
      "OP=\"3daynokpp\"\n",
      "Years=\"240-260\"\n",
      "x=\"/noc/msm/scratch/students/hb1g13/\"+Comp+\"/\"+OP\n",
      "os.chdir(x)"
     ],
     "language": "python",
     "metadata": {},
     "outputs": [],
     "prompt_number": 4
    },
    {
     "cell_type": "raw",
     "metadata": {},
     "source": [
      "First find Psi_res "
     ]
    },
    {
     "cell_type": "code",
     "collapsed": false,
     "input": [
      "Rho = np.genfromtxt('Temp', delimiter = ',') \n",
      "Rho=Rho[0:42]"
     ],
     "language": "python",
     "metadata": {},
     "outputs": [],
     "prompt_number": 5
    },
    {
     "cell_type": "code",
     "collapsed": false,
     "input": [
      "file = netcdf.NetCDFFile(Years+\"Psi.nc\",'r')\n",
      "lvrho=file.variables['LaVH1TH']\n",
      "lvrho=lvrho[:]\n",
      "Y=file.variables['Yp1']\n",
      "Y=Y[:]\n",
      "time=file.variables['T']\n",
      "ti=time[:]\n",
      "dx=Y[1]-Y[0]"
     ],
     "language": "python",
     "metadata": {},
     "outputs": [],
     "prompt_number": 6
    },
    {
     "cell_type": "code",
     "collapsed": false,
     "input": [
      "VT=np.sum(lvrho*dx,axis=3)\n",
      "VTf=VT[:,::-1,:]"
     ],
     "language": "python",
     "metadata": {},
     "outputs": [],
     "prompt_number": 7
    },
    {
     "cell_type": "code",
     "collapsed": false,
     "input": [
      "VTfdz=np.cumsum(VTf,axis=1)"
     ],
     "language": "python",
     "metadata": {},
     "outputs": [],
     "prompt_number": 8
    },
    {
     "cell_type": "code",
     "collapsed": false,
     "input": [
      "VTdx=VTfdz[:,::-1,:]\n",
      "psi=np.mean(VTdx,axis=0)/10**6\n",
      "y=Y/1000\n",
      "start=int(np.divide(ti[0],(86400*360)))\n",
      "end=int(np.divide(ti[-1],(86400*360)))"
     ],
     "language": "python",
     "metadata": {},
     "outputs": [],
     "prompt_number": 9
    },
    {
     "cell_type": "raw",
     "metadata": {},
     "source": [
      "Now Plot to check"
     ]
    },
    {
     "cell_type": "code",
     "collapsed": false,
     "input": [
      "file2 = netcdf.NetCDFFile(Years+\"all.nc\",'r')\n",
      "Temp=file2.variables['THETA']\n",
      "Temp=Temp[:]\n",
      "U=file2.variables['UVEL']\n",
      "U=U[:]"
     ],
     "language": "python",
     "metadata": {},
     "outputs": [],
     "prompt_number": 10
    },
    {
     "cell_type": "code",
     "collapsed": false,
     "input": [
      "Tav=np.mean(Temp,axis=0)\n",
      "Uav=np.mean(U,axis=0)"
     ],
     "language": "python",
     "metadata": {},
     "outputs": [],
     "prompt_number": 11
    },
    {
     "cell_type": "code",
     "collapsed": false,
     "input": [
      "file2 = netcdf.NetCDFFile('grid.nc','r')\n",
      "lm=file2.variables['HFacC']\n",
      "Yc=file2.variables['Y']\n",
      "Yc=Yc[:]\n",
      "Z=file2.variables['Z']\n",
      "Z=Z[:]\n",
      "X=file2.variables['X']\n",
      "X=X[:]"
     ],
     "language": "python",
     "metadata": {},
     "outputs": [],
     "prompt_number": 12
    },
    {
     "cell_type": "code",
     "collapsed": false,
     "input": [
      "Z=Z[:]\n",
      "lm=lm[:]\n",
      "lmc=np.array(lm)"
     ],
     "language": "python",
     "metadata": {},
     "outputs": [],
     "prompt_number": 13
    },
    {
     "cell_type": "code",
     "collapsed": false,
     "input": [
      "lmc[lmc<1]=np.nan"
     ],
     "language": "python",
     "metadata": {},
     "outputs": [],
     "prompt_number": 14
    },
    {
     "cell_type": "code",
     "collapsed": false,
     "input": [
      "Tavlat=np.mean(Tav,axis=2)\n",
      "Ulat=np.mean(Uav,axis=2)\n",
      "Yc=Yc/1000"
     ],
     "language": "python",
     "metadata": {},
     "outputs": [],
     "prompt_number": 15
    },
    {
     "cell_type": "code",
     "collapsed": false,
     "input": [
      "#Expand temperature co-ordinates (30 lvls to 42 lvls)\n",
      "T2=interp1d(Z,Tavlat,axis=0)\n",
      "Tnew=linspace(Z[0],Z[-1],168)\n",
      "Texp=T2(Tnew)"
     ],
     "language": "python",
     "metadata": {},
     "outputs": [],
     "prompt_number": 16
    },
    {
     "cell_type": "code",
     "collapsed": false,
     "input": [
      "Z2=interp1d(Z,Z,axis=0)\n",
      "Znew=linspace(Z[0],Z[-1],168)\n",
      "Zexp=Z2(Znew)\n",
      "R2=interp1d(Rho,Rho,axis=0)\n",
      "Rnew=linspace(Rho[0],Rho[-1],168)\n",
      "Rexp=R2(Rnew)\n",
      "P2=interp1d(Rho,psi,axis=0)\n",
      "Pnew=linspace(Rho[0],Rho[-1],168)\n",
      "Pexp=P2(Pnew)"
     ],
     "language": "python",
     "metadata": {},
     "outputs": [],
     "prompt_number": 17
    },
    {
     "cell_type": "code",
     "collapsed": false,
     "input": [
      "#D=np.linspace(np.nanmin(Densav), np.nanmax(Densav), num=9)\n",
      "plt.pcolor(Yc,Zexp,Texp,cmap=cm.seismic)\n",
      "cbar = plt.colorbar()\n",
      "#cbar = plt.colorbar(ticks=D,format='%0.2f')\n",
      "plt.title('Temp Field')\n",
      "plt.xlabel('Distance (km)')\n",
      "plt.ylabel('Depth')\n",
      "cbar.ax.set_ylabel('Temp $^o$C')\n",
      "x=\"/noc/users/hb1g13/Figures/\"+Comp+\"/\"+OP \n",
      "if not os.path.exists(x):\n",
      "       os.makedirs(x)\n",
      "#plt.savefig(x+'/TempField.png')"
     ],
     "language": "python",
     "metadata": {},
     "outputs": [
      {
       "metadata": {},
       "output_type": "display_data",
       "png": "[encoded data removed]",
       "text": [
        "<matplotlib.figure.Figure at 0x2ba8b0784150>"
       ]
      }
     ],
     "prompt_number": 18
    },
    {
     "cell_type": "code",
     "collapsed": false,
     "input": [
      "plt.pcolor(y,Rexp,Pexp,cmap=cm.seismic)\n",
      "cbar = plt.colorbar()\n",
      "clim((-np.nanmax(abs(psi)),np.nanmax(abs(psi))))\n",
      "plt.title(\"RMOC for years \"+str(start)+\"-\"+str(end)+\" \")\n",
      "plt.xlabel('Distance (km)')\n",
      "plt.ylabel('Temperature $^o$C')\n",
      "cbar.ax.set_ylabel(\"$\\psi \\,\\, (sv)$\")\n",
      "#plt.text(1500, 4, r\"AAIW\", fontsize=17, color=\"white\")\n",
      "#plt.text(1500, 1.5, r\"NADW\", fontsize=16, color=\"white\")\n",
      "#plt.text(1500, 0, r\"AABW\", fontsize=16, color=\"white\")\n",
      "x=\"/noc/users/hb1g13/Figures/\"+Comp+\"/\"+OP\n",
      "if not os.path.exists(x):\n",
      "       os.makedirs(x)\n",
      "plt.savefig(x+\"/Psires\"+str(start)+\"-\"+str(end)+\"(annotated).png\")"
     ],
     "language": "python",
     "metadata": {},
     "outputs": [
      {
       "metadata": {},
       "output_type": "display_data",
       "png": "[encoded data removed]",
       "text": [
        "<matplotlib.figure.Figure at 0x2ba8c20da4d0>"
       ]
      }
     ],
     "prompt_number": 19
    },
    {
     "cell_type": "code",
     "collapsed": false,
     "input": [
      "Psimap=np.zeros(shape(Texp))"
     ],
     "language": "python",
     "metadata": {},
     "outputs": [],
     "prompt_number": 20
    },
    {
     "cell_type": "code",
     "collapsed": false,
     "input": [
      "temp=np.zeros(shape(Texp))\n",
      "for j in range((len(Yc))):\n",
      "    for k in range((len(Zexp))):\n",
      "        temp[k,j]=round(Texp[k,j],2)"
     ],
     "language": "python",
     "metadata": {},
     "outputs": [],
     "prompt_number": 21
    },
    {
     "cell_type": "code",
     "collapsed": false,
     "input": [
      "for i in range(len(Yc)):\n",
      "    for k in range(168):\n",
      "        D=Texp[k,i]\n",
      "        if D==nan:\n",
      "           Psimap[k,i]=nan\n",
      "        else:\n",
      "            P=Pexp[:,i]\n",
      "            I=find_nearest(Rexp, D)\n",
      "            b=nonzero(Rexp==I)[0][0]\n",
      "            Psimap[k,i]=P[b]"
     ],
     "language": "python",
     "metadata": {},
     "outputs": [],
     "prompt_number": 22
    },
    {
     "cell_type": "code",
     "collapsed": false,
     "input": [
      "plot1=plt.pcolor(Yc,Zexp,Psimap,cmap=cm.seismic)\n",
      "cbar = plt.colorbar()\n",
      "clim(-1,1)\n",
      "plt.title('Remapped Stream Function')\n",
      "plt.xlabel('Distance (km)')\n",
      "plt.ylabel('Depth')\n",
      "cbar.ax.set_ylabel('$\\psi_{res}$ (Sv)')\n",
      "x=\"/noc/users/hb1g13/Figures/\"+Comp+\"/\"+OP \n",
      "if not os.path.exists(x):\n",
      "       os.makedirs(x)\n",
      "y=x+\"/Reampped\"+Years+\".png\" \n",
      "plt.savefig(y)"
     ],
     "language": "python",
     "metadata": {},
     "outputs": [
      {
       "metadata": {},
       "output_type": "display_data",
       "png": "[encoded data removed]",
       "text": [
        "<matplotlib.figure.Figure at 0x2ba8c224db90>"
       ]
      }
     ],
     "prompt_number": 23
    },
    {
     "cell_type": "code",
     "collapsed": false,
     "input": [
      "# Adjust accordingly\n",
      "Res=5000\n",
      "Ly=2000e3\n",
      "Lx=4000e3 #Full domain = 4000km otherwise 1000km\n",
      "H=2985 # Diffusion = 3800m, Sponge = 2985m\n",
      "nz=30 # Diffusion = 24 level, Sponge= 30 levels\n",
      "#Dimensions\n",
      "nx=np.round(Lx/Res)\n",
      "ny=np.round(Ly/Res)\n",
      "dx=np.ones(nx)*Res\n",
      "dy=np.ones(ny)*Res\n",
      "x=(np.cumsum(dx)-dx/2)-Lx/2\n",
      "y=(np.cumsum(dy)-dy/2)-Ly/2\n",
      "[Y, X]=np.meshgrid(y,x) \n",
      "Q=10*(np.sin(Y*(3*pi/Ly)))\n",
      "Q[:,ny-(np.round(ny/6)):ny]=0\n",
      "Q=np.zeros(np.shape(Q))\n",
      "Q[:,0:int(5*ny/36)]=-11*(np.sin(Y[:,0:int(5*ny/36)]*(pi/Y[1,int(5*ny/36)])))\n",
      "Q[:,int(5*ny/36):int(20*ny/36)]=10*(np.sin((Y[:,int(5*ny/36):int(20*ny/36)]-Y[1,int(5*ny/36)])*(pi/(5*Y[1,int(15*ny/36)]))))\n",
      "Q[:,int(20*ny/36):int(30*ny/36)]=-10.5*(np.sin((Y[:,int(20*ny/36):int(30*ny/36)]-Y[1,int(20*ny/36)])*(0.8*pi/(Y[1,int(10*ny/36)]))))\n",
      "Q=Q+(-sum(Q)/(ny*nx)) "
     ],
     "language": "python",
     "metadata": {},
     "outputs": [],
     "prompt_number": 24
    },
    {
     "cell_type": "code",
     "collapsed": false,
     "input": [
      "plt.plot(Yc,(g*alpha/(rho_0*C_p))*np.sum(Psimap[0:6,:],axis=0))"
     ],
     "language": "python",
     "metadata": {},
     "outputs": [
      {
       "ename": "NameError",
       "evalue": "name 'g' is not defined",
       "output_type": "pyerr",
       "traceback": [
        "\u001b[1;31m---------------------------------------------------------------------------\u001b[0m\n\u001b[1;31mNameError\u001b[0m                                 Traceback (most recent call last)",
        "\u001b[1;32m<ipython-input-25-5f941c0be3ff>\u001b[0m in \u001b[0;36m<module>\u001b[1;34m()\u001b[0m\n\u001b[1;32m----> 1\u001b[1;33m \u001b[0mplt\u001b[0m\u001b[1;33m.\u001b[0m\u001b[0mplot\u001b[0m\u001b[1;33m(\u001b[0m\u001b[0mYc\u001b[0m\u001b[1;33m,\u001b[0m\u001b[1;33m(\u001b[0m\u001b[0mg\u001b[0m\u001b[1;33m*\u001b[0m\u001b[0malpha\u001b[0m\u001b[1;33m/\u001b[0m\u001b[1;33m(\u001b[0m\u001b[0mrho_0\u001b[0m\u001b[1;33m*\u001b[0m\u001b[0mC_p\u001b[0m\u001b[1;33m)\u001b[0m\u001b[1;33m)\u001b[0m\u001b[1;33m*\u001b[0m\u001b[0mnp\u001b[0m\u001b[1;33m.\u001b[0m\u001b[0msum\u001b[0m\u001b[1;33m(\u001b[0m\u001b[0mPsimap\u001b[0m\u001b[1;33m[\u001b[0m\u001b[1;36m0\u001b[0m\u001b[1;33m:\u001b[0m\u001b[1;36m6\u001b[0m\u001b[1;33m,\u001b[0m\u001b[1;33m:\u001b[0m\u001b[1;33m]\u001b[0m\u001b[1;33m,\u001b[0m\u001b[0maxis\u001b[0m\u001b[1;33m=\u001b[0m\u001b[1;36m0\u001b[0m\u001b[1;33m)\u001b[0m\u001b[1;33m)\u001b[0m\u001b[1;33m\u001b[0m\u001b[0m\n\u001b[0m",
        "\u001b[1;31mNameError\u001b[0m: name 'g' is not defined"
       ]
      }
     ],
     "prompt_number": 25
    },
    {
     "cell_type": "code",
     "collapsed": false,
     "input": [
      "alpha=2.000000E-04\n",
      "g=9.81\n",
      "rho_0=1000\n",
      "C_p=3985"
     ],
     "language": "python",
     "metadata": {},
     "outputs": []
    },
    {
     "cell_type": "code",
     "collapsed": false,
     "input": [
      "Psipred=(g*alpha/(rho_0*C_p))*-(Q[1,:])"
     ],
     "language": "python",
     "metadata": {},
     "outputs": []
    },
    {
     "cell_type": "code",
     "collapsed": false,
     "input": [
      "plt.plot(Yc,(Psipred))\n",
      "plt.plot(Yc,(g*alpha/(rho_0*C_p))*np.sum(Psimap[0:10,:],axis=0))"
     ],
     "language": "python",
     "metadata": {},
     "outputs": []
    },
    {
     "cell_type": "code",
     "collapsed": false,
     "input": [
      "D=(g*alpha/(rho_0*C_p))*np.sum(Psimap[0:10,:],axis=0)-Psipred"
     ],
     "language": "python",
     "metadata": {},
     "outputs": []
    },
    {
     "cell_type": "code",
     "collapsed": false,
     "input": [
      "plt.plot(Yc,(D))\n",
      "plt.plot(Yc,(g*alpha/(rho_0*C_p))*np.sum(Psimap[0:10,:],axis=0),'k')\n",
      "plt.plot(Yc,(Psipred),'r')"
     ],
     "language": "python",
     "metadata": {},
     "outputs": []
    },
    {
     "cell_type": "code",
     "collapsed": false,
     "input": [
      "Zexp[10]"
     ],
     "language": "python",
     "metadata": {},
     "outputs": []
    },
    {
     "cell_type": "code",
     "collapsed": false,
     "input": [],
     "language": "python",
     "metadata": {},
     "outputs": []
    }
   ],
   "metadata": {}
  }
 ]
}