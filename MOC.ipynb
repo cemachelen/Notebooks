{
 "metadata": {
  "name": "",
  "signature": "sha256:580afc7506595e99876464a667f468be25a6124c8b2b65c2cfeea76ce0881967"
 },
 "nbformat": 3,
 "nbformat_minor": 0,
 "worksheets": [
  {
   "cells": [
    {
     "cell_type": "heading",
     "level": 1,
     "metadata": {},
     "source": [
      "MOC"
     ]
    },
    {
     "cell_type": "raw",
     "metadata": {},
     "source": [
      "#! /usr/bin/env python                                                                  \n",
      "#This script takes two arguments:                                                        \n",
      "#                                1) The computer Nautilus, Iridis4 or Mobylus                        \n",
      "#                                2) The folder name in the msm file structure                        \n",
      "#It will then calculate the MOC and draw a picture for all files in that folder         \n",
      "#and save the figures in ~/Figures/Folder.                                              \n",
      "#For many years please use MOC_parallel                                                  \n",
      "#For spinup timeseriec please use the Spin up diagnostics notebook.                      \n",
      "###################################################################                      \n",
      "###################################################################                      \n",
      "#--Import modules--# "
     ]
    },
    {
     "cell_type": "code",
     "collapsed": false,
     "input": [
      "from scipy.io import netcdf\n",
      "import numpy as np\n",
      "from pylab import clf, plot, show, floor, ceil, imshow\n",
      "from matplotlib.pyplot import xlabel, ylabel, legend, savefig, colorbar, title, clim, pcolor, cm, con\\\n",
      "tourf\n",
      "import os\n",
      "import csv\n",
      "import sys\n",
      "import glob\n",
      "from numba import autojit\n",
      "from IPython.display import display, Math, Latex\n",
      "#sys.path.append('/noc/users/hb1g13/Python/python_functions/')\n",
      "#from Variable_button import *"
     ],
     "language": "python",
     "metadata": {},
     "outputs": [],
     "prompt_number": 13
    },
    {
     "cell_type": "raw",
     "metadata": {},
     "source": [
      "#--Take terminal inputs--#                                                              \n",
      "Comp = sys.argv[1]\n",
      "OP = sys.argv[2]\n",
      "#--Set folder structure--#                                                              \n",
      "x=\"/noc/msm/scratch/students/hb1g13/\"+Comp+\"/\"+OP+\"/glued_state_files/\"\n",
      "lists=glob.glob(x+'*.nc')\n",
      "os.chdir(x)\n",
      "#--Main For loop--#                                                                      \n",
      "#For every .nc file in the folder                                                        \n",
      "#Read in netcdf variables                                                                \n",
      "#Decide resolution                                                                      \n",
      "#Find grid info                                                                          \n",
      "#Calculate the streamfunction                                                            \n",
      "#Draw a picture and save it                                                              \n",
      "for file in lists:\n"
     ]
    },
    {
     "cell_type": "code",
     "collapsed": false,
     "input": [
      "Comp=\"Mobilis\"\n",
      "OP=\"Ryan_myedits\"\n",
      "Years=\"0-20\"\n",
      "x=\"/noc/msm/scratch/students/hb1g13/\"+Comp+\"/\"+OP+\"/glued_state_files/\"\n",
      "lists=glob.glob(x+'*.nc')\n",
      "os.chdir(x)"
     ],
     "language": "python",
     "metadata": {},
     "outputs": [],
     "prompt_number": 2
    },
    {
     "cell_type": "code",
     "collapsed": false,
     "input": [
      "x=\"/noc/msm/scratch/students/hb1g13/\"+Comp+\"/\"+OP+\"/glued_state_files/\"\n",
      "os.chdir(x)\n",
      "file2read = netcdf.NetCDFFile(Years+\"all.nc\",'r')\n",
      "Y=file2read.variables['Yp1']\n",
      "Y=Y[:]\n",
      "V=file2read.variables['V']\n",
      "V=V[:]\n",
      "Z=file2read.variables['Z']\n",
      "Z=Z[:]\n",
      "I=file2read.variables['iter']\n",
      "I=I[:]"
     ],
     "language": "python",
     "metadata": {},
     "outputs": [],
     "prompt_number": 3
    },
    {
     "cell_type": "code",
     "collapsed": false,
     "input": [
      "if Comp=='Nautilus':\n",
      "          dx = 6666.66677\n",
      "          t=69120\n",
      "else: \n",
      "    dx=5000\n",
      "    t=86400\n"
     ],
     "language": "python",
     "metadata": {},
     "outputs": [],
     "prompt_number": 4
    },
    {
     "cell_type": "code",
     "collapsed": false,
     "input": [
      "display(Latex(r'The meridional overturning streamfunction, $\\overline{\\psi}$, is calculated as as follows:'))\n",
      "display(Math(r'\\overline{\\psi} = \\int_{x_e}^{x_w}\\int_{-H}^{0} \\overline{v}\\, dzdx'))"
     ],
     "language": "python",
     "metadata": {},
     "outputs": [
      {
       "latex": [
        "The meridional overturning streamfunction, $\\overline{\\psi}$, is calculated as as follows:"
       ],
       "metadata": {},
       "output_type": "display_data",
       "text": [
        "<IPython.core.display.Latex at 0x2484ad0>"
       ]
      },
      {
       "latex": [
        "$$\\overline{\\psi} = \\int_{x_e}^{x_w}\\int_{-H}^{0} \\overline{v}\\, dzdx$$"
       ],
       "metadata": {},
       "output_type": "display_data",
       "text": [
        "<IPython.core.display.Math at 0x2484990>"
       ]
      }
     ],
     "prompt_number": 5
    },
    {
     "cell_type": "code",
     "collapsed": false,
     "input": [
      "def runningMeanFast(x, N):\n",
      "    return np.convolve(x, np.ones((N,))/N)[(N-1):]"
     ],
     "language": "python",
     "metadata": {},
     "outputs": [],
     "prompt_number": 7
    },
    {
     "cell_type": "code",
     "collapsed": false,
     "input": [
      "nb_rmean=autojit()(runningMeanFast)\n",
      "nb_rmean.func_name='nb_rmean'"
     ],
     "language": "python",
     "metadata": {},
     "outputs": [],
     "prompt_number": 14
    },
    {
     "cell_type": "code",
     "collapsed": false,
     "input": [
      "Vav=np.apply_along_axis(nb_rmean,0,V*1, 12)"
     ],
     "language": "python",
     "metadata": {},
     "outputs": [],
     "prompt_number": 16
    },
    {
     "cell_type": "code",
     "collapsed": false,
     "input": [
      "Vtave=np.mean(V,axis = 0)\n",
      "grd=\"/noc/msm/scratch/students/hb1g13/\"+Comp+\"/\"+OP+\"/grid/\"\n",
      "os.chdir(grd)\n",
      "file2=netcdf.netcdf_file('grid.nc','r')\n",
      "Zp1=file2.variables['Zp1']\n",
      "Zp=Zp1[:]\n",
      "Vtave[Vtave==0]=np.nan\n",
      "Vzone=np.nansum(Vtave*dx,axis = 2)\n",
      "dz=Zp[0:len(Zp)-1]-Zp[1:len(Zp)]\n",
      "# No more super slow forloop!\n",
      "psi2=np.apply_along_axis(np.multiply,0,Vzone,dz)\n",
      "psi3=np.cumsum(-psi2[::-1,:],axis=0)\n",
      "npad = ((0,1), (0,0))\n",
      "psi4 = np.pad(psi3, pad_width=npad, mode='constant', constant_values=0)\n",
      "y =Y/1000\n",
      "Psi=psi/10**6 #Convert to Sv \n",
      "Psi2=psi4/10**6"
     ],
     "language": "python",
     "metadata": {},
     "outputs": [],
     "prompt_number": 63
    },
    {
     "cell_type": "raw",
     "metadata": {},
     "source": [
      "Now plot it with a nice format."
     ]
    },
    {
     "cell_type": "code",
     "collapsed": false,
     "input": [
      "contourf(y,Zp,Psi,50,cmap=cm.seismic) #Use b2r colourmap                                       \n",
      "clim(-(np.nanmax(abs(Psi2))),np.nanmax(abs(Psi2))) # Put 0 to white                                        \n",
      "cbar = colorbar()\n",
      "title(\"MOC year \"+str(I[0]/t))\n",
      "xlabel('Distance (km)')\n",
      "ylabel('Density')\n",
      "cbar.ax.set_ylabel('Psi (sv)')\n",
      "x=\"/noc/users/hb1g13/Figures/\"+Comp+\"/\"+OP\n",
      "os.chdir(x)\n",
      "y=\"MOC\"+str(I[0]/t)+\".png\"\n",
      "savefig(y)\n",
      "# clf()\n"
     ],
     "language": "python",
     "metadata": {},
     "outputs": [
      {
       "metadata": {},
       "output_type": "display_data",
       "png": "[encoded data removed]",
       "text": [
        "<matplotlib.figure.Figure at 0x4319a50>"
       ]
      }
     ],
     "prompt_number": 64
    },
    {
     "cell_type": "code",
     "collapsed": false,
     "input": [],
     "language": "python",
     "metadata": {},
     "outputs": [],
     "prompt_number": 7
    }
   ],
   "metadata": {}
  }
 ]
}