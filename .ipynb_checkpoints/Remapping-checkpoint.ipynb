{
 "metadata": {
  "name": "",
  "signature": "sha256:754e8b8512841cd9312789717819b796342dee4018a13385362319ee7183c20d"
 },
 "nbformat": 3,
 "nbformat_minor": 0,
 "worksheets": [
  {
   "cells": [
    {
     "cell_type": "raw",
     "metadata": {},
     "source": [
      "#! /usr/bin/env python chmod the file and just type Remap.py Iridis4 TEST 30-50"
     ]
    },
    {
     "cell_type": "code",
     "collapsed": false,
     "input": [
      "from scipy.io import netcdf\n",
      "import numpy as np\n",
      "import matplotlib.pyplot as plt\n",
      "import os\n",
      "import csv\n",
      "import sys\n",
      "from scipy.interpolate import griddata\n",
      "from pylab import *\n",
      "from multiprocessing import Pool"
     ],
     "language": "python",
     "metadata": {},
     "outputs": [],
     "prompt_number": 1
    },
    {
     "cell_type": "code",
     "collapsed": false,
     "input": [
      "Comp = sys.argv[1]\n",
      "OP = sys.argv[2]\n",
      "Years = sys.argv[3]"
     ],
     "language": "python",
     "metadata": {},
     "outputs": [],
     "prompt_number": 2
    },
    {
     "cell_type": "code",
     "collapsed": false,
     "input": [
      "def find_nearest(array,value):\n",
      "    idx = (np.abs(array-value)).argmin()\n",
      "    return array[idx]"
     ],
     "language": "python",
     "metadata": {},
     "outputs": [],
     "prompt_number": 3
    },
    {
     "cell_type": "code",
     "collapsed": false,
     "input": [
      "Comp=\"Mobilis\"\n",
      "OP=\"Ryan_myedits\"\n",
      "Years=\"220-230\"\n",
      "dx=5000.0\n",
      "x=\"/noc/msm/scratch/students/hb1g13/\"+Comp+\"/\"+OP+\"/Psi_temp/\" \n",
      "os.chdir(x)"
     ],
     "language": "python",
     "metadata": {},
     "outputs": [],
     "prompt_number": 4
    },
    {
     "cell_type": "raw",
     "metadata": {},
     "source": [
      "First find Psi_res "
     ]
    },
    {
     "cell_type": "code",
     "collapsed": false,
     "input": [
      "Rho = np.genfromtxt('./Temp', delimiter = ',') \n",
      "Rho=Rho[0:42]"
     ],
     "language": "python",
     "metadata": {},
     "outputs": [],
     "prompt_number": 5
    },
    {
     "cell_type": "code",
     "collapsed": false,
     "input": [
      "file = netcdf.NetCDFFile(Years+\"Psi.nc\",'r')\n",
      "lvrho=file.variables['LaVH1TH']\n",
      "lvrho=lvrho[:]\n",
      "Y=file.variables['Yp1']\n",
      "Y=Y[:]"
     ],
     "language": "python",
     "metadata": {},
     "outputs": []
    },
    {
     "cell_type": "code",
     "collapsed": false,
     "input": [
      "VT=np.sum(lvrho*dx,axis=3)\n",
      "VTf=VT[:,::-1,:]"
     ],
     "language": "python",
     "metadata": {},
     "outputs": []
    },
    {
     "cell_type": "code",
     "collapsed": false,
     "input": [
      "VTfdz=np.cumsum(VTf,axis=1)"
     ],
     "language": "python",
     "metadata": {},
     "outputs": []
    },
    {
     "cell_type": "code",
     "collapsed": false,
     "input": [
      "VTdx=VTfdz[:,::-1,:]\n",
      "psi=np.mean(VTdx,axis=0)/10**6\n",
      "y=Y/1000\n",
      "z=np.array(range(1,42))"
     ],
     "language": "python",
     "metadata": {},
     "outputs": []
    },
    {
     "cell_type": "raw",
     "metadata": {},
     "source": [
      "Now Plot to check"
     ]
    },
    {
     "cell_type": "code",
     "collapsed": false,
     "input": [
      "#plt.contourf(y,Rho,psi,50,cmap=cm.seismic)\n",
      "plt.contourf(y,Rho,psi,50,cmap=cm.seismic)\n",
      "cbar = plt.colorbar()\n",
      "clim((-np.nanmax(abs(psi)),np.nanmax(abs(psi))))\n",
      "plt.title('MOC')\n",
      "#plt.gca().invert_yaxis()\n",
      "#plt.annotate('NADW?', xy=(1000, 999.5), xytext=(1500, 998),arrowprops=dict(facecolor='black', shrink=0.05),)\n",
      "plt.xlabel('Distance (km)')\n",
      "plt.ylabel('Density')\n",
      "cbar.ax.set_ylabel('Psi (sv)')"
     ],
     "language": "python",
     "metadata": {},
     "outputs": []
    },
    {
     "cell_type": "raw",
     "metadata": {},
     "source": [
      "x=\"/noc/users/hb1g13/Figures/\"+Comp+\"/\"+OP \n",
      "os.chdir(x)\n",
      "plt.savefig('Psi_res_python.png')"
     ]
    },
    {
     "cell_type": "raw",
     "metadata": {},
     "source": [
      "Now find the density field"
     ]
    },
    {
     "cell_type": "code",
     "collapsed": false,
     "input": [
      "x=\"/noc/msm/scratch/students/hb1g13/\"+Comp+\"/\"+OP+\"/glued_state_files/\" \n",
      "os.chdir(x)"
     ],
     "language": "python",
     "metadata": {},
     "outputs": []
    },
    {
     "cell_type": "code",
     "collapsed": false,
     "input": [
      "tref = np.genfromtxt('./Tref.file', delimiter = ',') \n",
      "tref=tref[:]\n"
     ],
     "language": "python",
     "metadata": {},
     "outputs": []
    },
    {
     "cell_type": "code",
     "collapsed": false,
     "input": [
      "file2 = netcdf.NetCDFFile(Years+\"all.nc\",'r')\n",
      "Temp=file2.variables['Temp']\n",
      "Temp=Temp[:]\n",
      "Yc=file2.variables['Y']\n",
      "Yc=Yc[:]\n",
      "Z=file2.variables['Z']\n",
      "Z=Z[:]\n",
      "X=file2.variables['X']\n",
      "X=X[:]"
     ],
     "language": "python",
     "metadata": {},
     "outputs": []
    },
    {
     "cell_type": "code",
     "collapsed": false,
     "input": [
      "Tav=np.mean(Temp,axis=0)"
     ],
     "language": "python",
     "metadata": {},
     "outputs": []
    },
    {
     "cell_type": "code",
     "collapsed": false,
     "input": [
      "x=\"/noc/msm/scratch/students/hb1g13/\"+Comp+\"/\"+OP+\"/grid/\" \n",
      "os.chdir(x)"
     ],
     "language": "python",
     "metadata": {},
     "outputs": []
    },
    {
     "cell_type": "code",
     "collapsed": false,
     "input": [
      "file2 = netcdf.NetCDFFile('grid.nc','r')\n",
      "lm=file2.variables['HFacC']\n"
     ],
     "language": "python",
     "metadata": {},
     "outputs": []
    },
    {
     "cell_type": "code",
     "collapsed": false,
     "input": [
      "Rhonil=999.8\n",
      "tAlpha=2*10**-4\n",
      "#Dens=np.zeros(shape(Tav))\n",
      "Z=Z[:]\n",
      "lm=lm[:]\n",
      "lmc=np.array(lm)"
     ],
     "language": "python",
     "metadata": {},
     "outputs": []
    },
    {
     "cell_type": "code",
     "collapsed": false,
     "input": [
      "#tref=tref[::-1]"
     ],
     "language": "python",
     "metadata": {},
     "outputs": []
    },
    {
     "cell_type": "code",
     "collapsed": false,
     "input": [
      "lmc[lmc<1]=np.nan"
     ],
     "language": "python",
     "metadata": {},
     "outputs": []
    },
    {
     "cell_type": "raw",
     "metadata": {},
     "source": [
      "for k in range(0,len(X)):\n",
      "  for j in range(0,len(Yc)):\n",
      "      for i in range(0,len(Z)):\n",
      "          Dens[i,j,k]=Rhonil*(1-(tAlpha*(Tav[i,j,k]-0)))\n",
      "\n",
      "               "
     ]
    },
    {
     "cell_type": "code",
     "collapsed": false,
     "input": [
      "#Dens=np.multiply(Dens,lmc)\n",
      "#Densav=np.mean(Dens,axis=2)\n",
      "Tavlat=np.mean(Tav,axis=2)\n",
      "#Densav[Densav==0]=np.nan\n",
      "Yc=Yc/1000"
     ],
     "language": "python",
     "metadata": {},
     "outputs": []
    },
    {
     "cell_type": "code",
     "collapsed": false,
     "input": [
      "#D=np.linspace(np.nanmin(Densav), np.nanmax(Densav), num=9)\n",
      "plt.contour(Yc,Z,Tavlat,50,cmap=cm.seismic)\n",
      "cbar = plt.colorbar()\n",
      "#cbar = plt.colorbar(ticks=D,format='%0.2f')\n",
      "plt.title('Temp Field')\n",
      "plt.xlabel('Distance (km)')\n",
      "plt.ylabel('Depth')\n",
      "cbar.ax.set_ylabel('Density')\n",
      "x=\"/noc/users/hb1g13/Figures/\"+Comp+\"/\"+OP \n",
      "os.chdir(x)\n",
      "plt.savefig('DensityField_python.png')"
     ],
     "language": "python",
     "metadata": {},
     "outputs": []
    },
    {
     "cell_type": "raw",
     "metadata": {},
     "source": [
      "plt.contour(Yc,Z,Tavlat,50,cmap=cm.seismic)\n",
      "cbar = plt.colorbar()\n",
      "#cbar = plt.colorbar(ticks=D,format='%0.2f')\n",
      "plt.title('Temp Field')\n",
      "plt.xlabel('Distance (km)')\n",
      "plt.ylabel('Depth')\n",
      "cbar.ax.set_ylabel('Temp')\n",
      "x=\"/noc/users/hb1g13/Figures/\"+Comp+\"/\"+OP \n",
      "os.chdir(x)\n",
      "plt.savefig('TempField_python.png')"
     ]
    },
    {
     "cell_type": "raw",
     "metadata": {},
     "source": [
      "Now to remap the Psi(Y,Rho) to Psi(Y,Z)"
     ]
    },
    {
     "cell_type": "code",
     "collapsed": false,
     "input": [
      "Psimap=np.zeros(shape(Tavlat))"
     ],
     "language": "python",
     "metadata": {},
     "outputs": []
    },
    {
     "cell_type": "code",
     "collapsed": false,
     "input": [
      "for i in range(len(Yc)):\n",
      "    for k in range(len(Z)):\n",
      "        #D=Densav[k,i]\n",
      "        D=Tavlat[k,i]\n",
      "        if D==nan:\n",
      "           Psimap[k,i]=nan\n",
      "        else:\n",
      "            P=psi[:,i]\n",
      "            I=find_nearest(Rho, D)\n",
      "            b=nonzero(Rho==I)[0][0]\n",
      "            Psimap[k,i]=P[b]"
     ],
     "language": "python",
     "metadata": {},
     "outputs": []
    },
    {
     "cell_type": "code",
     "collapsed": false,
     "input": [
      "lmav=np.mean(lmc,axis=2)"
     ],
     "language": "python",
     "metadata": {},
     "outputs": []
    },
    {
     "cell_type": "code",
     "collapsed": false,
     "input": [
      "Psimapped=np.multiply(Psimap,lmav)\n",
      "Psimapped[Psimapped==0]=np.nan"
     ],
     "language": "python",
     "metadata": {},
     "outputs": []
    },
    {
     "cell_type": "code",
     "collapsed": false,
     "input": [
      "plot1=plt.contourf(Yc,Z,Psimapped,150,cmap=cm.seismic)\n",
      "cbar = plt.colorbar()\n",
      "clim(-(np.nanmax(abs(psi))),np.nanmax(abs(psi)))\n",
      "plt.title('Remapped Stream Function')\n",
      "plt.xlabel('Distance (km)')\n",
      "plt.ylabel('Depth')\n",
      "cbar.ax.set_ylabel('Streamfunction (Sv)')\n",
      "x=\"/noc/users/hb1g13/Figures/\"+Comp+\"/\"+OP \n",
      "os.chdir(x) \n",
      "y=\"Reampped\"+Years+\".png\" \n",
      "plt.savefig(y)"
     ],
     "language": "python",
     "metadata": {},
     "outputs": []
    },
    {
     "cell_type": "markdown",
     "metadata": {},
     "source": [
      "x=\"/noc/users/hb1g13/Figures/\"+Comp+\"/\"+OP \n",
      "os.chdir(x)\n",
      "y=\"Reampped\"+Years+\".png\"\n",
      "plt.savefig(y)"
     ]
    }
   ],
   "metadata": {}
  }
 ]
}