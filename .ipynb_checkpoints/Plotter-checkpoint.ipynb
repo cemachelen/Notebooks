{
 "metadata": {
  "name": "",
  "signature": "sha256:1c5d66dc14dc72b98a895da1d806bf0873d1af0a61431be28380e67fd107c24b"
 },
 "nbformat": 3,
 "nbformat_minor": 0,
 "worksheets": [
  {
   "cells": [
    {
     "cell_type": "code",
     "collapsed": false,
     "input": [
      "import matplotlib.pyplot as plt"
     ],
     "language": "python",
     "metadata": {},
     "outputs": [],
     "prompt_number": 12
    },
    {
     "cell_type": "code",
     "collapsed": false,
     "input": [
      "days=[3,10,30,100,300,1000]"
     ],
     "language": "python",
     "metadata": {},
     "outputs": [],
     "prompt_number": 13
    },
    {
     "cell_type": "code",
     "collapsed": false,
     "input": [
      "NADW=[0.525,0.516, 0.387,0.465,1.116,0.584]\n",
      "AABW=[0.271,0.264,0.404,0.267,0.376,0.222]\n",
      "AAIW=[0.271,0.264,0.392,0.267,0.376,0.220]\n"
     ],
     "language": "python",
     "metadata": {},
     "outputs": [],
     "prompt_number": 14
    },
    {
     "cell_type": "code",
     "collapsed": false,
     "input": [
      "#fig = figure()\n",
      "plt.scatter(days,NADW,'r',marker='s',)\n",
      "plt.scatter(days,AABW,'b',marker='*',)\n",
      "plt.scatter(days,AAIW,'k',marker='+',)\n",
      "#ax = plt.gca()\n",
      "#ax.set_xscale('log')\n",
      "#plt.title('Mean strength of overturning cells for each')\n",
      "#plt.ylabel('Streamfuction (Sv)')\n",
      "#plt.xlabel('Sponge restoring timescale (days)')\n",
      "#plt.legend((A,B,C),('NADW Cell','AABW Cell','AAIW Cell'))"
     ],
     "language": "python",
     "metadata": {},
     "outputs": [
      {
       "metadata": {},
       "output_type": "pyout",
       "prompt_number": 15,
       "text": [
        "<matplotlib.collections.PathCollection at 0x2b95601268d0>"
       ]
      },
      {
       "metadata": {},
       "output_type": "display_data",
       "text": [
        "<matplotlib.figure.Figure at 0x2a99210>"
       ]
      }
     ],
     "prompt_number": 15
    },
    {
     "cell_type": "code",
     "collapsed": false,
     "input": [],
     "language": "python",
     "metadata": {},
     "outputs": []
    }
   ],
   "metadata": {}
  }
 ]
}