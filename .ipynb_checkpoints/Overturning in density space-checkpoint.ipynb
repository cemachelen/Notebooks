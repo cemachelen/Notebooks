{
 "metadata": {
  "name": "",
  "signature": "sha256:523f3dc99c2295dce938b963b144ca416a54904f8149b688d71333a9a3f2fda4"
 },
 "nbformat": 3,
 "nbformat_minor": 0,
 "worksheets": [
  {
   "cells": [
    {
     "cell_type": "code",
     "collapsed": false,
     "input": [
      "from scipy.io import netcdf\n",
      "import numpy as np\n",
      "import matplotlib.pyplot as plt\n",
      "import os\n",
      "import csv\n",
      "import sys\n",
      "from pylab import *"
     ],
     "language": "python",
     "metadata": {},
     "outputs": [],
     "prompt_number": 47
    },
    {
     "cell_type": "code",
     "collapsed": false,
     "input": [
      "Comp=\"Mobilis\"\n",
      "OP=\"10day\"\n",
      "Years=\"245-250\"\n",
      "x=\"/noc/msm/scratch/students/hb1g13/\"+Comp+\"/\"+OP\n",
      "os.chdir(x)"
     ],
     "language": "python",
     "metadata": {},
     "outputs": [],
     "prompt_number": 48
    },
    {
     "cell_type": "code",
     "collapsed": false,
     "input": [
      "file = netcdf.NetCDFFile(Years+\"Psi.nc\",'r')\n",
      "lvrho=file.variables['LaVH1TH']\n",
      "lvrho=lvrho[:]\n",
      "Y=file.variables['Yp1']\n",
      "Y=Y[:]\n",
      "dx=Y[1]-Y[0]"
     ],
     "language": "python",
     "metadata": {},
     "outputs": [],
     "prompt_number": 49
    },
    {
     "cell_type": "code",
     "collapsed": false,
     "input": [
      "VTav=np.mean(lvrho,axis=0)\n",
      "VT=np.nansum(VTav*dx,axis=2)\n",
      "VTdz=np.zeros(np.shape(VT))\n",
      "VTdz=np.cumsum(VT[:,:],axis=0)\n",
      "psi=VTdz[:,:]/10**6\n",
      "y=Y/1000"
     ],
     "language": "python",
     "metadata": {},
     "outputs": [],
     "prompt_number": 56
    },
    {
     "cell_type": "code",
     "collapsed": false,
     "input": [
      "Rho = np.genfromtxt('./Temp', delimiter = ',') \n",
      "Rho=Rho[0:42]"
     ],
     "language": "python",
     "metadata": {},
     "outputs": [],
     "prompt_number": 57
    },
    {
     "cell_type": "code",
     "collapsed": false,
     "input": [
      "plt.contourf(y,Rho,-psi,50,cmap=cm.seismic)\n",
      "cbar = plt.colorbar()\n",
      "clim((-np.nanmax(abs(psi)),np.nanmax(abs(psi))))\n",
      "plt.title('MOC')\n",
      "#plt.gca().invert_yaxis()\n",
      "#plt.annotate('NADW?', xy=(1000, 999.5), xytext=(1500, 998),arrowprops=dict(facecolor='black', shrink=0.05),)\n",
      "plt.xlabel('Distance (km)')\n",
      "plt.ylabel('Density')\n",
      "cbar.ax.set_ylabel('Psi (sv)')"
     ],
     "language": "python",
     "metadata": {},
     "outputs": [
      {
       "metadata": {},
       "output_type": "pyout",
       "prompt_number": 58,
       "text": [
        "<matplotlib.text.Text at 0x5a2f150>"
       ]
      },
      {
       "metadata": {},
       "output_type": "display_data",
       "png": "[encoded data removed]",
       "text": [
        "<matplotlib.figure.Figure at 0x2acf54f624d0>"
       ]
      }
     ],
     "prompt_number": 58
    },
    {
     "cell_type": "code",
     "collapsed": false,
     "input": [],
     "language": "python",
     "metadata": {},
     "outputs": []
    }
   ],
   "metadata": {}
  }
 ]
}