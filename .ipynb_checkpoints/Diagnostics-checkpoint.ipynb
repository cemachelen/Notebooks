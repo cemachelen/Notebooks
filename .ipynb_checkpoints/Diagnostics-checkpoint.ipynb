{
 "metadata": {
  "name": "",
  "signature": "sha256:6637debfa43a7dc7f8b8191c3d436adc76290e72ea7f4ec19c6175e9c943161f"
 },
 "nbformat": 3,
 "nbformat_minor": 0,
 "worksheets": [
  {
   "cells": [
    {
     "cell_type": "code",
     "collapsed": false,
     "input": [
      "from scipy.io import netcdf\n",
      "import numpy as np\n",
      "import matplotlib.pyplot as plt\n",
      "import os\n",
      "import csv\n",
      "import sys\n",
      "from scipy.interpolate import griddata\n",
      "from pylab import *\n",
      "from multiprocessing import Pool\n",
      "from IPython.display import display, Math, Latex"
     ],
     "language": "python",
     "metadata": {},
     "outputs": [],
     "prompt_number": 1
    },
    {
     "cell_type": "code",
     "collapsed": false,
     "input": [
      "Comp=\"Mobilis\"\n",
      "OP=\"Original\"\n",
      "Years=\"0-10\"\n",
      "x=\"/noc/msm/scratch/students/hb1g13/\"+Comp+\"/\"+OP+\"/glued_state_files/\" \n",
      "os.chdir(x)"
     ],
     "language": "python",
     "metadata": {},
     "outputs": [],
     "prompt_number": 2
    },
    {
     "cell_type": "heading",
     "level": 3,
     "metadata": {},
     "source": [
      "Variables"
     ]
    },
    {
     "cell_type": "code",
     "collapsed": false,
     "input": [
      "file2 = netcdf.NetCDFFile(Years+\"all.nc\",'r')\n",
      "Temp=file2.variables['Temp']\n",
      "Temp=Temp[:]\n",
      "Yc=file2.variables['Y']\n",
      "Y=Yc[:]\n",
      "Z=file2.variables['Z']\n",
      "Z=Z[:]\n",
      "X=file2.variables['X']\n",
      "X=X[:]\n",
      "W=file2.variables['W']\n",
      "W=W[:]\n",
      "V=file2.variables['V']\n",
      "V=V[:]\n",
      "U=file2.variables['U']\n",
      "U=U[:]\n",
      "Xp1=file2.variables['Xp1']\n",
      "Xp=Xp1[:]\n",
      "Yp1=file2.variables['Yp1']\n",
      "Yp=Yp1[:]\n",
      "Zp1=file2.variables['Zl']\n",
      "Zp=Zp1[:]"
     ],
     "language": "python",
     "metadata": {},
     "outputs": [],
     "prompt_number": 3
    },
    {
     "cell_type": "code",
     "collapsed": false,
     "input": [
      "cd .."
     ],
     "language": "python",
     "metadata": {},
     "outputs": [
      {
       "output_type": "stream",
       "stream": "stdout",
       "text": [
        "/noc/msm/scratch/students/hb1g13/Mobilis/Original\n"
       ]
      }
     ],
     "prompt_number": 4
    },
    {
     "cell_type": "code",
     "collapsed": false,
     "input": [
      "file3 = netcdf.NetCDFFile(Years+\"rho.nc\",'r')\n",
      "rho=file3.variables['RHOAnoma']\n",
      "rho=rho[:]"
     ],
     "language": "python",
     "metadata": {},
     "outputs": [],
     "prompt_number": 5
    },
    {
     "cell_type": "heading",
     "level": 3,
     "metadata": {},
     "source": [
      "Constants"
     ]
    },
    {
     "cell_type": "code",
     "collapsed": false,
     "input": [
      "f=-10**-4\n",
      "g=9.81\n",
      "dx=5000.00\n",
      "dy=5000.00\n",
      "dz=Zp[1:30]-Zp[0:29]\n",
      "RhoNill=999.8\n",
      "beta=1**-11"
     ],
     "language": "python",
     "metadata": {},
     "outputs": [],
     "prompt_number": 6
    },
    {
     "cell_type": "heading",
     "level": 1,
     "metadata": {},
     "source": [
      "ACC transport"
     ]
    },
    {
     "cell_type": "code",
     "collapsed": false,
     "input": [
      "display(Math(r'ACC = \\int_{0}^{L} \\int_{-H}^{0} \\overline{u}\\, dy\\, dz'))"
     ],
     "language": "python",
     "metadata": {},
     "outputs": [
      {
       "latex": [
        "$$ACC = \\int_{0}^{L} \\int_{-H}^{0} \\overline{u}\\, dy\\, dz$$"
       ],
       "metadata": {},
       "output_type": "display_data",
       "text": [
        "<IPython.core.display.Math at 0x1fcc650>"
       ]
      }
     ],
     "prompt_number": 7
    },
    {
     "cell_type": "code",
     "collapsed": false,
     "input": [
      "Utave=np.mean(U,axis=0)"
     ],
     "language": "python",
     "metadata": {},
     "outputs": [],
     "prompt_number": 8
    },
    {
     "cell_type": "code",
     "collapsed": false,
     "input": [
      "Udy=np.sum(Utave*dx,axis=1)"
     ],
     "language": "python",
     "metadata": {},
     "outputs": [],
     "prompt_number": 9
    },
    {
     "cell_type": "code",
     "collapsed": false,
     "input": [
      "ACC=np.zeros((len(Z),len(Xp)))\n"
     ],
     "language": "python",
     "metadata": {},
     "outputs": [],
     "prompt_number": 10
    },
    {
     "cell_type": "code",
     "collapsed": false,
     "input": [
      "for j in range(len(Xp)):\n",
      "      for k in range(0,len(Z)-1):\n",
      "          ACC[k,j] = ACC[k-1,j] + np.abs(dz[k])*Udy[k,j]"
     ],
     "language": "python",
     "metadata": {},
     "outputs": [],
     "prompt_number": 11
    },
    {
     "cell_type": "code",
     "collapsed": false,
     "input": [
      "np.mean(ACC)/10**6"
     ],
     "language": "python",
     "metadata": {},
     "outputs": [
      {
       "metadata": {},
       "output_type": "pyout",
       "prompt_number": 12,
       "text": [
        "151.70997829868887"
       ]
      }
     ],
     "prompt_number": 12
    },
    {
     "cell_type": "code",
     "collapsed": true,
     "input": [
      "Uzone=np.mean(Utave,axis=2)"
     ],
     "language": "python",
     "metadata": {},
     "outputs": [],
     "prompt_number": 13
    },
    {
     "cell_type": "heading",
     "level": 2,
     "metadata": {},
     "source": [
      "ACC Strength = 150 Sv "
     ]
    },
    {
     "cell_type": "code",
     "collapsed": false,
     "input": [
      "plt.contourf(Y,Z,U[24,:,:,100],50,cmap=plt.cm.seismic)\n",
      "cbar = plt.colorbar()\n",
      "#plt.title('RMOC in temperature layers')\n",
      "plt.xlabel('Distance (km)')\n",
      "#plt.ylabel('Temperature')\n",
      "#cbar.ax.set_ylabel('Psi (sv)')\n",
      "x=\"/noc/users/hb1g13/Figures/\"+Comp+\"/\"+OP\n",
      "#os.chdir(x)\n",
      "#plt.savefig(\"Psires\"+str(I[0]/t)\".png\")\n",
      "x=\"/noc/users/hb1g13/Figures/\"+Comp+\"/\"+OP\n",
      "os.chdir(x)\n",
      "savefig(\"U.png\")"
     ],
     "language": "python",
     "metadata": {},
     "outputs": [
      {
       "metadata": {},
       "output_type": "display_data",
       "png": "[encoded data removed]",
       "text": [
        "<matplotlib.figure.Figure at 0x239c1d0>"
       ]
      }
     ],
     "prompt_number": 14
    },
    {
     "cell_type": "heading",
     "level": 1,
     "metadata": {},
     "source": [
      "Rossby Radius of deformation"
     ]
    },
    {
     "cell_type": "code",
     "collapsed": false,
     "input": [
      "display(Latex(r'Rossby deformation radius:'))\n",
      "display(Math(r'L_{d} = \\frac{NH}{f} '))\n",
      "display(Latex(r'Where N is the buoyancy frequency:'))\n",
      "display(Math(r'N = \\sqrt{- \\frac{g\\prime\\,\\,\\,d\\rho}{\\rho_{o}\\,dz}}'))\n",
      "display(Latex(r'Where g is reduced gravity:'))\n",
      "display(Math(r' g\\prime = g(\\frac{\\rho_1 -\\rho_2}{\\rho_{o}})'))\n",
      "display(Latex(r'so L$_d$:'))\n",
      "display(Math(r'L_d = \\sqrt{\\frac{g\\prime H}{f}}'))"
     ],
     "language": "python",
     "metadata": {},
     "outputs": [
      {
       "latex": [
        "Rossby deformation radius:"
       ],
       "metadata": {},
       "output_type": "display_data",
       "text": [
        "<IPython.core.display.Latex at 0x23ab810>"
       ]
      },
      {
       "latex": [
        "$$L_{d} = \\frac{NH}{f} $$"
       ],
       "metadata": {},
       "output_type": "display_data",
       "text": [
        "<IPython.core.display.Math at 0x23ab850>"
       ]
      },
      {
       "latex": [
        "Where N is the buoyancy frequency:"
       ],
       "metadata": {},
       "output_type": "display_data",
       "text": [
        "<IPython.core.display.Latex at 0x23a3ad0>"
       ]
      },
      {
       "latex": [
        "$$N = \\sqrt{- \\frac{g\\prime\\,\\,\\,d\\rho}{\\rho_{o}\\,dz}}$$"
       ],
       "metadata": {},
       "output_type": "display_data",
       "text": [
        "<IPython.core.display.Math at 0x23abdd0>"
       ]
      },
      {
       "latex": [
        "Where g is reduced gravity:"
       ],
       "metadata": {},
       "output_type": "display_data",
       "text": [
        "<IPython.core.display.Latex at 0x23a3690>"
       ]
      },
      {
       "latex": [
        "$$ g\\prime = g(\\frac{\\rho_1 -\\rho_2}{\\rho_{o}})$$"
       ],
       "metadata": {},
       "output_type": "display_data",
       "text": [
        "<IPython.core.display.Math at 0x238cf90>"
       ]
      },
      {
       "latex": [
        "so L$_d$:"
       ],
       "metadata": {},
       "output_type": "display_data",
       "text": [
        "<IPython.core.display.Latex at 0x238cad0>"
       ]
      },
      {
       "latex": [
        "$$L_d = \\sqrt{\\frac{g\\prime H}{f}}$$"
       ],
       "metadata": {},
       "output_type": "display_data",
       "text": [
        "<IPython.core.display.Math at 0x1fc4c90>"
       ]
      }
     ],
     "prompt_number": 15
    },
    {
     "cell_type": "code",
     "collapsed": false,
     "input": [
      "Ldtheory=(1000*3*10**-3)/10**-4\n",
      "Ldtheory"
     ],
     "language": "python",
     "metadata": {},
     "outputs": [
      {
       "metadata": {},
       "output_type": "pyout",
       "prompt_number": 16,
       "text": [
        "30000.0"
       ]
      }
     ],
     "prompt_number": 16
    },
    {
     "cell_type": "raw",
     "metadata": {},
     "source": [
      "A normal rossby radius of deformation is 10-30km "
     ]
    },
    {
     "cell_type": "code",
     "collapsed": false,
     "input": [
      "rhotav=np.mean(rho,axis=0)\n",
      "rhoav=np.mean(rhotav,axis=2)\n",
      "Rhoz=np.mean(rhoav,axis=1)\n",
      "Ttav=np.mean(Temp,axis=0)\n",
      "Tav=np.mean(Ttav,axis=2)\n",
      "Tz=np.mean(Tav,axis=1)\n",
      "plt.plot(Tz,Z)"
     ],
     "language": "python",
     "metadata": {},
     "outputs": [
      {
       "metadata": {},
       "output_type": "pyout",
       "prompt_number": 17,
       "text": [
        "[<matplotlib.lines.Line2D at 0x2b3688526d90>]"
       ]
      },
      {
       "metadata": {},
       "output_type": "display_data",
       "png": "[encoded data removed]",
       "text": [
        "<matplotlib.figure.Figure at 0x239c190>"
       ]
      }
     ],
     "prompt_number": 17
    },
    {
     "cell_type": "code",
     "collapsed": false,
     "input": [
      "A=Rhoz+RhoNill\n",
      "B=np.min(A)-np.max(A)"
     ],
     "language": "python",
     "metadata": {},
     "outputs": [],
     "prompt_number": 18
    },
    {
     "cell_type": "code",
     "collapsed": false,
     "input": [
      "gprime=g*B/RhoNill\n",
      "Ldmod=np.sqrt((gprime*2500)/f)\n",
      "Ldmod"
     ],
     "language": "python",
     "metadata": {},
     "outputs": [
      {
       "metadata": {},
       "output_type": "pyout",
       "prompt_number": 19,
       "text": [
        "321.34243862508674"
       ]
      }
     ],
     "prompt_number": 19
    },
    {
     "cell_type": "raw",
     "metadata": {},
     "source": [
      "The rossby radius here is less than 300m!"
     ]
    },
    {
     "cell_type": "heading",
     "level": 1,
     "metadata": {},
     "source": [
      "Ekman diagnostics"
     ]
    },
    {
     "cell_type": "code",
     "collapsed": false,
     "input": [
      "display(Latex(r'Ekman Transport:'))\n",
      "display(Math(r'V_{ek}=\\int_{-D}^{0}v_{ek}\\,dz=-\\frac{\\tau_{x}}{\\rho f}'))\n",
      "display(Latex(r'Ekman pumping:'))\n",
      "display(Math(r'w_{ek}=\\frac{\\beta v h}{f}=\\frac{1}{\\rho_o}(\\frac{\\partial \\tau_y}{\\partial x}-\\frac{\\partial\\tau_x}{\\partial y})'))\n",
      "display(Latex(r'NB: $$\\tau_{y}=0$$ so :'))\n",
      "display(Math(r'w_{ek}=-\\frac{1}{\\rho_o}\\frac{\\partial\\tau_x}{\\partial y}'))"
     ],
     "language": "python",
     "metadata": {},
     "outputs": [
      {
       "latex": [
        "Ekman Transport:"
       ],
       "metadata": {},
       "output_type": "display_data",
       "text": [
        "<IPython.core.display.Latex at 0x238c3d0>"
       ]
      },
      {
       "latex": [
        "$$V_{ek}=\\int_{-D}^{0}v_{ek}\\,dz=-\\frac{\\tau_{x}}{\\rho f}$$"
       ],
       "metadata": {},
       "output_type": "display_data",
       "text": [
        "<IPython.core.display.Math at 0x238ca50>"
       ]
      },
      {
       "latex": [
        "Ekman pumping:"
       ],
       "metadata": {},
       "output_type": "display_data",
       "text": [
        "<IPython.core.display.Latex at 0x238cf90>"
       ]
      },
      {
       "latex": [
        "$$w_{ek}=\\frac{\\beta v h}{f}=\\frac{1}{\\rho_o}(\\frac{\\partial \\tau_y}{\\partial x}-\\frac{\\partial\\tau_x}{\\partial y})$$"
       ],
       "metadata": {},
       "output_type": "display_data",
       "text": [
        "<IPython.core.display.Math at 0x2032050>"
       ]
      },
      {
       "latex": [
        "NB: $$\\tau_{y}=0$$ so :"
       ],
       "metadata": {},
       "output_type": "display_data",
       "text": [
        "<IPython.core.display.Latex at 0x2b368851ab90>"
       ]
      },
      {
       "latex": [
        "$$w_{ek}=-\\frac{1}{\\rho_o}\\frac{\\partial\\tau_x}{\\partial y}$$"
       ],
       "metadata": {},
       "output_type": "display_data",
       "text": [
        "<IPython.core.display.Math at 0x238cc50>"
       ]
      }
     ],
     "prompt_number": 20
    },
    {
     "cell_type": "heading",
     "level": 2,
     "metadata": {},
     "source": [
      "Ekman tansport theory:"
     ]
    },
    {
     "cell_type": "code",
     "collapsed": false,
     "input": [
      "Taunil=0.2\n",
      "Ly=2000*10**3\n",
      "y=np.linspace(0,Ly,400)\n",
      "tau=Taunil*sin((pi*y)/Ly)"
     ],
     "language": "python",
     "metadata": {},
     "outputs": [],
     "prompt_number": 21
    },
    {
     "cell_type": "code",
     "collapsed": false,
     "input": [
      "Vekth=-tau/(RhoNill*f)\n",
      "Vtave=np.mean(V,axis=0)\n",
      "Vzone=np.mean(Vtave,axis=2)\n",
      "Vekmoz=np.zeros((12,len(Yp)))"
     ],
     "language": "python",
     "metadata": {},
     "outputs": [],
     "prompt_number": 22
    },
    {
     "cell_type": "code",
     "collapsed": false,
     "input": [
      "for k in range(0,12):\n",
      "    Vekmoz[k,:]=Vzone[k,:]*dz[k]"
     ],
     "language": "python",
     "metadata": {},
     "outputs": [],
     "prompt_number": 23
    },
    {
     "cell_type": "code",
     "collapsed": false,
     "input": [
      "Vekmod=np.sum(Vekmoz,axis=0)"
     ],
     "language": "python",
     "metadata": {},
     "outputs": [],
     "prompt_number": 24
    },
    {
     "cell_type": "code",
     "collapsed": false,
     "input": [
      "dtau=tau[1:400]-tau[0:399]\n",
      "dy=5000\n",
      "w_eth=-np.divide(dtau,dy)*10**-3"
     ],
     "language": "python",
     "metadata": {},
     "outputs": [],
     "prompt_number": 25
    },
    {
     "cell_type": "code",
     "collapsed": false,
     "input": [
      "v=np.mean(Vzone[0:12,:],axis=0)\n",
      "w_ekmod=(beta*1000*v)/f\n"
     ],
     "language": "python",
     "metadata": {},
     "outputs": [],
     "prompt_number": 26
    },
    {
     "cell_type": "code",
     "collapsed": false,
     "input": [
      "plt.plot(Vekmod)"
     ],
     "language": "python",
     "metadata": {},
     "outputs": [
      {
       "metadata": {},
       "output_type": "pyout",
       "prompt_number": 27,
       "text": [
        "[<matplotlib.lines.Line2D at 0x2b36898b1dd0>]"
       ]
      },
      {
       "metadata": {},
       "output_type": "display_data",
       "png": "[encoded data removed]",
       "text": [
        "<matplotlib.figure.Figure at 0x1fc4c90>"
       ]
      }
     ],
     "prompt_number": 27
    },
    {
     "cell_type": "code",
     "collapsed": false,
     "input": [
      "plt.plot(w_ekmod)"
     ],
     "language": "python",
     "metadata": {},
     "outputs": [
      {
       "metadata": {},
       "output_type": "pyout",
       "prompt_number": 28,
       "text": [
        "[<matplotlib.lines.Line2D at 0x2b368a563650>]"
       ]
      },
      {
       "metadata": {},
       "output_type": "display_data",
       "png": "[encoded data removed]",
       "text": [
        "<matplotlib.figure.Figure at 0x241f510>"
       ]
      }
     ],
     "prompt_number": 28
    },
    {
     "cell_type": "code",
     "collapsed": false,
     "input": [
      "plt.plot(w_eth)"
     ],
     "language": "python",
     "metadata": {},
     "outputs": [
      {
       "metadata": {},
       "output_type": "pyout",
       "prompt_number": 29,
       "text": [
        "[<matplotlib.lines.Line2D at 0x2b368a595850>]"
       ]
      },
      {
       "metadata": {},
       "output_type": "display_data",
       "png": "[encoded data removed]",
       "text": [
        "<matplotlib.figure.Figure at 0x2b36898bdad0>"
       ]
      }
     ],
     "prompt_number": 29
    },
    {
     "cell_type": "code",
     "collapsed": false,
     "input": [],
     "language": "python",
     "metadata": {},
     "outputs": []
    }
   ],
   "metadata": {}
  }
 ]
}