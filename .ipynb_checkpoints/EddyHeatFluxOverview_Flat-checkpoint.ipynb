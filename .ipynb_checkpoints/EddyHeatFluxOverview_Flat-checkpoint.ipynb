{
 "metadata": {
  "name": "",
  "signature": "sha256:5b8df6659d12b20b807bd74896cf769af257eef1021797defb7340f092618907"
 },
 "nbformat": 3,
 "nbformat_minor": 0,
 "worksheets": [
  {
   "cells": [
    {
     "cell_type": "heading",
     "level": 1,
     "metadata": {},
     "source": [
      "Eddy Heat Fluxes"
     ]
    },
    {
     "cell_type": "markdown",
     "metadata": {},
     "source": [
      "Eddy Heat Fluxes calculated as zonal and temporal averages.\n",
      "\n",
      "You must do this is in year chuncks and import the 20 year time averaged files otherwise there will be memory errors :(\n",
      "NCO to time aver and slit the files in to correst sizes\n",
      "\n",
      "\n",
      "First break down in for flat cases, no area mask and no intergration along Stream lines"
     ]
    },
    {
     "cell_type": "markdown",
     "metadata": {},
     "source": [
      "Eddy heat fluxes:\n",
      "\n",
      "1$^{st}$ break down = simple mean and eddy components\n",
      "\n",
      "$v\\,=\\, \\overline{v}+v'$\n",
      "\n",
      "$t\\,=\\,\\overline{t}+t'$\n",
      "\n",
      "Total Heat Flux: $C_p\\,\\rho \\, \\iint \\overline{vt}\\, dA$\n",
      "\n",
      "Mean Heat Flux= $C_p\\,\\rho \\, \\iint \\overline{v}\\overline{t}\\, dA$\n",
      "\n",
      "Eddy Heat Flux= $C_p\\,\\rho \\, \\iint \\overline{v't'}\\, dA$\n",
      "\n",
      "2$^{nd}$ break down = Mean Eddy and Standing Eddy components \n",
      "\n",
      "* Make a script Heatfluxes_flat that reads in the time averaged files cycles through the year files creating $\\overline{v't'}$ and produces the graphs to figures file\n",
      "\n",
      "* Make script for full topo\n",
      "\n",
      "* Make script integrating along streamlines\n"
     ]
    },
    {
     "cell_type": "code",
     "collapsed": false,
     "input": [
      "from scipy.io import netcdf\n",
      "import numpy as np\n",
      "import matplotlib.pyplot as plt\n",
      "import os\n",
      "import csv\n",
      "import sys\n",
      "from pylab import *\n",
      "from numba import autojit\n",
      "from IPython.parallel import Client"
     ],
     "language": "python",
     "metadata": {},
     "outputs": [],
     "prompt_number": 1
    },
    {
     "cell_type": "code",
     "collapsed": false,
     "input": [
      "Comp=\"Mobilis\"\n",
      "OP=\"Ryan_myedits\"\n",
      "Years=\"240-250\"\n",
      "x=\"/noc/msm/scratch/students/hb1g13/\"+Comp+\"/\"+OP+\"/spunup/\" \n",
      "os.chdir(x)"
     ],
     "language": "python",
     "metadata": {},
     "outputs": [],
     "prompt_number": 2
    },
    {
     "cell_type": "code",
     "collapsed": false,
     "input": [
      "#file2=Dataset(Years+\"VT.nc\",'r','format=NETCDF')\n",
      "file2 = netcdf.NetCDFFile(Years+\"VT.nc\",'r') \n",
      "Temp=file2.variables['THETA']\n",
      "Yc=file2.variables['Y']\n",
      "Z=file2.variables['diag_levels']\n",
      "X=file2.variables['X']\n",
      "V=file2.variables['VVEL']\n",
      "Yp1=file2.variables['Yp1']"
     ],
     "language": "python",
     "metadata": {},
     "outputs": [],
     "prompt_number": 3
    },
    {
     "cell_type": "code",
     "collapsed": false,
     "input": [
      "#Regrid V to center points\n",
      "def regrid(Variable):\n",
      "    Vc=(Variable[0:120,:,0:-1,:]+Variable[0:120,:,1::,:])/2\n",
      "    return Vc\n",
      "numba_regrid = autojit()(regrid)\n",
      "numba_regrid.func_name = \"numba_regrid\"\n",
      "Vc=numba_regrid(V)"
     ],
     "language": "python",
     "metadata": {},
     "outputs": [],
     "prompt_number": 4
    },
    {
     "cell_type": "code",
     "collapsed": false,
     "input": [
      "#For some reason the nc varibales are being read in as >f8 - this stops this\n",
      "Temp=Temp[0:120,:,:,:]*1"
     ],
     "language": "python",
     "metadata": {},
     "outputs": [],
     "prompt_number": 5
    },
    {
     "cell_type": "code",
     "collapsed": false,
     "input": [
      "#Time averaged values\n",
      "Ttav=np.mean(Temp,axis=0)\n",
      "Vtav=np.mean(Vc,axis=0)"
     ],
     "language": "python",
     "metadata": {},
     "outputs": [],
     "prompt_number": 6
    },
    {
     "cell_type": "code",
     "collapsed": false,
     "input": [
      "#Area matrix\n",
      "grd=\"/noc/msm/scratch/students/hb1g13/\"+Comp+\"/\"+OP+\"/grid/\"\n",
      "os.chdir(grd)\n",
      "file2=netcdf.netcdf_file('grid.nc','r')\n",
      "Zp1=file2.variables['Zp1']\n",
      "Zp=Zp1[:]*1\n",
      "dx=5000\n",
      "dz=Zp[0:len(Zp)-1]-Zp[1:len(Zp)]\n",
      "dA=dz*5000"
     ],
     "language": "python",
     "metadata": {},
     "outputs": [],
     "prompt_number": 7
    },
    {
     "cell_type": "markdown",
     "metadata": {},
     "source": [
      "Mean Heat Flux:\n",
      "\n",
      "$\\iint \\overline{V}\\overline{T} dA$"
     ]
    },
    {
     "cell_type": "code",
     "collapsed": false,
     "input": [
      "VT=Vtav*Ttav\n",
      "VTdA=np.zeros(shape(VT))\n",
      "for k in range(len(dz)):\n",
      "    VTdA[k,:,:]=VT[k,:,:]*dA[k]"
     ],
     "language": "python",
     "metadata": {},
     "outputs": [],
     "prompt_number": 8
    },
    {
     "cell_type": "code",
     "collapsed": false,
     "input": [
      "MeanHF=1030*3985*(np.sum(np.sum(VTdA,axis=0),axis=1))/10**15"
     ],
     "language": "python",
     "metadata": {},
     "outputs": [],
     "prompt_number": 9
    },
    {
     "cell_type": "markdown",
     "metadata": {},
     "source": [
      "Total Heat Flux:\n",
      "\n",
      "$\\iint \\overline{VT} dA$"
     ]
    },
    {
     "cell_type": "code",
     "collapsed": false,
     "input": [
      "VT=Vc*Temp\n",
      "VTdA=np.zeros(shape(VT))\n",
      "for k in range(len(dz)):\n",
      "    VTdA[:,k,:,:]=VT[:,k,:,:]*dA[k]"
     ],
     "language": "python",
     "metadata": {},
     "outputs": [],
     "prompt_number": 10
    },
    {
     "cell_type": "code",
     "collapsed": false,
     "input": [
      "VTbar=np.mean(VTdA,axis=0)\n",
      "TotalHF=1030*3985*(np.sum(np.sum(VTbar,axis=0),axis=1))/10**15"
     ],
     "language": "python",
     "metadata": {},
     "outputs": [],
     "prompt_number": 11
    },
    {
     "cell_type": "markdown",
     "metadata": {},
     "source": [
      "Eddy Heat Flux:\n",
      "\n",
      "$V'\\,=\\, V- \\overline{V} $\n",
      "\n",
      "$\\iint \\overline{V'T'} dA$"
     ]
    },
    {
     "cell_type": "code",
     "collapsed": false,
     "input": [
      "def eddycomp(Tracer,Tav):\n",
      "    Vprime=np.zeros(shape(Tracer))\n",
      "    for k in range(len(Tracer[:,1,1,1])):\n",
      "        Vprime[k,:,:,:]=Tracer[k,:,:,:]-Tav\n",
      "    return Vprime\n",
      "numba_eddycomp = autojit()(eddycomp)\n",
      "numba_eddycomp.func_name = \"numba_eddycomp\"\n",
      "Vprime=numba_eddycomp(Vc,Vtav)"
     ],
     "language": "python",
     "metadata": {},
     "outputs": [],
     "prompt_number": 12
    },
    {
     "cell_type": "code",
     "collapsed": false,
     "input": [
      "Tprime=numba_eddycomp(Temp,Ttav)"
     ],
     "language": "python",
     "metadata": {},
     "outputs": [],
     "prompt_number": 13
    },
    {
     "cell_type": "code",
     "collapsed": false,
     "input": [
      "VT=Vprime*Tprime\n",
      "VTbar=np.mean(VT,axis=0)\n",
      "VTdA=np.zeros(shape(VTbar))\n",
      "for k in range(len(dz)):\n",
      "    VTdA[k,:,:]=VTbar[k,:,:]*dA[k]\n",
      "EddyHF=1030*3985*(np.sum(np.sum(VTdA,axis=0),axis=1))/10**15\n"
     ],
     "language": "python",
     "metadata": {},
     "outputs": [],
     "prompt_number": 14
    },
    {
     "cell_type": "code",
     "collapsed": true,
     "input": [
      "plt.plot(EddyHF)\n",
      "plt.plot(MeanHF,'r')\n",
      "plt.plot(TotalHF,'k')"
     ],
     "language": "python",
     "metadata": {},
     "outputs": [
      {
       "metadata": {},
       "output_type": "pyout",
       "prompt_number": 15,
       "text": [
        "[<matplotlib.lines.Line2D at 0x2ab37d0>]"
       ]
      },
      {
       "metadata": {},
       "output_type": "display_data",
       "png": "[encoded data removed]",
       "text": [
        "<matplotlib.figure.Figure at 0x29baf10>"
       ]
      }
     ],
     "prompt_number": 15
    },
    {
     "cell_type": "markdown",
     "metadata": {},
     "source": [
      "Now to break down the mean \n",
      "\n",
      "$\\overline{v}\\overline{t}\\,=\\, < v > t^* + < t > v^* + < v > < t> +v^*t^*$"
     ]
    },
    {
     "cell_type": "code",
     "collapsed": false,
     "input": [
      "vzone=np.mean(Vtav,axis=2)\n",
      "tzone=np.mean(Ttav,axis=2)"
     ],
     "language": "python",
     "metadata": {},
     "outputs": [],
     "prompt_number": 16
    },
    {
     "cell_type": "code",
     "collapsed": false,
     "input": [
      "def gyrecomps(Tav1,Zone1,Tav2,Zone2):\n",
      "    T1star=np.zeros(shape(Tav1))\n",
      "    T2star=np.zeros(shape(Tav1))\n",
      "    T1sz=np.zeros(shape(Tav1))\n",
      "    T2sz=np.zeros(shape(Tav1))\n",
      "    for i in range(len(Tav1[1,1,:])):\n",
      "        T1star[:,:,i]=Tav1[:,:,i]-Zone1\n",
      "        T2star[:,:,i]=Tav2[:,:,i]-Zone2\n",
      "        T1sz[:,:,i]=T1star[:,:,i]*Zone2\n",
      "        T2sz[:,:,i]=T2star[:,:,i]*Zone1\n",
      "    return T1star, T2star, T1sz, T2sz"
     ],
     "language": "python",
     "metadata": {},
     "outputs": [],
     "prompt_number": 17
    },
    {
     "cell_type": "code",
     "collapsed": false,
     "input": [
      "numba_gyrecomps= autojit()(gyrecomps)\n",
      "numba_gyrecomps.func_name = \"numba_gyrecomps\""
     ],
     "language": "python",
     "metadata": {},
     "outputs": [],
     "prompt_number": 18
    },
    {
     "cell_type": "code",
     "collapsed": false,
     "input": [
      "[T1star, T2star, T1sz, T2sz]=numba_gyrecomps(Ttav,tzone,Vtav,vzone)"
     ],
     "language": "python",
     "metadata": {},
     "outputs": [],
     "prompt_number": 19
    },
    {
     "cell_type": "code",
     "collapsed": false,
     "input": [
      "vtzone=vzone*tzone\n",
      "vtstar=T1star*T2star"
     ],
     "language": "python",
     "metadata": {},
     "outputs": [],
     "prompt_number": 30
    },
    {
     "cell_type": "code",
     "collapsed": false,
     "input": [
      "def xdA(Term,dA):\n",
      "    VTdA=np.zeros(shape(Term))\n",
      "    for k in range(len(dz)):\n",
      "        VTdA[k,:,:]=Term[k,:,:]*dA[k]\n",
      "    return VTdA"
     ],
     "language": "python",
     "metadata": {},
     "outputs": [],
     "prompt_number": 31
    },
    {
     "cell_type": "code",
     "collapsed": false,
     "input": [
      "numba_xdA= autojit()(xdA)\n",
      "numba_xdA.func_name = \"numba_xdA\""
     ],
     "language": "python",
     "metadata": {},
     "outputs": [],
     "prompt_number": 32
    },
    {
     "cell_type": "code",
     "collapsed": false,
     "input": [
      "#T1=numba_xdA(vtzone,dA)\n",
      "T2=numba_xdA(T1sz,dA)\n",
      "T3=numba_xdA(T2sz,dA)\n",
      "T4=numba_xdA(vtstar,dA)"
     ],
     "language": "python",
     "metadata": {},
     "outputs": [],
     "prompt_number": 33
    },
    {
     "cell_type": "code",
     "collapsed": false,
     "input": [
      "T1=np.zeros(shape(vtzone))\n",
      "for k in range(len(dz)):\n",
      "    T1[k,:]=vtzone[k,:]*dA[k]"
     ],
     "language": "python",
     "metadata": {},
     "outputs": [],
     "prompt_number": 37
    },
    {
     "cell_type": "code",
     "collapsed": false,
     "input": [
      "G1=200*1030*3985*(np.sum(T1,axis=0))/10**15\n",
      "G2=1030*3985*(np.sum(np.sum(T2,axis=0),axis=1))/10**15\n",
      "G3=1030*3985*(np.sum(np.sum(T3,axis=0),axis=1))/10**15\n",
      "G4=1030*3985*(np.sum(np.sum(T4,axis=0),axis=1))/10**15"
     ],
     "language": "python",
     "metadata": {},
     "outputs": [],
     "prompt_number": 45
    },
    {
     "cell_type": "code",
     "collapsed": false,
     "input": [
      "GyreHF=G2+G3+G4\n",
      "MeanHF=G1"
     ],
     "language": "python",
     "metadata": {},
     "outputs": [],
     "prompt_number": 46
    },
    {
     "cell_type": "code",
     "collapsed": false,
     "input": [
      "plt.plot(EddyHF)\n",
      "plt.plot(MeanHF,'r')\n",
      "plt.plot(GyreHF,'g')\n",
      "plt.plot(TotalHF,'k')"
     ],
     "language": "python",
     "metadata": {},
     "outputs": [
      {
       "metadata": {},
       "output_type": "pyout",
       "prompt_number": 47,
       "text": [
        "[<matplotlib.lines.Line2D at 0xa2caf10>]"
       ]
      },
      {
       "metadata": {},
       "output_type": "display_data",
       "png": "[encoded data removed]",
       "text": [
        "<matplotlib.figure.Figure at 0xa1e4ed0>"
       ]
      }
     ],
     "prompt_number": 47
    },
    {
     "cell_type": "code",
     "collapsed": false,
     "input": [
      "np.mean(TotalHF-EddyHF-MeanHF-GyreHF) "
     ],
     "language": "python",
     "metadata": {},
     "outputs": [
      {
       "metadata": {},
       "output_type": "pyout",
       "prompt_number": 49,
       "text": [
        "2.0111439432859793e-18"
       ]
      }
     ],
     "prompt_number": 49
    },
    {
     "cell_type": "markdown",
     "metadata": {},
     "source": [
      "Balances very well! (3 day output looks like it is frequent enough!)"
     ]
    },
    {
     "cell_type": "code",
     "collapsed": false,
     "input": [],
     "language": "python",
     "metadata": {},
     "outputs": []
    }
   ],
   "metadata": {}
  }
 ]
}