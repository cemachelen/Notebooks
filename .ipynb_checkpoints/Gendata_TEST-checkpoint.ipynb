{
 "metadata": {
  "name": "",
  "signature": "sha256:4d4dd2ff25de2ddc22953df606c136c9a02db1af140f4a0c08be926f388cae3e"
 },
 "nbformat": 3,
 "nbformat_minor": 0,
 "worksheets": [
  {
   "cells": [
    {
     "cell_type": "heading",
     "level": 1,
     "metadata": {},
     "source": [
      "Generate model inputs"
     ]
    },
    {
     "cell_type": "raw",
     "metadata": {},
     "source": [
      "This sets up a flat bottom channel, 5 kmm resolution with 24 vertical layers. \n"
     ]
    },
    {
     "cell_type": "code",
     "collapsed": false,
     "input": [
      "from scipy.io import netcdf\n",
      "import numpy as np\n",
      "import matplotlib.pyplot as plt\n",
      "import os\n",
      "import csv\n",
      "import sys\n",
      "from scipy.interpolate import griddata\n",
      "from pylab import *\n",
      "from IPython.parallel import Client\n",
      "from IPython.display import display, Math, Latex\n",
      "from numba import jit\n",
      "import glob\n",
      "from sympy.interactive import printing\n",
      "printing.init_printing(use_latex=True)\n",
      "from mpl_toolkits.mplot3d import axes3d"
     ],
     "language": "python",
     "metadata": {},
     "outputs": [],
     "prompt_number": 1
    },
    {
     "cell_type": "code",
     "collapsed": false,
     "input": [
      "# Use writeFile to write files in the correct format!\n",
      "sys.path.append('/noc/users/hb1g13/Python/python_functions/')\n",
      "from Writebin import *"
     ],
     "language": "python",
     "metadata": {},
     "outputs": [],
     "prompt_number": 2
    },
    {
     "cell_type": "code",
     "collapsed": false,
     "input": [
      "Res=5000\n",
      "Ly=2000e3\n",
      "Lx=1000e3\n",
      "H=3700\n",
      "nz=24"
     ],
     "language": "python",
     "metadata": {},
     "outputs": [],
     "prompt_number": 3
    },
    {
     "cell_type": "raw",
     "metadata": {},
     "source": [
      "Decide parameters:\n",
      "Resolution \n",
      "Depth\n",
      "Domain\n",
      "Boundary Condition\n",
      "Topography\n",
      "Forcing"
     ]
    },
    {
     "cell_type": "code",
     "collapsed": false,
     "input": [
      "Topo=\"flat\"\n",
      "Wind=\"Standard\"\n",
      "Heat=\"Abernathey\"\n",
      "BC=\"Diffusion_vertically_varied\"\n",
      "Name=\"TEST\""
     ],
     "language": "python",
     "metadata": {},
     "outputs": [],
     "prompt_number": 4
    },
    {
     "cell_type": "code",
     "collapsed": false,
     "input": [
      "x=\"/noc/users/hb1g13/MITgcm/Mobilis/\"+Name+\"/input/\" \n",
      "os.chdir(x)"
     ],
     "language": "python",
     "metadata": {},
     "outputs": [],
     "prompt_number": 5
    },
    {
     "cell_type": "raw",
     "metadata": {},
     "source": [
      "Set up grid\n",
      "NB: python automatically writes in double precision"
     ]
    },
    {
     "cell_type": "code",
     "collapsed": false,
     "input": [
      "#Dimensions\n",
      "nx=np.round(Lx/Res)\n",
      "ny=np.round(Ly/Res)\n",
      "dx=np.ones(nx)*Res\n",
      "dy=np.ones(ny)*Res\n",
      "#Write binary output\n",
      "fid=open('delY','wb')\n",
      "fid.write(dy) \n",
      "fid.close()\n",
      "fid=open('delX','wb')\n",
      "fid.write(dx) \n",
      "fid.close()\n",
      "# Create c-grid with grid points in dead center\n",
      "x=(np.cumsum(dx)-dx/2)-Lx/2\n",
      "y=(np.cumsum(dy)-dy/2)-Ly/2\n",
      "[Y, X]=np.meshgrid(y,x) "
     ],
     "language": "python",
     "metadata": {},
     "outputs": [],
     "prompt_number": 6
    },
    {
     "cell_type": "raw",
     "metadata": {},
     "source": [
      "Now Create topography:\n",
      "Start with flat, then add slope and ridges"
     ]
    },
    {
     "cell_type": "code",
     "collapsed": false,
     "input": [
      "h= -H*np.ones((ny,nx)) # Flat bottom\n",
      "if Topo==\"slope\" or Topo==\"ridge\":\n",
      "    h=-0.01*Ly/2-0.1*Y\n",
      "if Topo==\"ridge\":\n",
      "    xoff=(4000-Lx)/2\n",
      "    h = h+np.multiply((2500 + 300*sin(10*pi*Y/Ly) + 400*sin(8*pi*Y/Ly)+ 300*sin(2\\\n",
      "5*pi*Y/Ly) ),sech(((X-xoff)-0.2*Y+3e5)/1.2e5))\n",
      "    h = h+np.multiply((2000 + 600*sin(11*pi*Y/Ly) + 300*sin(7*pi*Y/Ly)+ 500*sin(2\\\n",
      "1*pi*Y/Ly) ),sech(((X-xoff)+0.1*Y+1.5e6)/1.2e5))\n",
      "# Close both ends\n",
      "h[0,:]=0\n",
      "h[-1,:]=0\n",
      "# Write to binary\n",
      "#fid=open('topog','wb')\n",
      "#fid.write(h)\n",
      "#fid.close()\n",
      "writeFile('topog',h)"
     ],
     "language": "python",
     "metadata": {},
     "outputs": [],
     "prompt_number": 7
    },
    {
     "cell_type": "code",
     "collapsed": false,
     "input": [
      "if Topo==\"flat\" or \"slope\":\n",
      "    plt.plot(y/1000,h[:,nx/2])\n",
      "    plt.title('Topography')\n",
      "elif Topo==\"full\":\n",
      "    plt.contourf(h)"
     ],
     "language": "python",
     "metadata": {},
     "outputs": [
      {
       "metadata": {},
       "output_type": "display_data",
       "png": "[encoded data removed]",
       "text": [
        "<matplotlib.figure.Figure at 0x3c70810>"
       ]
      }
     ],
     "prompt_number": 8
    },
    {
     "cell_type": "raw",
     "metadata": {},
     "source": [
      "Now for the surface heat forcing:\n",
      "Must have bouyancy gain in the south and bouyancy loss over maximum wind sress to allow overturning"
     ]
    },
    {
     "cell_type": "code",
     "collapsed": false,
     "input": [
      "display(Math(r'Q=-Q_{0}\\,cos(\\frac{3\\pi y}{Ly})\\quad \\quad \\quad \\quad y \\le \\frac{5Ly}{6}'))"
     ],
     "language": "python",
     "metadata": {},
     "outputs": [
      {
       "latex": [
        "$$Q=-Q_{0}\\,cos(\\frac{3\\pi y}{Ly})\\quad \\quad \\quad \\quad y \\le \\frac{5Ly}{6}$$"
       ],
       "metadata": {},
       "output_type": "display_data",
       "text": [
        "<IPython.core.display.Math at 0x2057b10>"
       ]
      }
     ],
     "prompt_number": 9
    },
    {
     "cell_type": "code",
     "collapsed": false,
     "input": [
      "#Itegrate!\n",
      "Q=-10*(np.sin(Y*(3*pi/Ly)))+1.63045e-5\n",
      "Q[:,ny-(np.round(ny/6)):ny]=0\n",
      "Q[:,np.round(ny/2):ny]=0.5*Q[:,np.round(ny/2):ny]+1.1e-5\n",
      "# Write to binary\n",
      "writeFile('Qsurface',np.transpose(Q))\n",
      "# netcdf check\n",
      "f=netcdf.netcdf_file('Qsurface.nc','w')\n",
      "f.createDimension('X',nx)\n",
      "f.createDimension('Y',ny)\n",
      "Q2=np.transpose(Q)\n",
      "Q2=f.createVariable('Q','float',('X','Y'))\n",
      "Q2[:]=Q\n",
      "f.close()"
     ],
     "language": "python",
     "metadata": {},
     "outputs": [],
     "prompt_number": 10
    },
    {
     "cell_type": "code",
     "collapsed": false,
     "input": [
      "plt.plot(y/1000,Q[100,:])\n",
      "plt.title('Surface Heat Flux $W/m^2$')\n",
      "plt.ylabel('Heat Flux ($W/m^2$)')\n",
      "plt.xlabel('Meridional Distance (m)')\n",
      "plt.text(0, 7, r\"$Q=Q_{0}\\,sin(\\frac{3\\pi y}{Ly})$\",\n",
      "         horizontalalignment='center', fontsize=16)"
     ],
     "language": "python",
     "metadata": {},
     "outputs": [
      {
       "metadata": {},
       "output_type": "pyout",
       "prompt_number": 11,
       "text": [
        "<matplotlib.text.Text at 0x2b284854f510>"
       ]
      },
      {
       "metadata": {},
       "output_type": "display_data",
       "png": "[encoded data removed]",
       "text": [
        "<matplotlib.figure.Figure at 0x3bd9e50>"
       ]
      }
     ],
     "prompt_number": 11
    },
    {
     "cell_type": "raw",
     "metadata": {},
     "source": [
      "Plus the Windress with tau_o set to 0.2Nm^-2"
     ]
    },
    {
     "cell_type": "code",
     "collapsed": false,
     "input": [
      "display(Math(r'\\tau_s(y)=\\tau_0 sin(\\frac{\\pi y}{Ly})') )"
     ],
     "language": "python",
     "metadata": {},
     "outputs": [
      {
       "latex": [
        "$$\\tau_s(y)=\\tau_0 sin(\\frac{\\pi y}{Ly})$$"
       ],
       "metadata": {},
       "output_type": "display_data",
       "text": [
        "<IPython.core.display.Math at 0x2057bd0>"
       ]
      }
     ],
     "prompt_number": 12
    },
    {
     "cell_type": "code",
     "collapsed": false,
     "input": [
      "tau=0.2*((np.sin((Y+Ly/2)*(pi/Ly)))) #Y is centred at 0 so put that back!\n",
      "# Write to binary\n",
      "writeFile('Wind',np.transpose(tau))\n",
      "# netcdf check\n",
      "f=netcdf.netcdf_file('Wind.nc','w')\n",
      "f.createDimension('Xp1',nx+1)\n",
      "f.createDimension('Y',ny)\n",
      "tau3=np.zeros((ny,nx+1))\n",
      "tau3[:,1:]=np.transpose(tau)\n",
      "tau2=f.createVariable('tau','double',('Xp1','Y'))\n",
      "tau2[:]=np.transpose(tau3)\n",
      "f.close()"
     ],
     "language": "python",
     "metadata": {},
     "outputs": [],
     "prompt_number": 13
    },
    {
     "cell_type": "code",
     "collapsed": false,
     "input": [
      "plt.plot(y/1000,tau[100,:])\n",
      "plt.title('Surface Wind Stress $N/m^2$')\n",
      "plt.ylabel('$\\tau$ ($N/m^2$)')\n",
      "plt.xlabel('Meridional Distance (m)')\n",
      "plt.text(0, 0.1, r\"$\\tau_s(y)=\\tau_0 sin(\\frac{\\pi y}{Ly})$\",\n",
      "         horizontalalignment='center', fontsize=16)"
     ],
     "language": "python",
     "metadata": {},
     "outputs": [
      {
       "metadata": {},
       "output_type": "pyout",
       "prompt_number": 14,
       "text": [
        "<matplotlib.text.Text at 0x2b28485565d0>"
       ]
      },
      {
       "metadata": {},
       "output_type": "display_data",
       "png": "[encoded data removed]",
       "text": [
        "<matplotlib.figure.Figure at 0x2b2848554250>"
       ]
      }
     ],
     "prompt_number": 14
    },
    {
     "cell_type": "code",
     "collapsed": false,
     "input": [
      "#Parameters\n",
      "N=1e3 # Natural stratification\n",
      "deltaT=8\n",
      "Tref=np.zeros(nz)\n",
      "#Create depth array:\n",
      "a=12.5,50,100,162.5\n",
      "b=np.linspace(250,650,5)\n",
      "c=np.linspace(780,3600,15)\n",
      "z=np.concatenate([a,b,c])"
     ],
     "language": "python",
     "metadata": {},
     "outputs": [],
     "prompt_number": 15
    },
    {
     "cell_type": "raw",
     "metadata": {},
     "source": [
      "Generate Diffusion profile:\n",
      "Set the background diffusion plus enhanced in the top 300m to creat mixed layer and then set an enhanced spatially varying profile at the northern boundary"
     ]
    },
    {
     "cell_type": "code",
     "collapsed": false,
     "input": [
      "#Background\n",
      "diffusi=(1e-5)*np.ones((nz,ny,nx))\n",
      "# Linear ramp\n",
      "for k in range(0,nz):\n",
      "    for i in range(0,int(nx)):\n",
      "        diffusi[k,ny-30:ny,i]=0.00025+500*(np.divide((Y[i,ny-31:ny-1]-Y[i,ny-31]),(Y[i,ny-1]-Y[i,ny-31])))**2*diffusi[k,ny-31:ny-1,i]*(1-exp(-z[k]/(N))-exp(-(H)/(N)))/(1-exp(-(H)/(N)))\n",
      "        # diffusi[k,ny-40:ny,i]=0.0005+500*(np.divide((Y[i,ny-41:ny-1]-Y[i,ny-41]),(Y[i,ny-1]-Y[i,ny-41])))**2*diffusi[k,ny-41:ny-1,i]*(1-abs(2*(z[k]-(H/2)))/H)\n",
      "        # Enhance at the surface\n",
      "for k in range(0,3):\n",
      "   for i in range(0,int(nx)):\n",
      "       diffusi[k,:,i]=np.maximum(0.002*((z[nz-1-k]/H)**2)*(1-np.divide(2*abs(Y[i,:]),(2*Ly))),diffusi[k,:,i])\n",
      "# Write to binary\n",
      "writeFile('diffusi.bin',diffusi)\n",
      "# netcdf check\n",
      "f=netcdf.netcdf_file('diffusi.nc','w')\n",
      "f.createDimension('Z',nz)\n",
      "f.createDimension('Y',ny)\n",
      "f.createDimension('X',nx)\n",
      "Diff=f.createVariable('Diffusi','double',('Z','Y','X'))\n",
      "Diff[:]=diffusi\n",
      "f.close()"
     ],
     "language": "python",
     "metadata": {},
     "outputs": [],
     "prompt_number": 22
    },
    {
     "cell_type": "code",
     "collapsed": false,
     "input": [
      "plt.contourf(y/1000,z,diffusi[:,:,150],24,cm=cm.Spectral)\n",
      "cbar = plt.colorbar()\n",
      "plt.gca().invert_yaxis()"
     ],
     "language": "python",
     "metadata": {},
     "outputs": [
      {
       "metadata": {},
       "output_type": "display_data",
       "png": "[encoded data removed]",
       "text": [
        "<matplotlib.figure.Figure at 0x2b2849c72d50>"
       ]
      }
     ],
     "prompt_number": 23
    },
    {
     "cell_type": "code",
     "collapsed": false,
     "input": [
      "Tref = deltaT*(exp(-z/N)-exp(-H/N))/(1-exp(-H/N))"
     ],
     "language": "python",
     "metadata": {},
     "outputs": [],
     "prompt_number": 18
    },
    {
     "cell_type": "code",
     "collapsed": false,
     "input": [
      "#Make a 3D array of it\n",
      "T=np.ones((nz,ny,nx))\n",
      "Temp_field=np.zeros(np.shape(T))\n",
      "for i in range(int(nx)):\n",
      "    for j in range(int(ny)):\n",
      "        Temp_field[:,j,i]=np.multiply(Tref,T[:,j,i])"
     ],
     "language": "python",
     "metadata": {},
     "outputs": [],
     "prompt_number": 19
    },
    {
     "cell_type": "code",
     "collapsed": false,
     "input": [
      "Tnew = transpose(tile(Temp_field.mean(axis=2),(nx,1,1)),[1,2,0])\n",
      "Tnew[:,-1] = Tnew[:,-2]\n",
      "Tnew = Tnew + 1e-3 * (np.random.random((nz,ny,nx)) - 0.5)"
     ],
     "language": "python",
     "metadata": {},
     "outputs": [],
     "prompt_number": 20
    },
    {
     "cell_type": "code",
     "collapsed": false,
     "input": [
      "# Write to binary\n",
      "writeFile('T_Sponge',Temp_field)\n",
      "writeFile('T.init',Tnew)\n",
      "# netcdf check\n",
      "f=netcdf.netcdf_file('TSponge.nc','w')\n",
      "f.createDimension('X',nx)\n",
      "f.createDimension('Y',ny)\n",
      "f.createDimension('Z',nz)\n",
      "Temp=f.createVariable('Temp','float64',('Z','Y','X'))\n",
      "Temp[:]=Temp_field\n",
      "f.close()"
     ],
     "language": "python",
     "metadata": {},
     "outputs": [],
     "prompt_number": 21
    },
    {
     "cell_type": "code",
     "collapsed": false,
     "input": [],
     "language": "python",
     "metadata": {},
     "outputs": [],
     "prompt_number": 21
    }
   ],
   "metadata": {}
  }
 ]
}