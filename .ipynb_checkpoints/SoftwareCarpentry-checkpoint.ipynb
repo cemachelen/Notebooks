{
 "metadata": {
  "name": "",
  "signature": "sha256:d4ca2357f13275bbdbb91e3fc65e24b977f1afce9f5748b688e6a2aac634fca4"
 },
 "nbformat": 3,
 "nbformat_minor": 0,
 "worksheets": []
}