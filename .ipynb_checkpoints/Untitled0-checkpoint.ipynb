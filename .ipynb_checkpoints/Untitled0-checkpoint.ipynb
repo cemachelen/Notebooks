{
 "metadata": {
  "name": "",
  "signature": "sha256:190681e25ac7b136c546b9dbc36e37c3b65c3445e2f471fa44bb9beffa18ca1b"
 },
 "nbformat": 3,
 "nbformat_minor": 0,
 "worksheets": []
}