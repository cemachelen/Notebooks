{
 "metadata": {
  "name": "",
  "signature": "sha256:4bc2ae79ca42f74c25bd3f0789dd27b6dcb8c66274b41ba99f5a62fb5a2a09bb"
 },
 "nbformat": 3,
 "nbformat_minor": 0,
 "worksheets": [
  {
   "cells": [
    {
     "cell_type": "heading",
     "level": 1,
     "metadata": {},
     "source": [
      "SPIN UP TESTING"
     ]
    },
    {
     "cell_type": "code",
     "collapsed": false,
     "input": [
      "from scipy.io import netcdf\n",
      "import numpy as np\n",
      "import matplotlib.pyplot as plt\n",
      "import os\n",
      "import csv\n",
      "import sys\n",
      "from scipy.interpolate import griddata\n",
      "from pylab import *\n",
      "from IPython.parallel import Client\n",
      "from IPython.display import display, Math, Latex\n",
      "from numba import autojit\n",
      "import glob\n"
     ],
     "language": "python",
     "metadata": {},
     "outputs": [],
     "prompt_number": 1
    },
    {
     "cell_type": "raw",
     "metadata": {},
     "source": [
      "There are a number of tests to check the equilibrium state of the modle:\n",
      "1) Av T of the domain should be constant\n",
      "2) Av K.E. of the domain should be constant\n",
      "3) Av Overturning maxium should be constant\n",
      "These functions can be written in parallel."
     ]
    },
    {
     "cell_type": "heading",
     "level": 2,
     "metadata": {},
     "source": [
      "1) MOC"
     ]
    },
    {
     "cell_type": "code",
     "collapsed": false,
     "input": [
      "display(Latex(r'Maxium overturning streamfunction $\\overline{\\psi}$ should flatten off when model has reached equilibrium :'))\n",
      "display(Math(r'\\overline{\\psi} = \\int_{x_e}^{x_w}\\int_{-H}^{0} \\overline{v}\\, dzdx'))"
     ],
     "language": "python",
     "metadata": {},
     "outputs": [
      {
       "latex": [
        "Maxium overturning streamfunction $\\overline{\\psi}$ should flatten off when model has reached equilibrium :"
       ],
       "metadata": {},
       "output_type": "display_data",
       "text": [
        "<IPython.core.display.Latex at 0x219d850>"
       ]
      },
      {
       "latex": [
        "$$\\overline{\\psi} = \\int_{x_e}^{x_w}\\int_{-H}^{0} \\overline{v}\\, dzdx$$"
       ],
       "metadata": {},
       "output_type": "display_data",
       "text": [
        "<IPython.core.display.Math at 0x219d890>"
       ]
      }
     ],
     "prompt_number": 2
    },
    {
     "cell_type": "code",
     "collapsed": false,
     "input": [
      "Comp=\"Mobilis\"\n",
      "OP=\"Ryan_myedits\"\n",
      "x=\"/noc/msm/scratch/students/hb1g13/\"+Comp+\"/\"+OP+\"/glued_state_files/\"\n",
      "lists=glob.glob(x+'*all.nc')\n",
      "os.chdir(x)"
     ],
     "language": "python",
     "metadata": {},
     "outputs": [],
     "prompt_number": 3
    },
    {
     "cell_type": "code",
     "collapsed": false,
     "input": [
      "def MOC(file3):\n",
      "       x=\"/noc/msm/scratch/students/hb1g13/\"+Comp+\"/\"+OP+\"/glued_state_files/\"\n",
      "       os.chdir(x)\n",
      "       file2read = netcdf.NetCDFFile(file3,'r')\n",
      "       Y=file2read.variables['Yp1']\n",
      "       Y=Y[:]\n",
      "       V=file2read.variables['V']\n",
      "       V=V[:]\n",
      "       I=file2read.variables['T']\n",
      "       time=I[:]\n",
      "       dx=5000\n",
      "       Vtave=np.mean(V,axis = 0)\n",
      "       grd=\"/noc/msm/scratch/students/hb1g13/\"+Comp+\"/\"+OP+\"/grid/\"\n",
      "       os.chdir(grd)\n",
      "       file2=netcdf.netcdf_file('grid.nc','r')\n",
      "       Zp1=file2.variables['Zp1']\n",
      "       Zp=Zp1[:]\n",
      "       Vtave[Vtave==0]=np.nan\n",
      "       Vzone=np.sum(Vtave*dx,axis = 2)\n",
      "       dz=Zp[0:len(Zp)-1]-Zp[1:len(Zp)]\n",
      "       dA=dx*dz\n",
      "       psi = np.zeros((len(Zp),len(Y)))\n",
      "       for j in range(len(Y)):\n",
      "           for k in range(0,len(Zp)-1):\n",
      "               psi[k,j] = psi[k-1,j] + dz[k]*Vzone[k,j]\n",
      "       Psi=np.nanmax(abs(psi/10**6))  \n",
      "       T=time[0]\n",
      "       return Psi,T                "
     ],
     "language": "python",
     "metadata": {},
     "outputs": [],
     "prompt_number": 4
    },
    {
     "cell_type": "code",
     "collapsed": false,
     "input": [
      "# Numba is another AWESOME thing!\n",
      "numba_MOC = autojit()(MOC)\n",
      "numba_MOC.func_name = \"numba_MOC\""
     ],
     "language": "python",
     "metadata": {},
     "outputs": [],
     "prompt_number": 5
    },
    {
     "cell_type": "code",
     "collapsed": false,
     "input": [
      "Psits=[]\n",
      "TS=[]\n",
      "for file in lists:\n",
      "       x=\"/noc/msm/scratch/students/hb1g13/\"+Comp+\"/\"+OP+\"/glued_state_files/\"\n",
      "       os.chdir(x)\n",
      "       file3=str(file)\n",
      "       Psi,T=MOC(str(file))\n",
      "       Psits.append(Psi)\n",
      "       TS.append(T)\n",
      "Psits=np.array(Psits)\n",
      "TS=np.array(TS)"
     ],
     "language": "python",
     "metadata": {},
     "outputs": [
      {
       "ename": "TypeError",
       "evalue": "slice expected at least 1 arguments, got 0",
       "output_type": "pyerr",
       "traceback": [
        "\u001b[1;31m---------------------------------------------------------------------------\u001b[0m\n\u001b[1;31mTypeError\u001b[0m                                 Traceback (most recent call last)",
        "\u001b[1;32m<ipython-input-9-cdb9f92b0434>\u001b[0m in \u001b[0;36m<module>\u001b[1;34m()\u001b[0m\n\u001b[0;32m      5\u001b[0m        \u001b[0mos\u001b[0m\u001b[1;33m.\u001b[0m\u001b[0mchdir\u001b[0m\u001b[1;33m(\u001b[0m\u001b[0mx\u001b[0m\u001b[1;33m)\u001b[0m\u001b[1;33m\u001b[0m\u001b[0m\n\u001b[0;32m      6\u001b[0m        \u001b[0mfile3\u001b[0m\u001b[1;33m=\u001b[0m\u001b[0mstr\u001b[0m\u001b[1;33m(\u001b[0m\u001b[0mfile\u001b[0m\u001b[1;33m)\u001b[0m\u001b[1;33m\u001b[0m\u001b[0m\n\u001b[1;32m----> 7\u001b[1;33m        \u001b[0mPsi\u001b[0m\u001b[1;33m,\u001b[0m\u001b[0mT\u001b[0m\u001b[1;33m=\u001b[0m\u001b[0mnumba_MOC\u001b[0m\u001b[1;33m(\u001b[0m\u001b[0mstr\u001b[0m\u001b[1;33m(\u001b[0m\u001b[0mfile\u001b[0m\u001b[1;33m)\u001b[0m\u001b[1;33m)\u001b[0m\u001b[1;33m\u001b[0m\u001b[0m\n\u001b[0m\u001b[0;32m      8\u001b[0m        \u001b[0mPsits\u001b[0m\u001b[1;33m.\u001b[0m\u001b[0mappend\u001b[0m\u001b[1;33m(\u001b[0m\u001b[0mPsi\u001b[0m\u001b[1;33m)\u001b[0m\u001b[1;33m\u001b[0m\u001b[0m\n\u001b[0;32m      9\u001b[0m        \u001b[0mTS\u001b[0m\u001b[1;33m.\u001b[0m\u001b[0mappend\u001b[0m\u001b[1;33m(\u001b[0m\u001b[0mT\u001b[0m\u001b[1;33m)\u001b[0m\u001b[1;33m\u001b[0m\u001b[0m\n",
        "\u001b[1;31mTypeError\u001b[0m: slice expected at least 1 arguments, got 0"
       ]
      }
     ],
     "prompt_number": 9
    },
    {
     "cell_type": "code",
     "collapsed": false,
     "input": [
      "year=TS/(86400*360)\n",
      "a=np.array((year,Psits))\n",
      "b=a[:,np.argsort(a[0,:])]"
     ],
     "language": "python",
     "metadata": {},
     "outputs": [],
     "prompt_number": 17
    },
    {
     "cell_type": "code",
     "collapsed": false,
     "input": [
      "plt.plot(b[0,:],b[1,:])\n",
      "plt.title(\"Max Mean MOC timeseries for years \"+str(int(b[0,0]))+\"-\"+str(int(b[0,-1])))\n",
      "plt.xlabel('Years')\n",
      "plt.ylabel('$\\overline{\\psi}$ (sv)')\n",
      "x=\"/noc/users/hb1g13/Figures/\"+Comp+\"/\"+OP\n",
      "os.chdir(x)\n",
      "plt.savefig(\"MOCtimeseries.png\")"
     ],
     "language": "python",
     "metadata": {},
     "outputs": [
      {
       "metadata": {},
       "output_type": "display_data",
       "png": "[encoded data removed]",
       "text": [
        "<matplotlib.figure.Figure at 0x2aae582bf8d0>"
       ]
      }
     ],
     "prompt_number": 18
    },
    {
     "cell_type": "heading",
     "level": 2,
     "metadata": {},
     "source": [
      "Average T"
     ]
    },
    {
     "cell_type": "code",
     "collapsed": false,
     "input": [
      "def AvT(file3):\n",
      "       x=\"/noc/msm/scratch/students/hb1g13/\"+Comp+\"/\"+OP+\"/glued_state_files/\"\n",
      "       os.chdir(x)\n",
      "       file2read = netcdf.NetCDFFile(file3,'r')\n",
      "       Temp=file2read.variables['Temp']\n",
      "       temp=Temp[:]\n",
      "       I=file2read.variables['T']\n",
      "       time=I[:]\n",
      "       grd=\"/noc/msm/scratch/students/hb1g13/\"+Comp+\"/\"+OP+\"/grid/\"\n",
      "       os.chdir(grd)\n",
      "       file2=netcdf.netcdf_file('grid.nc','r')\n",
      "       lm=file2.variables['HFacC']\n",
      "       lm=lm[:]\n",
      "       Temptav=np.nanmean(temp,axis=0)\n",
      "       tempav=np.mean(Temptav*lm) \n",
      "       T=time[0]\n",
      "       return tempav,T      "
     ],
     "language": "python",
     "metadata": {},
     "outputs": [],
     "prompt_number": 19
    },
    {
     "cell_type": "code",
     "collapsed": false,
     "input": [
      "tempts=[]\n",
      "TS=[]\n",
      "for file in lists:\n",
      "       x=\"/noc/msm/scratch/students/hb1g13/\"+Comp+\"/\"+OP+\"/glued_state_files/\"\n",
      "       os.chdir(x)\n",
      "       file3=str(file)\n",
      "       tempav,T=AvT(file3)\n",
      "       tempts.append(tempav)\n",
      "       TS.append(T)\n",
      "tempts=np.array(tempts)\n",
      "TS=np.array(TS)"
     ],
     "language": "python",
     "metadata": {},
     "outputs": [],
     "prompt_number": 20
    },
    {
     "cell_type": "code",
     "collapsed": false,
     "input": [
      "year=TS/(86400*360)\n",
      "a=np.array((year,tempts))\n",
      "b=a[:,np.argsort(a[0,:])]"
     ],
     "language": "python",
     "metadata": {},
     "outputs": [],
     "prompt_number": 21
    },
    {
     "cell_type": "code",
     "collapsed": false,
     "input": [
      "plt.plot(b[0,:],b[1,:])\n",
      "plt.title(\"Average domaine temperature timeseries for years \"+str(int(b[0,0]))+\"-\"+str(int(b[0,-1])))\n",
      "plt.xlabel('Years')\n",
      "plt.ylabel('Temp $^o$C')\n",
      "x=\"/noc/users/hb1g13/Figures/\"+Comp+\"/\"+OP\n",
      "os.chdir(x)\n",
      "plt.savefig(\"AvTtimeseries.png\")"
     ],
     "language": "python",
     "metadata": {},
     "outputs": [
      {
       "metadata": {},
       "output_type": "display_data",
       "png": "[encoded data removed]",
       "text": [
        "<matplotlib.figure.Figure at 0x2a0a550>"
       ]
      }
     ],
     "prompt_number": 22
    },
    {
     "cell_type": "heading",
     "level": 2,
     "metadata": {},
     "source": [
      "Average KE "
     ]
    },
    {
     "cell_type": "code",
     "collapsed": false,
     "input": [],
     "language": "python",
     "metadata": {},
     "outputs": [],
     "prompt_number": 22
    }
   ],
   "metadata": {}
  }
 ]
}