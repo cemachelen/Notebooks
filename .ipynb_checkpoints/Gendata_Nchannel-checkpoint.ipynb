{
 "metadata": {
  "name": "",
  "signature": "sha256:5bc615eb072e22df5fcdb79c41c5c022a248167aeefa3b0714127b7406101a3c"
 },
 "nbformat": 3,
 "nbformat_minor": 0,
 "worksheets": [
  {
   "cells": [
    {
     "cell_type": "heading",
     "level": 1,
     "metadata": {},
     "source": [
      "Generate model inputs"
     ]
    },
    {
     "cell_type": "heading",
     "level": 2,
     "metadata": {},
     "source": [
      "This will set up the forcing for Abernathey Style Forcing\n"
     ]
    },
    {
     "cell_type": "code",
     "collapsed": false,
     "input": [
      "from scipy.io import netcdf\n",
      "import numpy as np\n",
      "import matplotlib.pyplot as plt\n",
      "import os\n",
      "import csv\n",
      "import sys\n",
      "import math\n",
      "from pylab import *\n",
      "from IPython.display import display, Math, Latex\n",
      "from numba import jit\n",
      "import glob\n",
      "import plotly.plotly as py"
     ],
     "language": "python",
     "metadata": {},
     "outputs": [],
     "prompt_number": 14
    },
    {
     "cell_type": "markdown",
     "metadata": {},
     "source": [
      "When writing in python it is very important to note reverse dimensions!!\n",
      "MITgcm assumes column major order (as does matlab) Python, uses row major order.\n",
      "Mosty it's fine just to write straight to binary, but to absolutely specific of the format for MITgcm the WriteFile fuction (taken from the MITgcm csv gendata.py):"
     ]
    },
    {
     "cell_type": "code",
     "collapsed": false,
     "input": [
      "# Use writeFile to write files in the correct format!\n",
      "sys.path.append('/noc/users/hb1g13/Python/python_functions/')\n",
      "from Writebin import *"
     ],
     "language": "python",
     "metadata": {},
     "outputs": [],
     "prompt_number": 15
    },
    {
     "cell_type": "heading",
     "level": 2,
     "metadata": {},
     "source": [
      "Decide parameters:"
     ]
    },
    {
     "cell_type": "raw",
     "metadata": {},
     "source": [
      "Resolution \n",
      "Depth\n",
      "Domain\n",
      "Boundary Condition\n",
      "Topography\n",
      "Forcing"
     ]
    },
    {
     "cell_type": "code",
     "collapsed": false,
     "input": [
      "Topo=\"flat\" #Please Choose ridge, slope or flat\n",
      "Wind=\"Standard\" # Sine bell 0.2N/m$^2$\n",
      "Heat=\"nonetQ\" # Please Choose Abernathey or nonetQ\n",
      "BC=\"Sponge\" # Please Choose Sponge or Diffusion\n",
      "Name=\"SpongeQ0\" # Give Experiment Name"
     ],
     "language": "python",
     "metadata": {},
     "outputs": [],
     "prompt_number": 16
    },
    {
     "cell_type": "code",
     "collapsed": false,
     "input": [
      "# Adjust accordingly\n",
      "Res=5000\n",
      "Ly=2000e3\n",
      "Lx=1000e3 #Full domain = 4000km otherwise 1000km\n",
      "H=2985 # Diffusion = 3800m, Sponge = 2985m\n",
      "nz=30 # Diffusion = 24 level, Sponge= 30 levels"
     ],
     "language": "python",
     "metadata": {},
     "outputs": [],
     "prompt_number": 17
    },
    {
     "cell_type": "code",
     "collapsed": false,
     "input": [
      "x=\"/noc/users/hb1g13/MITgcm/Mobilis/\"+Name+\"/input/\" \n",
      "os.chdir(x)"
     ],
     "language": "python",
     "metadata": {},
     "outputs": [],
     "prompt_number": 18
    },
    {
     "cell_type": "heading",
     "level": 2,
     "metadata": {},
     "source": [
      "Set up grid:"
     ]
    },
    {
     "cell_type": "code",
     "collapsed": false,
     "input": [
      "#Dimensions\n",
      "nx=np.round(Lx/Res)\n",
      "ny=np.round(Ly/Res)\n",
      "dx=np.ones(nx)*Res\n",
      "dy=np.ones(ny)*Res\n",
      "#Write binary output\n",
      "writeFile('delY',dy)\n",
      "writeFile('delX',dx)\n",
      "# Create c-grid with grid points in dead center\n",
      "x=(np.cumsum(dx)-dx/2)-Lx/2\n",
      "y=(np.cumsum(dy)-dy/2)-Ly/2\n",
      "[Y, X]=np.meshgrid(y,x) "
     ],
     "language": "python",
     "metadata": {},
     "outputs": [],
     "prompt_number": 19
    },
    {
     "cell_type": "heading",
     "level": 2,
     "metadata": {},
     "source": [
      "Now Create topography:"
     ]
    },
    {
     "cell_type": "markdown",
     "metadata": {},
     "source": [
      "Start with flat, then add slope and ridges"
     ]
    },
    {
     "cell_type": "code",
     "collapsed": false,
     "input": [
      "h= -H*np.ones((nx,ny)) # Flat bottom\n",
      "if Topo==\"ridge\":#2500 and 2000 for full depth\n",
      "         h= h+(1500 + 300*np.sin(10*pi*Y/Ly) + 400*np.sin(8*pi*Y/Ly)+ 300*sin(2\\\n",
      "5*pi*Y/Ly) )*(1/np.cosh(((X)-0.2*Y+3e5)/1.2e5))\n",
      "         h= h+((1000 + 600*np.sin(11*pi*Y/Ly) + 300*np.sin(7*pi*Y/Ly)+ 500*sin(2\\\n",
      "1*pi*Y/Ly) )*(1/np.cosh(((X)+0.1*Y+1.5e6)/1.2e5)))\n",
      "if Topo==\"slope\" or Topo==\"ridge\":\n",
      "    for i in range(int(nx)):\n",
      "      slope= np.transpose(H*(np.divide((Y[i,0:round(0.2*ny)]-Y[i,0]),(Y[i,0]-Y[i,round(0.2*ny)]))))\n",
      "      h2=h[:,0:round(0.2*ny)]\n",
      "      h[:,0:round(0.2*ny)]=np.maximum(slope,h2)\n",
      "# Close both ends\n",
      "h[:,0]=0\n",
      "h[:,-1]=0\n",
      "# Write to binary\n",
      "writeFile('topog',np.transpose(h))"
     ],
     "language": "python",
     "metadata": {},
     "outputs": [],
     "prompt_number": 20
    },
    {
     "cell_type": "code",
     "collapsed": false,
     "input": [
      "fig1 = plt.figure()\n",
      "if Topo==\"flat\" or Topo==\"slope\":\n",
      "    plt.plot(y/1000,h[nx/2,:])\n",
      "    plt.title('Topography')\n",
      "    plt.ylabel('Depth (m)')\n",
      "    plt.xlabel('Y (km)')\n",
      "if Topo=='ridge':\n",
      "    plt.contourf(x/1000,y/1000,np.transpose(h),30)\n",
      "    cb=plt.colorbar()\n",
      "    plt.title('Topography')\n",
      "    plt.ylabel('Y (km)')\n",
      "    plt.xlabel('X (km)')\n",
      "    cb.set_label('Depth (m)')"
     ],
     "language": "python",
     "metadata": {},
     "outputs": [
      {
       "metadata": {},
       "output_type": "display_data",
       "png": "[encoded data removed]",
       "text": [
        "<matplotlib.figure.Figure at 0x2f01c90>"
       ]
      }
     ],
     "prompt_number": 21
    },
    {
     "cell_type": "heading",
     "level": 2,
     "metadata": {},
     "source": [
      "Surface Heat Forcing"
     ]
    },
    {
     "cell_type": "markdown",
     "metadata": {},
     "source": [
      "Now for the surface heat forcing:\n",
      "Must have bouyancy gain in the south and bouyancy loss over maximum wind sress to allow overturning\n",
      "\n",
      "\n",
      "$Q=-Q_{0}\\,cos(\\frac{3\\pi y}{Ly})\\quad \\quad \\quad \\quad y \\le \\frac{5Ly}{6}$"
     ]
    },
    {
     "cell_type": "code",
     "collapsed": false,
     "input": [
      "#MITgcm opposite way round\n",
      "Q=10*(np.sin(Y*(3*pi/Ly)))\n",
      "Q[:,ny-(np.round(ny/6)):ny]=0\n",
      "if Heat==\"nonetQ\":\n",
      "   Q=np.zeros(np.shape(Q))\n",
      "   Q[:,0:int(5*ny/36)]=-11*(np.sin(Y[:,0:int(5*ny/36)]*(pi/Y[1,int(5*ny/36)])))\n",
      "   Q[:,int(5*ny/36):int(20*ny/36)]=10*(np.sin((Y[:,int(5*ny/36):int(20*ny/36)]-Y[1,int(5*ny/36)])*(pi/(5*Y[1,int(15*ny/36)]))))\n",
      "   Q[:,int(20*ny/36):int(30*ny/36)]=-10.5*(np.sin((Y[:,int(20*ny/36):int(30*ny/36)]-Y[1,int(20*ny/36)])*(0.8*pi/(Y[1,int(10*ny/36)]))))\n",
      "   Q=Q+(-sum(Q)/(ny*nx)) \n",
      "# Write to binary\n",
      "writeFile('Qsurface',np.transpose(Q))\n",
      "# netcdf check\n",
      "f=netcdf.netcdf_file('Qsurface.nc','w')\n",
      "f.createDimension('X',nx)\n",
      "f.createDimension('Y',ny)\n",
      "Q2=f.createVariable('Q','float',('X','Y'))\n",
      "Q2[:]=Q\n",
      "f.close()"
     ],
     "language": "python",
     "metadata": {},
     "outputs": [],
     "prompt_number": 22
    },
    {
     "cell_type": "code",
     "collapsed": false,
     "input": [
      "'''The 0.8, 10.5 and 11 above are used to force the heat flux to as \n",
      "   close as possible and then the last line forces the net flux to 0\n",
      "   It is best to check this!!!!'''\n",
      "sum(Q)"
     ],
     "language": "python",
     "metadata": {},
     "outputs": [
      {
       "metadata": {},
       "output_type": "pyout",
       "prompt_number": 23,
       "text": [
        "-4.5465835089852913e-11"
       ]
      }
     ],
     "prompt_number": 23
    },
    {
     "cell_type": "code",
     "collapsed": false,
     "input": [
      "fig1 = plt.figure()\n",
      "plt.plot(y/1000,Q[100,:])\n",
      "plt.title('Surface Heat Flux $W/m^2$')\n",
      "plt.ylabel('Heat Flux ($W/m^2$)')\n",
      "plt.xlabel('Meridional Distance (m)')"
     ],
     "language": "python",
     "metadata": {},
     "outputs": [
      {
       "metadata": {},
       "output_type": "pyout",
       "prompt_number": 24,
       "text": [
        "<matplotlib.text.Text at 0x2fcef90>"
       ]
      },
      {
       "metadata": {},
       "output_type": "display_data",
       "png": "[encoded data removed]",
       "text": [
        "<matplotlib.figure.Figure at 0x3753090>"
       ]
      }
     ],
     "prompt_number": 24
    },
    {
     "cell_type": "heading",
     "level": 2,
     "metadata": {},
     "source": [
      "Windstress"
     ]
    },
    {
     "cell_type": "markdown",
     "metadata": {},
     "source": [
      "Plus the Windress with $\\tau_o$ set to $0.2Nm^-2$\n",
      "\n",
      "$\\tau_s(y)=\\tau_0 sin(\\frac{\\pi y}{Ly})$"
     ]
    },
    {
     "cell_type": "code",
     "collapsed": false,
     "input": [
      "tau=0.2*((np.sin((Y+Ly/2)*(pi/Ly)))) #Y is centred at 0 so put that back!\n",
      "if BC=='Diffusion':\n",
      "    Taunew = tau + 2e-3 * (np.random.random((nx,ny)) - 0.5)\n",
      "    tau=Taunew\n",
      "# Write to binary\n",
      "writeFile('Wind',np.transpose(tau))\n",
      "# netcdf check\n",
      "f=netcdf.netcdf_file('Wind.nc','w')\n",
      "f.createDimension('Xp1',nx+1)\n",
      "f.createDimension('Y',ny)\n",
      "tau3=np.zeros((ny,nx+1))\n",
      "tau3[:,1:]=np.transpose(tau)\n",
      "tau2=f.createVariable('tau','double',('Xp1','Y'))\n",
      "tau2[:]=np.transpose(tau3)\n",
      "f.close()"
     ],
     "language": "python",
     "metadata": {},
     "outputs": [],
     "prompt_number": 25
    },
    {
     "cell_type": "code",
     "collapsed": false,
     "input": [
      "plt.plot(y/1000,tau[100,:])\n",
      "plt.title('Surface Wind Stress $N/m^2$')\n",
      "plt.ylabel('$\\tau$ ($N/m^2$)')\n",
      "plt.xlabel('Meridional Distance (m)')"
     ],
     "language": "python",
     "metadata": {},
     "outputs": [
      {
       "metadata": {},
       "output_type": "pyout",
       "prompt_number": 26,
       "text": [
        "<matplotlib.text.Text at 0x374ba50>"
       ]
      },
      {
       "metadata": {},
       "output_type": "display_data",
       "png": "[encoded data removed]",
       "text": [
        "<matplotlib.figure.Figure at 0x375f790>"
       ]
      }
     ],
     "prompt_number": 26
    },
    {
     "cell_type": "heading",
     "level": 2,
     "metadata": {},
     "source": [
      "Generate Sponge"
     ]
    },
    {
     "cell_type": "raw",
     "metadata": {},
     "source": [
      "Now creat a Sponge mask and a reference profile to relax to:"
     ]
    },
    {
     "cell_type": "code",
     "collapsed": false,
     "input": [
      "#Parameters\n",
      "N=1e3 # Natural stratification\n",
      "deltaT=8\n",
      "Tref=np.zeros(nz)\n",
      "#Create depth array:\n",
      "a=5,22.5,60\n",
      "b=np.linspace(135,2535,25)\n",
      "c=2685,2885\n",
      "z=np.concatenate([a,b,c])"
     ],
     "language": "python",
     "metadata": {},
     "outputs": [],
     "prompt_number": 27
    },
    {
     "cell_type": "markdown",
     "metadata": {},
     "source": [
      "\\begin{equation*} T^*(z)=\\Delta T\\frac{(e^{z/h}-e^{-H/h})}{1-e^{-H/h}} \\end{equation*}"
     ]
    },
    {
     "cell_type": "code",
     "collapsed": false,
     "input": [
      "Tref = deltaT*(exp(-z/N)-exp(-H/N))/(1-exp(-H/N))"
     ],
     "language": "python",
     "metadata": {},
     "outputs": [],
     "prompt_number": 28
    },
    {
     "cell_type": "code",
     "collapsed": false,
     "input": [
      "plt.plot(Tref,z)\n",
      "plt.gca().invert_yaxis()\n",
      "plt.title('Temperature Profile')\n",
      "plt.ylabel('Depth (m)')\n",
      "plt.xlabel('Temperature $^oC$')"
     ],
     "language": "python",
     "metadata": {},
     "outputs": [
      {
       "metadata": {},
       "output_type": "pyout",
       "prompt_number": 29,
       "text": [
        "<matplotlib.text.Text at 0x3756210>"
       ]
      },
      {
       "metadata": {},
       "output_type": "display_data",
       "png": "[encoded data removed]",
       "text": [
        "<matplotlib.figure.Figure at 0x374e0d0>"
       ]
      }
     ],
     "prompt_number": 29
    },
    {
     "cell_type": "code",
     "collapsed": false,
     "input": [
      "#Make a 3D array of it\n",
      "T=np.ones((nz,ny,nx))\n",
      "Temp_field=np.zeros(np.shape(T))\n",
      "for i in range(int(nx)):\n",
      "    for j in range(int(ny)):\n",
      "        Temp_field[:,j,i]=np.multiply(Tref,T[:,j,i])"
     ],
     "language": "python",
     "metadata": {},
     "outputs": [],
     "prompt_number": 30
    },
    {
     "cell_type": "code",
     "collapsed": false,
     "input": [
      "Tnew = transpose(tile(Temp_field.mean(axis=2),(nx,1,1)),[1,2,0])\n",
      "Tnew[:,-1] = Tnew[:,-2]\n",
      "#Maybe add more \n",
      "if BC=='Diffusion':\n",
      "    Tnew = Tnew + 2e-3 * (np.random.random((nz,ny,nx)) - 0.5)\n",
      "else:\n",
      "    Tnew = Tnew + 1e-3 * (np.random.random((nz,ny,nx)) - 0.5)"
     ],
     "language": "python",
     "metadata": {},
     "outputs": [],
     "prompt_number": 31
    },
    {
     "cell_type": "code",
     "collapsed": false,
     "input": [
      "# Write to binary\n",
      "writeFile('T_Sponge',Temp_field)\n",
      "writeFile('T.init',Tnew)\n",
      "# netcdf check\n",
      "f=netcdf.netcdf_file('TSponge.nc','w')\n",
      "f.createDimension('X',nx)\n",
      "f.createDimension('Y',ny)\n",
      "f.createDimension('Z',nz)\n",
      "Temp=f.createVariable('Temp','double',('Z','Y','X'))\n",
      "Temp[:]=Temp_field\n",
      "f.close()"
     ],
     "language": "python",
     "metadata": {},
     "outputs": [],
     "prompt_number": 32
    },
    {
     "cell_type": "code",
     "collapsed": false,
     "input": [
      "#Make 3D mask\n",
      "#Must vary between 0 (no Relaxation) and 1 (full relaxtion)\n",
      "#I have gone for a parabolic decay in x and linear decay in z (from playing around)\n",
      "msk=np.zeros(np.shape(T))\n",
      "for k in range(0,len(z)):\n",
      "    for i in range(len(x)):  \n",
      "        msk[k,ny-20:ny,i]=((np.divide((Y[i,ny-21:ny-1]-Y[i,ny-21]),(Y[i,ny-1]-Y[i,ny-21]))))\\\n",
      "        #*(z[k]/H)    \n",
      "# Write to binary\n",
      "writeFile('T.msk',msk)\n",
      "# netcdf check\n",
      "f=netcdf.netcdf_file('Mask.nc','w')\n",
      "f.createDimension('X',nx)\n",
      "f.createDimension('Y',ny)\n",
      "f.createDimension('Z',nz)\n",
      "Mask=f.createVariable('Mask','double',('Z','Y','X'))\n",
      "Mask[:]=(msk)\n",
      "f.close()"
     ],
     "language": "python",
     "metadata": {},
     "outputs": [],
     "prompt_number": 33
    },
    {
     "cell_type": "code",
     "collapsed": false,
     "input": [
      "plt.contourf(y/1000,z,msk[:,:,100],24,cm=cm.Spectral)\n",
      "cbar = plt.colorbar()\n",
      "plt.gca().invert_yaxis()\n",
      "plt.title('Mask Matrix')\n",
      "plt.ylabel('Depth (m)')\n",
      "plt.xlabel('Meridional Distance (km)')"
     ],
     "language": "python",
     "metadata": {},
     "outputs": [
      {
       "metadata": {},
       "output_type": "pyout",
       "prompt_number": 34,
       "text": [
        "<matplotlib.text.Text at 0x3763090>"
       ]
      },
      {
       "metadata": {},
       "output_type": "display_data",
       "png": "[encoded data removed]",
       "text": [
        "<matplotlib.figure.Figure at 0x37baa90>"
       ]
      }
     ],
     "prompt_number": 34
    },
    {
     "cell_type": "markdown",
     "metadata": {},
     "source": [
      "From Hogg papers if you used enhanced diffusion in the surface mixed layer you can create a surface mixed layer and use convective adjustment to keep the model more stable - will the diffusion kill the eddies? I've \"#\" it out for now."
     ]
    },
    {
     "cell_type": "code",
     "collapsed": false,
     "input": [
      "if BC==\"Diffusion\":\n",
      "        #Background\n",
      "        diffusi=(1e-5)*np.ones((nz,ny,nx))\n",
      "        # Linear ramp\n",
      "        for k in range(0,nz):\n",
      "           for i in range(0,int(nx)):\n",
      "               diffusi[k,ny-20:ny,i]=0.0005+500*(np.divide((Y[i,ny-21:ny-1]-Y[i,ny-21]),\\\n",
      "                                                            (Y[i,ny-1]-Y[i,ny-21])))\\\n",
      "                *diffusi[k,ny-21:ny-1,i]*((z[k]/H))\n",
      "               # Enhance at the surface\n",
      "        #for k in range(0,3):\n",
      "        #    for i in range(0,int(nx)):\n",
      "        #        diffusi[k,:,i]=np.maximum(0.002*((z[nz-1-k]/H))\\\n",
      "        #                                *(1-np.divide(2*abs(Y[i,:]),(3*Ly))) ,diffusi[k,:,i])\n",
      "        # Write to binary\n",
      "        writeFile('diffusi.bin',diffusi)\n",
      "        # netcdf check\n",
      "        f=netcdf.netcdf_file('diffusi.nc','w')\n",
      "        f.createDimension('Z',nz)\n",
      "        f.createDimension('Y',ny)\n",
      "        f.createDimension('X',nx)\n",
      "        Diff=f.createVariable('Diffusi','double',('Z','Y','X'))\n",
      "        Diff[:]=diffusi\n",
      "        f.close()\n",
      "        plt.contourf(y/1000,z,diffusi[:,:,150],24,cm=cm.Spectral)\n",
      "        cbar = plt.colorbar()\n",
      "        plt.gca().invert_yaxis()"
     ],
     "language": "python",
     "metadata": {},
     "outputs": [],
     "prompt_number": 35
    },
    {
     "cell_type": "code",
     "collapsed": false,
     "input": [],
     "language": "python",
     "metadata": {},
     "outputs": [],
     "prompt_number": 35
    }
   ],
   "metadata": {}
  }
 ]
}