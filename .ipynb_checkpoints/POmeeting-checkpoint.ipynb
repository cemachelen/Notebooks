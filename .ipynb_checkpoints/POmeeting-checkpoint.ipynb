{
 "metadata": {
  "name": "",
  "signature": "sha256:17cdbb9a3a14c43a629981167ce346cbbcebadc80b09d1e20ac97630367724fa"
 },
 "nbformat": 3,
 "nbformat_minor": 0,
 "worksheets": [
  {
   "cells": [
    {
     "cell_type": "code",
     "collapsed": false,
     "input": [],
     "language": "python",
     "metadata": {},
     "outputs": []
    }
   ],
   "metadata": {}
  }
 ]
}