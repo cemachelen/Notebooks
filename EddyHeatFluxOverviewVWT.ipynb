{
 "metadata": {
  "name": "",
  "signature": "sha256:02d91ea780f363a91cabb4464e572f0614194ac80761de5e3be42da8dae451de"
 },
 "nbformat": 3,
 "nbformat_minor": 0,
 "worksheets": [
  {
   "cells": [
    {
     "cell_type": "heading",
     "level": 1,
     "metadata": {},
     "source": [
      "Eddy Heat Fluxes"
     ]
    },
    {
     "cell_type": "markdown",
     "metadata": {},
     "source": [
      "Eddy Heat Fluxes calculated as zonal and temporal averages.\n",
      "\n",
      "You must do this is in year chuncks and import the 20 year time averaged files otherwise there will be memory errors :(\n",
      "NCO to time aver and slit the files in to correst sizes\n",
      "\n",
      "\n",
      "First break down in for flat cases, no area mask and no intergration along Stream lines"
     ]
    },
    {
     "cell_type": "markdown",
     "metadata": {},
     "source": [
      "Eddy heat fluxes:\n",
      "\n",
      "1$^{st}$ break down = simple mean and eddy components\n",
      "\n",
      "$v\\,=\\, \\overline{v}+v'$\n",
      "\n",
      "$t\\,=\\,\\overline{t}+t'$\n",
      "\n",
      "Total Heat Flux: $C_p\\,\\rho \\, \\iint \\overline{vt}\\, dA$\n",
      "\n",
      "Mean Heat Flux= $C_p\\,\\rho \\, \\iint \\overline{v}\\overline{t}\\, dA$\n",
      "\n",
      "Eddy Heat Flux= $C_p\\,\\rho \\, \\iint \\overline{v't'}\\, dA$\n",
      "\n",
      "2$^{nd}$ break down = Mean Eddy and Standing Eddy components \n",
      "\n",
      "* Make a script Heatfluxes_flat that reads in the time averaged files cycles through the year files creating $\\overline{v't'}$ and produces the graphs to figures file\n",
      "\n",
      "* Make script for full topo\n",
      "\n",
      "* Make script integrating along streamlines\n"
     ]
    },
    {
     "cell_type": "code",
     "collapsed": false,
     "input": [
      "from scipy.io import netcdf\n",
      "import numpy as np\n",
      "import matplotlib.pyplot as plt\n",
      "import os\n",
      "import csv\n",
      "import sys\n",
      "import netCDF4\n",
      "from pylab import *\n",
      "from numba import autojit\n",
      "sys.path.append('/noc/users/hb1g13/Python/python_functions/')\n",
      "import useful as hb"
     ],
     "language": "python",
     "metadata": {},
     "outputs": [],
     "prompt_number": 1
    },
    {
     "cell_type": "code",
     "collapsed": false,
     "input": [
      "Comp=\"Mobilis\"\n",
      "OP=\"3daynokpp\"\n",
      "#Years=\"200-201\"\n",
      "#x=\"/noc/msm/scratch/students/hb1g13/\"+Comp+\"/\"+OP+\"/\" \n",
      "x='/hpcdata/scratch/hb1g13/NchannelFlat'\n",
      "os.chdir(x)"
     ],
     "language": "python",
     "metadata": {},
     "outputs": [],
     "prompt_number": 2
    },
    {
     "cell_type": "code",
     "collapsed": false,
     "input": [
      "file2 = netCDF4.Dataset(x+'/'+str(OP)+'/grid.nc','r') \n",
      "Yc=file2.variables['Y'][:]\n",
      "Zp=file2.variables['Zp1'][:]\n",
      "Z=file2.variables['Z'][:]\n",
      "X=file2.variables['X'][:]\n",
      "Yp1=file2.variables['Yp1'][:]"
     ],
     "language": "python",
     "metadata": {},
     "outputs": [],
     "prompt_number": 3
    },
    {
     "cell_type": "code",
     "collapsed": false,
     "input": [
      "file2 = netCDF4.Dataset(x+'/'+str(OP)+'/Tav.nc','r') \n",
      "Ttav=file2.variables['THETA'][:].squeeze()\n",
      "Vtav=file2.variables['VVEL'][:].squeeze()\n",
      "file3 = netCDF4.Dataset(x+'/'+str(OP)+'/WTav.nc','r') \n",
      "Wtav=file3.variables['WVEL'][:].squeeze()"
     ],
     "language": "python",
     "metadata": {},
     "outputs": [],
     "prompt_number": 5
    },
    {
     "cell_type": "code",
     "collapsed": false,
     "input": [
      "#Area matrix\n",
      "dx=5000\n",
      "dz=Zp[0:len(Zp)-1]-Zp[1:len(Zp)]\n",
      "dA=dz*5000"
     ],
     "language": "python",
     "metadata": {},
     "outputs": [],
     "prompt_number": 6
    },
    {
     "cell_type": "markdown",
     "metadata": {},
     "source": [
      "Mean Heat Flux:\n",
      "\n",
      "$\\iint \\overline{V}\\overline{T} dA$"
     ]
    },
    {
     "cell_type": "code",
     "collapsed": false,
     "input": [
      "VT=hb.numba_regridy(Vtav)*Ttav\n",
      "npad=((0,1),(0,0),(0,0))\n",
      "WTav=np.pad(Wtav,pad_width=npad, mode='constant', constant_values=0)\n",
      "WT=hb.numba_regridz(WTav)*Ttav\n",
      "VTdA=np.zeros(shape(VT))\n",
      "WTdA=np.zeros(shape(VT))\n",
      "for k in range(len(dz)):\n",
      "    VTdA[k,:,:]=VT[k,:,:]*dA[k]\n",
      "    WTdA[k,:,:]=WT[k,:,:]*dA[k]"
     ],
     "language": "python",
     "metadata": {},
     "outputs": [],
     "prompt_number": 12
    },
    {
     "cell_type": "code",
     "collapsed": false,
     "input": [
      "MeanHF=1030*3985*(np.sum(np.sum(VTdA,axis=0),axis=1))/10**15"
     ],
     "language": "python",
     "metadata": {},
     "outputs": [],
     "prompt_number": 7
    },
    {
     "cell_type": "markdown",
     "metadata": {},
     "source": [
      "Total Heat Flux:\n",
      "\n",
      "$\\iint \\overline{VT} dA$"
     ]
    },
    {
     "cell_type": "code",
     "collapsed": false,
     "input": [
      "fileVTprime= netCDF4.Dataset(x+'/'+str(OP)+'/VTprimebar.nc','r')\n",
      "VTp=fileVTprime.variables['VT'][:]\n",
      "fileVTprime= netCDF4.Dataset(x+'/'+str(OP)+'/VTbar.nc','r')\n",
      "VTbar=fileVTprime.variables['VT'][:]\n",
      "VTdA=np.zeros(shape(VT))\n",
      "for k in range(len(dz)):\n",
      "    VTdA[k,:,:]=VTbar[k,:,:]*dA[k]"
     ],
     "language": "python",
     "metadata": {},
     "outputs": [],
     "prompt_number": 8
    },
    {
     "cell_type": "code",
     "collapsed": false,
     "input": [
      "TotalHF=1030*3985*(np.sum(np.sum(VTdA,axis=0),axis=1))/10**15"
     ],
     "language": "python",
     "metadata": {},
     "outputs": [],
     "prompt_number": 9
    },
    {
     "cell_type": "markdown",
     "metadata": {},
     "source": [
      "Eddy Heat Flux:\n",
      "\n",
      "$V'\\,=\\, V- \\overline{V} $\n",
      "\n",
      "$\\iint \\overline{V'T'} dA$"
     ]
    },
    {
     "cell_type": "raw",
     "metadata": {},
     "source": [
      "def eddycomp(Tracer,Tav):\n",
      "    Vprime=np.zeros(shape(Tracer))\n",
      "    for k in range(len(Tracer[:,1,1,1])):\n",
      "        Vprime[k,:,:,:]=Tracer[k,:,:,:]-Tav\n",
      "    return Vprime\n",
      "numba_eddycomp = autojit()(eddycomp)\n",
      "numba_eddycomp.func_name = \"numba_eddycomp\"\n",
      "Vprime=numba_eddycomp(Vc,Vtav)"
     ]
    },
    {
     "cell_type": "raw",
     "metadata": {},
     "source": [
      "Tprime=numba_eddycomp(Temp,Ttav)"
     ]
    },
    {
     "cell_type": "code",
     "collapsed": false,
     "input": [
      "#VT=Vprime*Tprime\n",
      "#VTbar=np.mean(VT,axis=0)\n",
      "VTdA=np.zeros(shape(VT))\n",
      "for k in range(len(dz)):\n",
      "    VTdA[k,:,:]=VTp[k,:,:]*dA[k]\n",
      "EddyHF=1030*3985*(np.sum(np.sum(VTdA,axis=0),axis=1))/10**15"
     ],
     "language": "python",
     "metadata": {},
     "outputs": [],
     "prompt_number": 10
    },
    {
     "cell_type": "code",
     "collapsed": true,
     "input": [
      "E,=plt.plot(EddyHF)\n",
      "M,=plt.plot(MeanHF,'r')\n",
      "T,=plt.plot(TotalHF,'k')\n",
      "MEp,=plt.plot(MeanHF+EddyHF,'--k')\n",
      "plt.title(\"Meridional Heat Fluxes (\"+OP+\")\")\n",
      "plt.ylabel(\"Heat Flux (PW)\")\n",
      "plt.xlabel(\"Meridional Distance (km)\")\n",
      "lgd=legend([E,M,T],[\"Eddy $V'T'$\",\"Mean $\\overline{V}\\,\\,\\overline{T}$\",\"Total $\\overline{VT}$\"],bbox_to_anchor=(1.05, 1), loc=2, borderaxespad=0.)\n",
      "plt.savefig(\"/noc/users/hb1g13/Figures/\"+Comp+\"/\"+OP+\"/EMTplt.png\",bbox_extra_artists=(lgd,), bbox_inches='tight')"
     ],
     "language": "python",
     "metadata": {},
     "outputs": [
      {
       "metadata": {},
       "output_type": "display_data",
       "png": "[encoded data removed]",
       "text": [
        "<matplotlib.figure.Figure at 0x2b1f19994610>"
       ]
      }
     ],
     "prompt_number": 11
    },
    {
     "cell_type": "markdown",
     "metadata": {},
     "source": [
      "Now to break down the mean \n",
      "\n",
      "$\\overline{v}\\overline{t}\\,=\\, < v > t^* + < t > v^* + < v > < t> +v^*t^*$"
     ]
    },
    {
     "cell_type": "code",
     "collapsed": false,
     "input": [
      "vzone=np.mean(Vtav,axis=2)\n",
      "tzone=np.mean(Ttav,axis=2)"
     ],
     "language": "python",
     "metadata": {},
     "outputs": []
    },
    {
     "cell_type": "code",
     "collapsed": false,
     "input": [
      "def gyrecomps(Tav1,Zone1,Tav2,Zone2):\n",
      "    T1star=np.zeros(shape(Tav1))\n",
      "    T2star=np.zeros(shape(Tav1))\n",
      "    T1sz=np.zeros(shape(Tav1))\n",
      "    T2sz=np.zeros(shape(Tav1))\n",
      "    for i in range(len(Tav1[1,1,:])):\n",
      "        T1star[:,:,i]=Tav1[:,:,i]-Zone1\n",
      "        T2star[:,:,i]=Tav2[:,:,i]-Zone2\n",
      "        T1sz[:,:,i]=T1star[:,:,i]*Zone2\n",
      "        T2sz[:,:,i]=T2star[:,:,i]*Zone1\n",
      "    return T1star, T2star, T1sz, T2sz"
     ],
     "language": "python",
     "metadata": {},
     "outputs": []
    },
    {
     "cell_type": "code",
     "collapsed": false,
     "input": [
      "numba_gyrecomps= autojit()(gyrecomps)\n",
      "numba_gyrecomps.func_name = \"numba_gyrecomps\""
     ],
     "language": "python",
     "metadata": {},
     "outputs": []
    },
    {
     "cell_type": "code",
     "collapsed": false,
     "input": [
      "[T1star, T2star, T1sz, T2sz]=numba_gyrecomps(Ttav,tzone,Vtav,vzone)"
     ],
     "language": "python",
     "metadata": {},
     "outputs": []
    },
    {
     "cell_type": "code",
     "collapsed": false,
     "input": [
      "vtzone=vzone*tzone\n",
      "vtstar=T1star*T2star"
     ],
     "language": "python",
     "metadata": {},
     "outputs": []
    },
    {
     "cell_type": "code",
     "collapsed": false,
     "input": [
      "def xdA(Term,dA):\n",
      "    VTdA=np.zeros(shape(Term))\n",
      "    for k in range(len(dz)):\n",
      "        VTdA[k,:,:]=Term[k,:,:]*dA[k]\n",
      "    return VTdA"
     ],
     "language": "python",
     "metadata": {},
     "outputs": []
    },
    {
     "cell_type": "code",
     "collapsed": false,
     "input": [
      "numba_xdA= autojit()(xdA)\n",
      "numba_xdA.func_name = \"numba_xdA\""
     ],
     "language": "python",
     "metadata": {},
     "outputs": []
    },
    {
     "cell_type": "code",
     "collapsed": false,
     "input": [
      "#T1=numba_xdA(vtzone,dA)\n",
      "T2=numba_xdA(T1sz,dA)\n",
      "T3=numba_xdA(T2sz,dA)\n",
      "T4=numba_xdA(vtstar,dA)"
     ],
     "language": "python",
     "metadata": {},
     "outputs": []
    },
    {
     "cell_type": "code",
     "collapsed": false,
     "input": [
      "T1=np.zeros(shape(vtzone))\n",
      "for k in range(len(dz)):\n",
      "    T1[k,:]=vtzone[k,:]*dA[k]"
     ],
     "language": "python",
     "metadata": {},
     "outputs": []
    },
    {
     "cell_type": "code",
     "collapsed": false,
     "input": [
      "G1=200*1030*3985*(np.sum(T1,axis=0))/10**15\n",
      "G2=1030*3985*(np.sum(np.sum(T2,axis=0),axis=1))/10**15\n",
      "G3=1030*3985*(np.sum(np.sum(T3,axis=0),axis=1))/10**15\n",
      "G4=1030*3985*(np.sum(np.sum(T4,axis=0),axis=1))/10**15"
     ],
     "language": "python",
     "metadata": {},
     "outputs": []
    },
    {
     "cell_type": "code",
     "collapsed": false,
     "input": [
      "GyreHF=G2+G3+G4\n",
      "MeanHF=G1"
     ],
     "language": "python",
     "metadata": {},
     "outputs": []
    },
    {
     "cell_type": "code",
     "collapsed": false,
     "input": [
      "E,=plt.plot(EddyHF)\n",
      "M,=plt.plot(MeanHF,'r')\n",
      "G,=plt.plot(GyreHF,'g')\n",
      "T,=plt.plot(TotalHF,'k')\n",
      "plt.title(\"Meridional Heat Fluxes (\"+OP+\")\")\n",
      "plt.ylabel(\"Heat Flux (PW)\")\n",
      "plt.xlabel(\"Meridional Distance (km)\")\n",
      "lgd=legend([E,M,G,T],[\"Eddy $V'T'$\",\"Mean <$\\overline{V}><\\overline{T}>$\",\"Gyre $V^*T^*$\",\"Total $\\overline{VT}$\"],bbox_to_anchor=(1.05, 1), loc=2, borderaxespad=0.)\n",
      "plt.savefig(\"/noc/users/hb1g13/Figures/\"+Comp+\"/\"+OP+\"/EMTGplt.png\",bbox_extra_artists=(lgd,), bbox_inches='tight')"
     ],
     "language": "python",
     "metadata": {},
     "outputs": []
    },
    {
     "cell_type": "code",
     "collapsed": false,
     "input": [
      "np.mean(TotalHF-EddyHF-MeanHF) "
     ],
     "language": "python",
     "metadata": {},
     "outputs": [
      {
       "metadata": {},
       "output_type": "pyout",
       "prompt_number": 45,
       "text": [
        "1.3818072161410065e-10"
       ]
      }
     ],
     "prompt_number": 45
    },
    {
     "cell_type": "markdown",
     "metadata": {},
     "source": [
      "Balances very well! (3 day output looks like it is frequent enough!)"
     ]
    },
    {
     "cell_type": "code",
     "collapsed": false,
     "input": [
      "EddyHF0=1030*3985*(np.sum(np.sum(VTdA[0:3,:,:],axis=0),axis=1))/10**15\n",
      "EddyHF1=1030*3985*(np.sum(np.sum(VTdA[0:5,:,:],axis=0),axis=1))/10**15\n",
      "EddyHF2=1030*3985*(np.sum(np.sum(VTdA[0:10,:,:],axis=0),axis=1))/10**15\n",
      "EddyHF3=1030*3985*(np.sum(np.sum(VTdA[0:15,:,:],axis=0),axis=1))/10**15\n",
      "EddyHF4=1030*3985*(np.sum(np.sum(VTdA[0:20,:,:],axis=0),axis=1))/10**15"
     ],
     "language": "python",
     "metadata": {},
     "outputs": []
    },
    {
     "cell_type": "code",
     "collapsed": false,
     "input": [
      "E0,=plt.plot(EddyHF0,'k')\n",
      "E1,=plt.plot(EddyHF1)\n",
      "E2,=plt.plot(EddyHF2,'r')\n",
      "E3,=plt.plot(EddyHF3,'g')\n",
      "E4,=plt.plot(EddyHF4,'c')\n",
      "E5,=plt.plot(EddyHF,'m')\n",
      "plt.title(\"Meridional Eddy Fluxes (\"+OP+\"s)\")\n",
      "plt.ylabel(\"Heat Flux (PW)\")\n",
      "plt.xlabel(\"Meridional Distance (km)\")\n",
      "plt.savefig(\"/noc/users/hb1g13/Figures/\"+Comp+\"/\"+OP+\"/Eddysplt.png\",bbox_extra_artists=(lgd,), bbox_inches='tight')"
     ],
     "language": "python",
     "metadata": {},
     "outputs": []
    },
    {
     "cell_type": "code",
     "collapsed": false,
     "input": [
      "VTbar=(hb.numba_regridy(Vtav)*Ttav)"
     ],
     "language": "python",
     "metadata": {},
     "outputs": [],
     "prompt_number": 65
    },
    {
     "cell_type": "code",
     "collapsed": false,
     "input": [
      "for k in range(len(dz)):\n",
      "    VTdA[k,:,:]=VTp[k,:,:]*dA[k]\n",
      "EddyHF=1030*3985*(np.sum(np.cumsum(VTdA,axis=0),axis=2))/10**15"
     ],
     "language": "python",
     "metadata": {},
     "outputs": [],
     "prompt_number": 60
    },
    {
     "cell_type": "code",
     "collapsed": false,
     "input": [
      "for k in range(len(dz)):\n",
      "    VTdA[k,:,:]=VTbar[k,:,:]*dA[k]\n",
      "TotalHF=1030*3985*(np.sum(np.cumsum(VTdA,axis=0),axis=2))/10**15"
     ],
     "language": "python",
     "metadata": {},
     "outputs": [],
     "prompt_number": 75
    },
    {
     "cell_type": "code",
     "collapsed": false,
     "input": [
      "VT=hb.numba_regridy(Vtav)*Ttav\n",
      "VTdA=np.zeros(shape(VT))\n",
      "for k in range(len(dz)):\n",
      "    VTdA[k,:,:]=VT[k,:,:]*dA[k]\n",
      "MeanHF=1030*3985*(np.sum(np.cumsum(VTdA,axis=0),axis=2))/10**15"
     ],
     "language": "python",
     "metadata": {},
     "outputs": [],
     "prompt_number": 76
    },
    {
     "cell_type": "code",
     "collapsed": false,
     "input": [
      "contourf(Yc/1000,Z,EddyHF+MeanHF)\n",
      "colorbar()"
     ],
     "language": "python",
     "metadata": {},
     "outputs": [
      {
       "metadata": {},
       "output_type": "pyout",
       "prompt_number": 77,
       "text": [
        "<matplotlib.colorbar.Colorbar instance at 0x2b011494e878>"
       ]
      },
      {
       "metadata": {},
       "output_type": "display_data",
       "png": "[encoded data removed]",
       "text": [
        "<matplotlib.figure.Figure at 0x2b011871b090>"
       ]
      }
     ],
     "prompt_number": 77
    },
    {
     "cell_type": "code",
     "collapsed": false,
     "input": [
      "contourf(Yc/1000,Z,TotalHF)\n",
      "colorbar()"
     ],
     "language": "python",
     "metadata": {},
     "outputs": [
      {
       "metadata": {},
       "output_type": "pyout",
       "prompt_number": 78,
       "text": [
        "<matplotlib.colorbar.Colorbar instance at 0x2b01185b7a28>"
       ]
      },
      {
       "metadata": {},
       "output_type": "display_data",
       "png": "[encoded data removed]",
       "text": [
        "<matplotlib.figure.Figure at 0x2b011735fa50>"
       ]
      }
     ],
     "prompt_number": 78
    },
    {
     "cell_type": "code",
     "collapsed": false,
     "input": [
      "E,=plt.plot(EddyHF[6])\n",
      "M,=plt.plot(MeanHF[-1],'r')\n",
      "T,=plt.plot(TotalHF[-1],'k')"
     ],
     "language": "python",
     "metadata": {},
     "outputs": [
      {
       "metadata": {},
       "output_type": "display_data",
       "png": "[encoded data removed]",
       "text": [
        "<matplotlib.figure.Figure at 0x2b0118fd2350>"
       ]
      }
     ],
     "prompt_number": 84
    },
    {
     "cell_type": "code",
     "collapsed": false,
     "input": [
      "# Constant Parameters\n",
      "alpha=2.000000E-04\n",
      "G=-9.81\n",
      "rho_0=1000\n",
      "C_p=3985\n",
      "Res=5000\n",
      "Ly=2000e3\n",
      "Lx=1000e3 \n",
      "H=2985 \n",
      "nz=30 \n",
      "#Dimensions\n",
      "nx=np.round(Lx/Res)\n",
      "ny=np.round(Ly/Res)\n",
      "dx=np.ones(nx)*Res\n",
      "dy=np.ones(ny)*Res\n",
      "x=(np.cumsum(dx)-dx/2)-Lx/2\n",
      "y=(np.cumsum(dy)-dy/2)-Ly/2\n",
      "[Y, X]=np.meshgrid(y,x) \n",
      "Q=10*(np.sin(Y*(3*pi/Ly)))\n",
      "Q[:,ny-(np.round(ny/6)):ny]=0\n",
      "Q=np.zeros(np.shape(Q))\n",
      "Q[:,0:int(5*ny/36)]=-11*(np.sin(Y[:,0:int(5*ny/36)]*(pi/Y[1,int(5*ny/36)])))\n",
      "Q[:,int(5*ny/36):int(20*ny/36)]=10*(np.sin((Y[:,int(5*ny/36):int(20*ny/36)]-Y[1,int(5*ny/36)])*(pi/(5*Y[1,int(15*ny/36)]))))\n",
      "Q[:,int(20*ny/36):int(30*ny/36)]=-10.5*(np.sin((Y[:,int(20*ny/36):int(30*ny/36)]-Y[1,int(20*ny/36)])*(0.8*pi/(Y[1,int(10*ny/36)]))))\n",
      "Q=Q+(-sum(Q)/(ny*nx)) \n",
      "Psipred=(-G*alpha/(rho_0*C_p))*-(Q[1,:])"
     ],
     "language": "python",
     "metadata": {},
     "outputs": [],
     "prompt_number": 14
    },
    {
     "cell_type": "code",
     "collapsed": false,
     "input": [
      "plt.plot(TotalHF*5000,'k')\n",
      "plt.plot(Q.mean(axis=0),'k')"
     ],
     "language": "python",
     "metadata": {},
     "outputs": [
      {
       "metadata": {},
       "output_type": "pyout",
       "prompt_number": 31,
       "text": [
        "[<matplotlib.lines.Line2D at 0x2b1f1ce8ec10>]"
       ]
      },
      {
       "metadata": {},
       "output_type": "display_data",
       "png": "[encoded data removed]",
       "text": [
        "<matplotlib.figure.Figure at 0x2b1f1ce8edd0>"
       ]
      }
     ],
     "prompt_number": 31
    },
    {
     "cell_type": "code",
     "collapsed": false,
     "input": [
      "Q.shape"
     ],
     "language": "python",
     "metadata": {},
     "outputs": [
      {
       "metadata": {},
       "output_type": "pyout",
       "prompt_number": 20,
       "text": [
        "(200, 400)"
       ]
      }
     ],
     "prompt_number": 20
    },
    {
     "cell_type": "code",
     "collapsed": false,
     "input": [],
     "language": "python",
     "metadata": {},
     "outputs": []
    }
   ],
   "metadata": {}
  }
 ]
}