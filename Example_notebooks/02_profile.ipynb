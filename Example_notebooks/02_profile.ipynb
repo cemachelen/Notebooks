{
 "metadata": {
  "name": "",
  "signature": "sha256:7e675fe9e27457a8ea8d73a7c6319af3ef815137a3b36076da8be95fb980f71a"
 },
 "nbformat": 3,
 "nbformat_minor": 0,
 "worksheets": [
  {
   "cells": [
    {
     "cell_type": "markdown",
     "metadata": [],
     "source": [
      "> This is one of the 100 recipes of the [IPython Cookbook](http://ipython-books.github.io/), the definitive guide to high-performance scientific computing and data science in Python.\n"
     ]
    },
    {
     "cell_type": "markdown",
     "metadata": {},
     "source": [
      "# 4.2. Profiling your code easily with cProfile and IPython"
     ]
    },
    {
     "cell_type": "markdown",
     "metadata": {},
     "source": [
      "Standard imports."
     ]
    },
    {
     "cell_type": "code",
     "collapsed": false,
     "input": [
      "import numpy as np\n",
      "import matplotlib.pyplot as plt"
     ],
     "language": "python",
     "metadata": {},
     "outputs": []
    },
    {
     "cell_type": "code",
     "collapsed": false,
     "input": [
      "%matplotlib inline"
     ],
     "language": "python",
     "metadata": {},
     "outputs": []
    },
    {
     "cell_type": "markdown",
     "metadata": {},
     "source": [
      "This function generates an array with random, uniformly distributed +1 and -1."
     ]
    },
    {
     "cell_type": "code",
     "collapsed": false,
     "input": [
      "def step(*shape):\n",
      "    # Create a random n-vector with +1 or -1 values.\n",
      "    return 2 * (np.random.random_sample(shape) < .5) - 1"
     ],
     "language": "python",
     "metadata": {},
     "outputs": []
    },
    {
     "cell_type": "markdown",
     "metadata": {},
     "source": [
      "We simulate $n$ random walks, and look at the histogram of the walks over time."
     ]
    },
    {
     "cell_type": "code",
     "collapsed": false,
     "input": [
      "%%prun -s cumulative -q -l 10 -T prun0\n",
      "# We profile the cell, sort the report by \"cumulative time\",\n",
      "# limit it to 10 lines, and save it to a file \"prun0\".\n",
      "n = 10000\n",
      "iterations = 50\n",
      "x = np.cumsum(step(iterations, n), axis=0)\n",
      "bins = np.arange(-30, 30, 1)\n",
      "y = np.vstack([np.histogram(x[i,:], bins)[0] for i in range(iterations)])"
     ],
     "language": "python",
     "metadata": {},
     "outputs": []
    },
    {
     "cell_type": "code",
     "collapsed": false,
     "input": [
      "print(open('prun0', 'r').read())"
     ],
     "language": "python",
     "metadata": {},
     "outputs": []
    },
    {
     "cell_type": "markdown",
     "metadata": {},
     "source": [
      "The most expensive functions are respectively `histogram` (37 ms), `rand` (19 ms), and `cumsum` (5 ms)."
     ]
    },
    {
     "cell_type": "markdown",
     "metadata": {},
     "source": [
      "We plot the array `y`, representing the distribution of the particles over time."
     ]
    },
    {
     "cell_type": "code",
     "collapsed": false,
     "input": [
      "plt.figure(figsize=(6,6));\n",
      "plt.imshow(y, cmap='hot');"
     ],
     "language": "python",
     "metadata": {},
     "outputs": []
    },
    {
     "cell_type": "markdown",
     "metadata": {},
     "source": [
      "We now run the same code with 10 times more iterations."
     ]
    },
    {
     "cell_type": "code",
     "collapsed": false,
     "input": [
      "%%prun -s cumulative -q -l 10 -T prun1\n",
      "n = 10000\n",
      "iterations = 500\n",
      "x = np.cumsum(step(iterations, n), axis=0)\n",
      "bins = np.arange(-30, 30, 1)\n",
      "y = np.vstack([np.histogram(x[i,:], bins)[0] for i in range(iterations)])"
     ],
     "language": "python",
     "metadata": {},
     "outputs": []
    },
    {
     "cell_type": "code",
     "collapsed": false,
     "input": [
      "print(open('prun1', 'r').read())"
     ],
     "language": "python",
     "metadata": {},
     "outputs": []
    },
    {
     "cell_type": "markdown",
     "metadata": {},
     "source": [
      "The most expensive functions are this time respectively `histogram` (566 ms), `cumsum` (388 ms) and `rand` (241 ms). `cumsum`'s execution time was negligible in the first case, whereas it is not in this case (due to the higher number of iterations)."
     ]
    },
    {
     "cell_type": "markdown",
     "metadata": {},
     "source": [
      "> You'll find all the explanations, figures, references, and much more in the book (to be released later this summer).\n",
      "\n",
      "> [IPython Cookbook](http://ipython-books.github.io/), by [Cyrille Rossant](http://cyrille.rossant.net), Packt Publishing, 2014 (400 pages). [Get a 50% discount by pre-ordering now](http://www.packtpub.com/ipython-interactive-computing-and-visualization-cookbook/book) with the code `mK00gPxQM` (time-limited offer)!\n"
     ]
    }
   ],
   "metadata": {}
  }
 ]
}