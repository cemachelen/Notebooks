{
 "metadata": {
  "name": "eFoldORCA12_coarseGrained-1-ParalellExample"
 },
 "nbformat": 3,
 "nbformat_minor": 0,
 "worksheets": [
  {
   "cells": [
    {
     "cell_type": "heading",
     "level": 2,
     "metadata": {},
     "source": [
      "e-folding in coarsegrained ORCA12, used as an example to illustrate using iPython in parallel!"
     ]
    },
    {
     "cell_type": "heading",
     "level": 4,
     "metadata": {},
     "source": [
      "Some of the things I've wanted to do have benefited hugely from using this. Especially when I have an operation (like fitting an exponential, as with e-folding) that I'm just performing on each point in a huge array. Crucially, in this example, the IO of the datafile is not the main bottleneck here, but actually fitting the exponential."
     ]
    },
    {
     "cell_type": "code",
     "collapsed": false,
     "input": [
      "import sys\n",
      "sys.path.append('/noc/users/mjsp106/storage/')\n",
      "import subprocess\n",
      "from numpy import nan, empty, genfromtxt, size, nansum, nanmax, linspace, squeeze, zeros, fromfunction, repeat, std, empty\n",
      "from scipy import array\n",
      "from scipy.stats import nanmean\n",
      "import h5py\n",
      "from pylab import clf, plot, show, floor, ceil, imshow\n",
      "from matplotlib.pyplot import xlabel, ylabel, legend, savefig, colorbar, title, clim, pcolor, cm\n",
      "from scipy.io import netcdf\n",
      "from numba import autojit\n",
      "from __future__ import division\n",
      "from IPython.parallel import Client\n",
      "import numpy as np\n",
      "import scipy.io.netcdf as nc\n",
      "import matplotlib.pyplot as plt\n",
      "from scipy.optimize import curve_fit"
     ],
     "language": "python",
     "metadata": {},
     "outputs": [],
     "prompt_number": 1
    },
    {
     "cell_type": "heading",
     "level": 4,
     "metadata": {},
     "source": [
      "To work in \"paralell\" using iPython notebooks, we actually don't do this in the OpenMP or MPI sense. It's conceptually much simpler. To start, we need to start the worker engines. I do this in a screen session with the command: ipcluster start -n 6\n"
     ]
    },
    {
     "cell_type": "code",
     "collapsed": false,
     "input": [
      "rc = Client()\n",
      "dview = rc[:]\n",
      "\n",
      "print(\"Worker engine IDs: {}\".format(rc.ids))\n"
     ],
     "language": "python",
     "metadata": {},
     "outputs": [
      {
       "output_type": "stream",
       "stream": "stdout",
       "text": [
        "Worker engine IDs: [0, 1, 2, 3, 4, 5, 6]\n"
       ]
      }
     ],
     "prompt_number": 11
    },
    {
     "cell_type": "heading",
     "level": 4,
     "metadata": {},
     "source": [
      "So the -n flag is the number of engines. I'll just go through something I did a while back, and illustrate using this!"
     ]
    },
    {
     "cell_type": "code",
     "collapsed": false,
     "input": [
      "#Load some data...\n",
      "f2 = h5py.File('/noc/altix/scratch/omfman/NEW_ORCA1/ORCA1-N403/domain/mask.nc', 'r')\n",
      "maskF = f2['tmask']\n",
      "Z = h5py.File(\"/noc/altix/scratch/omfman/NEW_ORCA1/ORCA1-N403/domain/mesh_zgr.nc\", 'r')\n",
      "z = Z['e3t']\n",
      "gdept = Z['gdept']"
     ],
     "language": "python",
     "metadata": {},
     "outputs": [],
     "prompt_number": 4
    },
    {
     "cell_type": "code",
     "collapsed": false,
     "input": [
      "f2 = h5py.File('/noc/altix/scratch/omfman/NEW_ORCA1/ORCA1-N403/domain/mask.nc', 'r')\n",
      "maskF = f2['tmask']\n",
      "Z = h5py.File(\"/noc/altix/scratch/omfman/NEW_ORCA1/ORCA1-N403/domain/mesh_zgr.nc\", 'r')\n",
      "z = Z['e3t']\n",
      "gdept = Z['gdept']"
     ],
     "language": "python",
     "metadata": {},
     "outputs": [],
     "prompt_number": 5
    },
    {
     "cell_type": "code",
     "collapsed": false,
     "input": [
      "# I need the depths!\n",
      "def depth_matrix(size1, size2):\n",
      "    depth = empty([size1, size2])\n",
      "    for y in xrange(size1):\n",
      "        for x in xrange(size2):\n",
      "            depth[y, x] = np.dot(maskF[0, :, y, x], z[0, :, y, x])\n",
      "    return depth"
     ],
     "language": "python",
     "metadata": {},
     "outputs": [],
     "prompt_number": 6
    },
    {
     "cell_type": "code",
     "collapsed": false,
     "input": [
      "# Numba is another AWESOME thing!\n",
      "numba_depth = autojit()(depth_matrix)\n",
      "numba_depth.func_name = \"numba_depth\"\n",
      "\n",
      "#Call the revamped function...\n",
      "depth = depth_matrix(292, 362)"
     ],
     "language": "python",
     "metadata": {},
     "outputs": [],
     "prompt_number": 9
    },
    {
     "cell_type": "code",
     "collapsed": false,
     "input": [
      "P = zeros([size(z, axis=1), size(z, axis=2), size(z, axis = 3)])\n",
      "for n in xrange(1, 75):\n",
      "    P[n, :, :] = P[n-1, :, :]+z[0,n, :, :]"
     ],
     "language": "python",
     "metadata": {},
     "outputs": [],
     "prompt_number": 10
    },
    {
     "cell_type": "heading",
     "level": 4,
     "metadata": {},
     "source": [
      "Here we start distributing information to the workers. Esentially, fuctions that all workers need to use need to be decorated using %%px --local (Local referrs to the individual workers...)"
     ]
    },
    {
     "cell_type": "code",
     "collapsed": false,
     "input": [
      "#Making a mask...\n",
      "\n",
      "nx = size(z, axis=2)\n",
      "ny = size(z, axis=3)\n",
      "nz = size(z, axis=1)\n",
      "\n",
      "\n",
      "Z = h5py.File(\"/noc/altix/scratch/omfman/NEW_ORCA1/ORCA1-N403/domain/mesh_zgr.nc\", 'r')\n",
      "mbathy = Z['mbathy']\n",
      "bathy = mbathy[0, :, :]\n",
      "mask2 = np.fromfunction(lambda k, i, j: (k > (bathy[i,j]-2)), (nz, nx, ny), dtype=int)\n"
     ],
     "language": "python",
     "metadata": {},
     "outputs": [],
     "prompt_number": 13
    },
    {
     "cell_type": "code",
     "collapsed": false,
     "input": [
      "\n",
      "%%px --local\n",
      "def fitFunc(t, a, b, c):\n",
      "    return a*np.exp(-b*t) + c"
     ],
     "language": "python",
     "metadata": {},
     "outputs": []
    },
    {
     "cell_type": "code",
     "collapsed": false,
     "input": [
      "%%px --local\n",
      "def eFoldNonEqui(temps, z):\n",
      "    fitParams, fitCovariances = curve_fit(fitFunc, z, temps)\n",
      "    return 1/fitParams[1]"
     ],
     "language": "python",
     "metadata": {},
     "outputs": [],
     "prompt_number": 15
    },
    {
     "cell_type": "code",
     "collapsed": false,
     "input": [
      "%%px --local\n",
      "def eFoldMatrix(depth, T, z, time):\n",
      "    eFoldDepths= empty([size(depth, axis=0), size(depth, axis=1)])\n",
      "    eFoldDepths[:] = NaN\n",
      "    for x in xrange(size(depth, axis=0)):\n",
      "        for y in xrange(size(depth, axis=1)):\n",
      "            if depth[x, y]>0:\n",
      "                try:\n",
      "                    eFoldDepths[x, y] = eFoldNonEqui(T[ x, y, :], z[x, y, :])\n",
      "                except RuntimeError:\n",
      "                    print \"something wrong with\", x, y\n",
      "    return eFoldDepths"
     ],
     "language": "python",
     "metadata": {},
     "outputs": [],
     "prompt_number": 16
    },
    {
     "cell_type": "code",
     "collapsed": false,
     "input": [
      "maskN = mask2.reshape(1, nz, nx,ny).repeat(312,0)\n",
      "depth_m = ma.masked_array(P, mask=(mask2))\n"
     ],
     "language": "python",
     "metadata": {},
     "outputs": [],
     "prompt_number": 17
    },
    {
     "cell_type": "heading",
     "level": 4,
     "metadata": {},
     "source": [
      "For the arrays where the work is done we need to scatter them among the workers: dview.scatter. NB: I had to roll the axis."
     ]
    },
    {
     "cell_type": "code",
     "collapsed": false,
     "input": [
      "depth_m_roll = rollaxis(depth_m, 1, 0)\n",
      "depth_m_roll = rollaxis(depth_m_roll, 2, 1)\n",
      "\n",
      "dview.scatter('depth_local', depth)\n",
      "dview.scatter('depth_m_local', depth_m_roll)"
     ],
     "language": "python",
     "metadata": {},
     "outputs": [
      {
       "metadata": {},
       "output_type": "pyout",
       "prompt_number": 18,
       "text": [
        "<AsyncResult: scatter>"
       ]
      }
     ],
     "prompt_number": 18
    },
    {
     "cell_type": "code",
     "collapsed": false,
     "input": [
      "%%px --local\n",
      "from numpy import empty, size, NaN\n",
      "from scipy.optimize import curve_fit\n",
      "import numpy as np"
     ],
     "language": "python",
     "metadata": {},
     "outputs": [],
     "prompt_number": 19
    },
    {
     "cell_type": "heading",
     "level": 4,
     "metadata": {},
     "source": [
      "Here is where the actual work happens! To excecute I use: dview.execute When it's finished, you need to gather the results: dview.gather"
     ]
    },
    {
     "cell_type": "code",
     "collapsed": false,
     "input": [
      "eFoldMatrix = empty([312, size(depth, axis=0), size(depth, axis=1)])\n",
      "n = 12*4\n",
      "for yy in xrange(1982, 1988):\n",
      "  for mm in xrange(1, 13):\n",
      "    if mm <10:\n",
      "      f = nc.netcdf_file('/noc/msm/scratch/valor2/maike/concatenateData/N0083/T/ORCA0083-N01_'+str(yy)+'m0'+str(mm)+'T.nc_0083-ORCA_sosie.nc')\n",
      "      t=f.variables['ORCA0083-N01_'+str(yy)+'m0'+str(mm)+'T.nc']\n",
      "    else:\n",
      "      f = nc.netcdf_file('/noc/msm/scratch/valor2/maike/concatenateData/N0083/T/ORCA0083-N01_'+str(yy)+'m'+str(mm)+'T.nc_0083-ORCA_sosie.nc')\n",
      "      t=f.variables['ORCA0083-N01_'+str(yy)+'m'+str(mm)+'T.nc']\n",
      "    T = squeeze(t[0, :, :, :])\n",
      "    T_m = ma.masked_array(T, mask=(mask2))\n",
      "    T_roll = rollaxis(T_m, 1, 0)\n",
      "    T_roll = rollaxis(T_roll, 2, 1)\n",
      "    dview.scatter('T_local', T_roll)\n",
      "    ar = dview.execute('A_local = eFoldMatrix(depth_local, T_local, depth_m_local, '+str(n)+')', block=True)\n",
      "    A2 = dview.gather('A_local').get()\n",
      "    eFoldMatrix[n, ...]=A2\n",
      "    %store n >> '/noc/msm/scratch/valor2/maike/times/ORCA12_time1978_1987.txt'\n",
      "    n = n+1\n",
      "    #    print n\n",
      "    "
     ],
     "language": "python",
     "metadata": {},
     "outputs": [
      {
       "output_type": "stream",
       "stream": "stdout",
       "text": [
        "Writing 'n' (int) to file '/noc/msm/scratch/valor2/maike/times/ORCA12_time1978_1987.txt'.\n",
        "Writing 'n' (int) to file '/noc/msm/scratch/valor2/maike/times/ORCA12_time1978_1987.txt'."
       ]
      },
      {
       "output_type": "stream",
       "stream": "stdout",
       "text": [
        "\n",
        "Writing 'n' (int) to file '/noc/msm/scratch/valor2/maike/times/ORCA12_time1978_1987.txt'."
       ]
      },
      {
       "output_type": "stream",
       "stream": "stdout",
       "text": [
        "\n",
        "Writing 'n' (int) to file '/noc/msm/scratch/valor2/maike/times/ORCA12_time1978_1987.txt'."
       ]
      },
      {
       "output_type": "stream",
       "stream": "stdout",
       "text": [
        "\n",
        "Writing 'n' (int) to file '/noc/msm/scratch/valor2/maike/times/ORCA12_time1978_1987.txt'."
       ]
      },
      {
       "output_type": "stream",
       "stream": "stdout",
       "text": [
        "\n",
        "Writing 'n' (int) to file '/noc/msm/scratch/valor2/maike/times/ORCA12_time1978_1987.txt'."
       ]
      },
      {
       "output_type": "stream",
       "stream": "stdout",
       "text": [
        "\n",
        "Writing 'n' (int) to file '/noc/msm/scratch/valor2/maike/times/ORCA12_time1978_1987.txt'."
       ]
      },
      {
       "output_type": "stream",
       "stream": "stdout",
       "text": [
        "\n",
        "Writing 'n' (int) to file '/noc/msm/scratch/valor2/maike/times/ORCA12_time1978_1987.txt'."
       ]
      },
      {
       "output_type": "stream",
       "stream": "stdout",
       "text": [
        "\n",
        "Writing 'n' (int) to file '/noc/msm/scratch/valor2/maike/times/ORCA12_time1978_1987.txt'."
       ]
      },
      {
       "output_type": "stream",
       "stream": "stdout",
       "text": [
        "\n",
        "Writing 'n' (int) to file '/noc/msm/scratch/valor2/maike/times/ORCA12_time1978_1987.txt'."
       ]
      },
      {
       "output_type": "stream",
       "stream": "stdout",
       "text": [
        "\n",
        "Writing 'n' (int) to file '/noc/msm/scratch/valor2/maike/times/ORCA12_time1978_1987.txt'."
       ]
      },
      {
       "output_type": "stream",
       "stream": "stdout",
       "text": [
        "\n",
        "Writing 'n' (int) to file '/noc/msm/scratch/valor2/maike/times/ORCA12_time1978_1987.txt'."
       ]
      },
      {
       "output_type": "stream",
       "stream": "stdout",
       "text": [
        "\n",
        "Writing 'n' (int) to file '/noc/msm/scratch/valor2/maike/times/ORCA12_time1978_1987.txt'."
       ]
      },
      {
       "output_type": "stream",
       "stream": "stdout",
       "text": [
        "\n",
        "Writing 'n' (int) to file '/noc/msm/scratch/valor2/maike/times/ORCA12_time1978_1987.txt'."
       ]
      },
      {
       "output_type": "stream",
       "stream": "stdout",
       "text": [
        "\n",
        "Writing 'n' (int) to file '/noc/msm/scratch/valor2/maike/times/ORCA12_time1978_1987.txt'."
       ]
      },
      {
       "output_type": "stream",
       "stream": "stdout",
       "text": [
        "\n",
        "Writing 'n' (int) to file '/noc/msm/scratch/valor2/maike/times/ORCA12_time1978_1987.txt'."
       ]
      },
      {
       "output_type": "stream",
       "stream": "stdout",
       "text": [
        "\n",
        "Writing 'n' (int) to file '/noc/msm/scratch/valor2/maike/times/ORCA12_time1978_1987.txt'."
       ]
      },
      {
       "output_type": "stream",
       "stream": "stdout",
       "text": [
        "\n",
        "Writing 'n' (int) to file '/noc/msm/scratch/valor2/maike/times/ORCA12_time1978_1987.txt'."
       ]
      },
      {
       "output_type": "stream",
       "stream": "stdout",
       "text": [
        "\n",
        "Writing 'n' (int) to file '/noc/msm/scratch/valor2/maike/times/ORCA12_time1978_1987.txt'."
       ]
      },
      {
       "output_type": "stream",
       "stream": "stdout",
       "text": [
        "\n",
        "Writing 'n' (int) to file '/noc/msm/scratch/valor2/maike/times/ORCA12_time1978_1987.txt'."
       ]
      },
      {
       "output_type": "stream",
       "stream": "stdout",
       "text": [
        "\n",
        "Writing 'n' (int) to file '/noc/msm/scratch/valor2/maike/times/ORCA12_time1978_1987.txt'."
       ]
      },
      {
       "output_type": "stream",
       "stream": "stdout",
       "text": [
        "\n",
        "Writing 'n' (int) to file '/noc/msm/scratch/valor2/maike/times/ORCA12_time1978_1987.txt'."
       ]
      },
      {
       "output_type": "stream",
       "stream": "stdout",
       "text": [
        "\n",
        "Writing 'n' (int) to file '/noc/msm/scratch/valor2/maike/times/ORCA12_time1978_1987.txt'."
       ]
      },
      {
       "output_type": "stream",
       "stream": "stdout",
       "text": [
        "\n",
        "Writing 'n' (int) to file '/noc/msm/scratch/valor2/maike/times/ORCA12_time1978_1987.txt'."
       ]
      },
      {
       "output_type": "stream",
       "stream": "stdout",
       "text": [
        "\n",
        "Writing 'n' (int) to file '/noc/msm/scratch/valor2/maike/times/ORCA12_time1978_1987.txt'."
       ]
      },
      {
       "output_type": "stream",
       "stream": "stdout",
       "text": [
        "\n",
        "Writing 'n' (int) to file '/noc/msm/scratch/valor2/maike/times/ORCA12_time1978_1987.txt'."
       ]
      },
      {
       "output_type": "stream",
       "stream": "stdout",
       "text": [
        "\n",
        "Writing 'n' (int) to file '/noc/msm/scratch/valor2/maike/times/ORCA12_time1978_1987.txt'."
       ]
      },
      {
       "output_type": "stream",
       "stream": "stdout",
       "text": [
        "\n",
        "Writing 'n' (int) to file '/noc/msm/scratch/valor2/maike/times/ORCA12_time1978_1987.txt'."
       ]
      },
      {
       "output_type": "stream",
       "stream": "stdout",
       "text": [
        "\n",
        "Writing 'n' (int) to file '/noc/msm/scratch/valor2/maike/times/ORCA12_time1978_1987.txt'."
       ]
      },
      {
       "output_type": "stream",
       "stream": "stdout",
       "text": [
        "\n",
        "Writing 'n' (int) to file '/noc/msm/scratch/valor2/maike/times/ORCA12_time1978_1987.txt'."
       ]
      },
      {
       "output_type": "stream",
       "stream": "stdout",
       "text": [
        "\n",
        "Writing 'n' (int) to file '/noc/msm/scratch/valor2/maike/times/ORCA12_time1978_1987.txt'."
       ]
      },
      {
       "output_type": "stream",
       "stream": "stdout",
       "text": [
        "\n",
        "Writing 'n' (int) to file '/noc/msm/scratch/valor2/maike/times/ORCA12_time1978_1987.txt'."
       ]
      },
      {
       "output_type": "stream",
       "stream": "stdout",
       "text": [
        "\n",
        "Writing 'n' (int) to file '/noc/msm/scratch/valor2/maike/times/ORCA12_time1978_1987.txt'."
       ]
      },
      {
       "output_type": "stream",
       "stream": "stdout",
       "text": [
        "\n",
        "Writing 'n' (int) to file '/noc/msm/scratch/valor2/maike/times/ORCA12_time1978_1987.txt'."
       ]
      },
      {
       "output_type": "stream",
       "stream": "stdout",
       "text": [
        "\n",
        "Writing 'n' (int) to file '/noc/msm/scratch/valor2/maike/times/ORCA12_time1978_1987.txt'."
       ]
      },
      {
       "output_type": "stream",
       "stream": "stdout",
       "text": [
        "\n",
        "Writing 'n' (int) to file '/noc/msm/scratch/valor2/maike/times/ORCA12_time1978_1987.txt'."
       ]
      },
      {
       "output_type": "stream",
       "stream": "stdout",
       "text": [
        "\n",
        "Writing 'n' (int) to file '/noc/msm/scratch/valor2/maike/times/ORCA12_time1978_1987.txt'."
       ]
      },
      {
       "output_type": "stream",
       "stream": "stdout",
       "text": [
        "\n",
        "Writing 'n' (int) to file '/noc/msm/scratch/valor2/maike/times/ORCA12_time1978_1987.txt'."
       ]
      },
      {
       "output_type": "stream",
       "stream": "stdout",
       "text": [
        "\n",
        "Writing 'n' (int) to file '/noc/msm/scratch/valor2/maike/times/ORCA12_time1978_1987.txt'."
       ]
      },
      {
       "output_type": "stream",
       "stream": "stdout",
       "text": [
        "\n",
        "Writing 'n' (int) to file '/noc/msm/scratch/valor2/maike/times/ORCA12_time1978_1987.txt'."
       ]
      },
      {
       "output_type": "stream",
       "stream": "stdout",
       "text": [
        "\n",
        "Writing 'n' (int) to file '/noc/msm/scratch/valor2/maike/times/ORCA12_time1978_1987.txt'."
       ]
      },
      {
       "output_type": "stream",
       "stream": "stdout",
       "text": [
        "\n",
        "Writing 'n' (int) to file '/noc/msm/scratch/valor2/maike/times/ORCA12_time1978_1987.txt'."
       ]
      },
      {
       "output_type": "stream",
       "stream": "stdout",
       "text": [
        "\n",
        "Writing 'n' (int) to file '/noc/msm/scratch/valor2/maike/times/ORCA12_time1978_1987.txt'."
       ]
      },
      {
       "output_type": "stream",
       "stream": "stdout",
       "text": [
        "\n",
        "Writing 'n' (int) to file '/noc/msm/scratch/valor2/maike/times/ORCA12_time1978_1987.txt'."
       ]
      },
      {
       "output_type": "stream",
       "stream": "stdout",
       "text": [
        "\n",
        "Writing 'n' (int) to file '/noc/msm/scratch/valor2/maike/times/ORCA12_time1978_1987.txt'."
       ]
      },
      {
       "output_type": "stream",
       "stream": "stdout",
       "text": [
        "\n",
        "Writing 'n' (int) to file '/noc/msm/scratch/valor2/maike/times/ORCA12_time1978_1987.txt'."
       ]
      },
      {
       "output_type": "stream",
       "stream": "stdout",
       "text": [
        "\n",
        "Writing 'n' (int) to file '/noc/msm/scratch/valor2/maike/times/ORCA12_time1978_1987.txt'."
       ]
      },
      {
       "output_type": "stream",
       "stream": "stdout",
       "text": [
        "\n",
        "Writing 'n' (int) to file '/noc/msm/scratch/valor2/maike/times/ORCA12_time1978_1987.txt'."
       ]
      },
      {
       "output_type": "stream",
       "stream": "stdout",
       "text": [
        "\n",
        "Writing 'n' (int) to file '/noc/msm/scratch/valor2/maike/times/ORCA12_time1978_1987.txt'."
       ]
      },
      {
       "output_type": "stream",
       "stream": "stdout",
       "text": [
        "\n",
        "Writing 'n' (int) to file '/noc/msm/scratch/valor2/maike/times/ORCA12_time1978_1987.txt'."
       ]
      },
      {
       "output_type": "stream",
       "stream": "stdout",
       "text": [
        "\n",
        "Writing 'n' (int) to file '/noc/msm/scratch/valor2/maike/times/ORCA12_time1978_1987.txt'."
       ]
      },
      {
       "output_type": "stream",
       "stream": "stdout",
       "text": [
        "\n",
        "Writing 'n' (int) to file '/noc/msm/scratch/valor2/maike/times/ORCA12_time1978_1987.txt'."
       ]
      },
      {
       "output_type": "stream",
       "stream": "stdout",
       "text": [
        "\n",
        "Writing 'n' (int) to file '/noc/msm/scratch/valor2/maike/times/ORCA12_time1978_1987.txt'."
       ]
      },
      {
       "output_type": "stream",
       "stream": "stdout",
       "text": [
        "\n",
        "Writing 'n' (int) to file '/noc/msm/scratch/valor2/maike/times/ORCA12_time1978_1987.txt'."
       ]
      },
      {
       "output_type": "stream",
       "stream": "stdout",
       "text": [
        "\n",
        "Writing 'n' (int) to file '/noc/msm/scratch/valor2/maike/times/ORCA12_time1978_1987.txt'."
       ]
      },
      {
       "output_type": "stream",
       "stream": "stdout",
       "text": [
        "\n",
        "Writing 'n' (int) to file '/noc/msm/scratch/valor2/maike/times/ORCA12_time1978_1987.txt'."
       ]
      },
      {
       "output_type": "stream",
       "stream": "stdout",
       "text": [
        "\n",
        "Writing 'n' (int) to file '/noc/msm/scratch/valor2/maike/times/ORCA12_time1978_1987.txt'."
       ]
      },
      {
       "output_type": "stream",
       "stream": "stdout",
       "text": [
        "\n",
        "Writing 'n' (int) to file '/noc/msm/scratch/valor2/maike/times/ORCA12_time1978_1987.txt'."
       ]
      },
      {
       "output_type": "stream",
       "stream": "stdout",
       "text": [
        "\n",
        "Writing 'n' (int) to file '/noc/msm/scratch/valor2/maike/times/ORCA12_time1978_1987.txt'."
       ]
      },
      {
       "output_type": "stream",
       "stream": "stdout",
       "text": [
        "\n",
        "Writing 'n' (int) to file '/noc/msm/scratch/valor2/maike/times/ORCA12_time1978_1987.txt'."
       ]
      },
      {
       "output_type": "stream",
       "stream": "stdout",
       "text": [
        "\n",
        "Writing 'n' (int) to file '/noc/msm/scratch/valor2/maike/times/ORCA12_time1978_1987.txt'."
       ]
      },
      {
       "output_type": "stream",
       "stream": "stdout",
       "text": [
        "\n",
        "Writing 'n' (int) to file '/noc/msm/scratch/valor2/maike/times/ORCA12_time1978_1987.txt'."
       ]
      },
      {
       "output_type": "stream",
       "stream": "stdout",
       "text": [
        "\n",
        "Writing 'n' (int) to file '/noc/msm/scratch/valor2/maike/times/ORCA12_time1978_1987.txt'."
       ]
      },
      {
       "output_type": "stream",
       "stream": "stdout",
       "text": [
        "\n",
        "Writing 'n' (int) to file '/noc/msm/scratch/valor2/maike/times/ORCA12_time1978_1987.txt'."
       ]
      },
      {
       "output_type": "stream",
       "stream": "stdout",
       "text": [
        "\n",
        "Writing 'n' (int) to file '/noc/msm/scratch/valor2/maike/times/ORCA12_time1978_1987.txt'."
       ]
      },
      {
       "output_type": "stream",
       "stream": "stdout",
       "text": [
        "\n",
        "Writing 'n' (int) to file '/noc/msm/scratch/valor2/maike/times/ORCA12_time1978_1987.txt'."
       ]
      },
      {
       "output_type": "stream",
       "stream": "stdout",
       "text": [
        "\n",
        "Writing 'n' (int) to file '/noc/msm/scratch/valor2/maike/times/ORCA12_time1978_1987.txt'."
       ]
      },
      {
       "output_type": "stream",
       "stream": "stdout",
       "text": [
        "\n",
        "Writing 'n' (int) to file '/noc/msm/scratch/valor2/maike/times/ORCA12_time1978_1987.txt'."
       ]
      },
      {
       "output_type": "stream",
       "stream": "stdout",
       "text": [
        "\n",
        "Writing 'n' (int) to file '/noc/msm/scratch/valor2/maike/times/ORCA12_time1978_1987.txt'."
       ]
      },
      {
       "output_type": "stream",
       "stream": "stdout",
       "text": [
        "\n",
        "Writing 'n' (int) to file '/noc/msm/scratch/valor2/maike/times/ORCA12_time1978_1987.txt'."
       ]
      },
      {
       "output_type": "stream",
       "stream": "stdout",
       "text": [
        "\n",
        "Writing 'n' (int) to file '/noc/msm/scratch/valor2/maike/times/ORCA12_time1978_1987.txt'."
       ]
      },
      {
       "output_type": "stream",
       "stream": "stdout",
       "text": [
        "\n",
        "Writing 'n' (int) to file '/noc/msm/scratch/valor2/maike/times/ORCA12_time1978_1987.txt'."
       ]
      },
      {
       "output_type": "stream",
       "stream": "stdout",
       "text": [
        "\n"
       ]
      }
     ],
     "prompt_number": 21
    },
    {
     "cell_type": "code",
     "collapsed": false,
     "input": [
      "f2 = h5py.File('/noc/msm/scratch/valor2/maike/eFoldORCA12onORCA1Grid_1978_1987.nc')\n",
      "f2['eFold']=eFoldMatrix[:]\n",
      "f2.close()"
     ],
     "language": "python",
     "metadata": {},
     "outputs": [],
     "prompt_number": 22
    },
    {
     "cell_type": "heading",
     "level": 4,
     "metadata": {},
     "source": [
      "That's it! Hope this is useful :)"
     ]
    }
   ],
   "metadata": {}
  }
 ]
}