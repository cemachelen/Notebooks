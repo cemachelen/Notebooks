{
 "cells": [
  {
   "cell_type": "code",
   "execution_count": null,
   "metadata": {
    "collapsed": true
   },
   "outputs": [],
   "source": [
    "import cdms2\n",
    "from eofs.cdms import Eof\n",
    "\n",
    "# read a spatial-temporal field, time must be the first dimension\n",
    "ncin = cdms2.open('sst_monthly.nc')\n",
    "sst = ncin('sst')\n",
    "ncin.close()\n",
    "\n",
    "# create a solver class, taking advantage of built-in weighting\n",
    "solver = Eof(sst, weights='coslat')\n",
    "\n",
    "# retrieve the first two EOFs from the solver class\n",
    "eofs = solver.eofs(neofs=2)"
   ]
  }
 ],
 "metadata": {
  "kernelspec": {
   "display_name": "Python 2",
   "language": "python",
   "name": "python2"
  },
  "language_info": {
   "codemirror_mode": {
    "name": "ipython",
    "version": 2
   },
   "file_extension": ".py",
   "mimetype": "text/x-python",
   "name": "python",
   "nbconvert_exporter": "python",
   "pygments_lexer": "ipython2",
   "version": "2.7.9"
  }
 },
 "nbformat": 4,
 "nbformat_minor": 0
}
