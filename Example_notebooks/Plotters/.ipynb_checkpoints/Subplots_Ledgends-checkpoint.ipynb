{
 "metadata": {
  "name": "",
  "signature": "sha256:221e2fb333f89ec57572bf1cf30f32a1379013a8d51cc6bccb231750a809c325"
 },
 "nbformat": 3,
 "nbformat_minor": 0,
 "worksheets": [
  {
   "cells": [
    {
     "cell_type": "markdown",
     "metadata": {},
     "source": [
      "Bouyancy budget for marshall and Radko doesn't quite hold\n",
      "\n",
      "Best to start simple then!\n",
      "\n",
      "\\begin{equation}\n",
      "\\overline{v}\\frac{\\partial \\overline{T}}{\\partial y} + \\overline{w}\\frac{\\partial \\overline{T}}{\\partial z} + \\frac{\\partial \\overline{v'T'}}{\\partial y} + \\frac{\\partial \\overline{w'T'}}{\\partial z}  = Q + Diff\n",
      "\\end{equation}\n",
      "\n",
      "***\n",
      "\n",
      "To test this i'll start with my control case (3 day tau)\n",
      "\n",
      "* Will need 3 day eddy output for VWT\n",
      "* Q \n",
      "* Model diffusion\n",
      "\n"
     ]
    },
    {
     "cell_type": "code",
     "collapsed": false,
     "input": [
      "import netCDF4\n",
      "import numpy as np\n",
      "import matplotlib.pyplot as plt\n",
      "import os\n",
      "import csv\n",
      "import sys\n",
      "import glob\n",
      "from scipy.interpolate import interp1d\n",
      "from scipy import interpolate\n",
      "from numba import autojit\n",
      "sys.path.append('/noc/users/hb1g13/Python/python_functions/')\n",
      "import useful as hb\n",
      "import SG"
     ],
     "language": "python",
     "metadata": {},
     "outputs": [],
     "prompt_number": 1
    },
    {
     "cell_type": "code",
     "collapsed": false,
     "input": [
      "Full='N' # 9 Pannels isn't ideal for presentations N option give 4 plots"
     ],
     "language": "python",
     "metadata": {},
     "outputs": [],
     "prompt_number": 2
    },
    {
     "cell_type": "code",
     "collapsed": false,
     "input": [
      "if Full=='N':\n",
      "   tau=['3','300','3000','Closed']\n",
      "else:\n",
      "    tau=['3','10','30','100','300','1000','3000','10000','Closed']\n",
      "path='/hpcdata/scratch/hb1g13/NchannelFlat'"
     ],
     "language": "python",
     "metadata": {},
     "outputs": [],
     "prompt_number": 3
    },
    {
     "cell_type": "code",
     "collapsed": false,
     "input": [
      "check=0\n",
      "runs=[]\n",
      "for i in range(len(tau)):\n",
      "    flist=path+'/'+str(tau[i])+'daynokpp/PSI.nc'\n",
      "    if not os.path.exists(flist):\n",
      "       print 'WARNING: '+flist+' does not exist! (skipping this ta\\\n",
      "u...)'\n",
      "       check+=0\n",
      "    else:\n",
      "       check+=1\n",
      "       runs.append(i)"
     ],
     "language": "python",
     "metadata": {},
     "outputs": [],
     "prompt_number": 4
    },
    {
     "cell_type": "code",
     "collapsed": false,
     "input": [
      "# Constant Parameters\n",
      "alpha=2.000000E-04\n",
      "G=-9.81\n",
      "rho_0=1000\n",
      "C_p=3985\n",
      "Res=5000\n",
      "Ly=2000e3\n",
      "Lx=1000e3 \n",
      "H=2985 \n",
      "nz=30 \n",
      "#Dimensions\n",
      "nx=np.round(Lx/Res)\n",
      "ny=np.round(Ly/Res)\n",
      "dx=np.ones(nx)*Res\n",
      "dy=np.ones(ny)*Res\n",
      "x=(np.cumsum(dx)-dx/2)-Lx/2\n",
      "y=(np.cumsum(dy)-dy/2)-Ly/2\n",
      "[Y, X]=np.meshgrid(y,x) \n",
      "Q=10*(np.sin(Y*(3*pi/Ly)))\n",
      "Q[:,ny-(np.round(ny/6)):ny]=0\n",
      "Q=np.zeros(np.shape(Q))\n",
      "Q[:,0:int(5*ny/36)]=-11*(np.sin(Y[:,0:int(5*ny/36)]*(pi/Y[1,int(5*ny/36)])))\n",
      "Q[:,int(5*ny/36):int(20*ny/36)]=10*(np.sin((Y[:,int(5*ny/36):int(20*ny/36)]-Y[1,int(5*ny/36)])*(pi/(5*Y[1,int(15*ny/36)]))))\n",
      "Q[:,int(20*ny/36):int(30*ny/36)]=-10.5*(np.sin((Y[:,int(20*ny/36):int(30*ny/36)]-Y[1,int(20*ny/36)])*(0.8*pi/(Y[1,int(10*ny/36)]))))\n",
      "Q=Q+(-sum(Q)/(ny*nx)) \n",
      "Psipred=(-G*alpha/(rho_0*C_p))*-(Q[1,:])"
     ],
     "language": "python",
     "metadata": {},
     "outputs": [],
     "prompt_number": 5
    },
    {
     "cell_type": "code",
     "collapsed": false,
     "input": [
      "Runs=np.array(runs)"
     ],
     "language": "python",
     "metadata": {},
     "outputs": [],
     "prompt_number": 6
    },
    {
     "cell_type": "code",
     "collapsed": false,
     "input": [
      "# Grid parameters\n",
      "gridfilepath=path+'/'+str(tau[0])+'daynokpp/'\n",
      "file2=netCDF4.Dataset(gridfilepath+'grid.nc','r')\n",
      "Zp=file2.variables['Zp1'][:]\n",
      "Z=file2.variables['Z'][:]\n",
      "Y=file2.variables['Yp1'][:]\n",
      "Yc=file2.variables['Y'][:]\n",
      "dz=Zp[0:-1]-Zp[1::][:]\n",
      "dA=dz*5000\n",
      "Zmatrix=np.zeros((len(Z),len(Yc)))\n",
      "Zmatrix[:,:]=1\n",
      "dx=Y[1]-Y[0] # Find Resolution\n",
      "Zmatrix=np.apply_along_axis(np.multiply,0,Zmatrix,dz)"
     ],
     "language": "python",
     "metadata": {},
     "outputs": []
    },
    {
     "cell_type": "code",
     "collapsed": false,
     "input": [
      "fig=plt.figure(figsize=(20.5,16.5))\n",
      "for i in range(len(Runs)):\n",
      "    # Load Variables \n",
      "    fileVTprime= netCDF4.Dataset(path+'/'+str(tau[i])+'daynokpp/VTprimebar.nc','r')\n",
      "    VTp=fileVTprime.variables['VT'][:]\n",
      "    fileWTprime= netCDF4.Dataset(path+'/'+str(tau[i])+'daynokpp/WTprimebar.nc','r')\n",
      "    WTp= fileWTprime.variables['WT'][:]\n",
      "    filetav= netCDF4.Dataset(path+'/'+str(tau[i])+'daynokpp/Tav.nc','r')\n",
      "    VTav= filetav.variables['VVEL'][:]\n",
      "    VTav=np.mean(VTav,axis=0)\n",
      "    TTav = filetav.variables['THETA'][:]\n",
      "    TTav = np.mean(TTav,axis=0)-4.0\n",
      "    fileWTav = netCDF4.Dataset(path+'/'+str(tau[i])+'daynokpp/WTav.nc','r')\n",
      "    WTav = fileWTav.variables['WVEL'][:]\n",
      "    npad=((0,0),(0,1),(0,0),(0,0))\n",
      "    WTav=np.pad(WTav,pad_width=npad, mode='constant', constant_values=0)\n",
      "    WTav=hb.numba_regridz(WTav)\n",
      "    WTav = np.squeeze(WTav)\n",
      "    # Terms LHS: VTMy, VTpy, WTMz, WTpz\n",
      "    # Terms RHS: Psipred (Q), Diff\n",
      "    Tz,Ty = gradient(TTav.mean(axis=2))\n",
      "    VTMy = hb.numba_regridy(VTav).mean(axis=2)*Ty/5000\n",
      "    WTMz = WTav.mean(axis=2)*Tz\n",
      "    VTpz, VTpy = np.gradient(VTp.mean(axis=2),5000)\n",
      "    WTpz,WTpy = gradient(WTp.mean(axis=2))\n",
      "    WTMZ=-WTMz/Zmatrix\n",
      "    WTpZ=-WTpz/Zmatrix\n",
      "    B=-((WTpZ+VTpy+WTMZ+VTMy)*G*alpha)*Zmatrix\n",
      "    if Full=='N':\n",
      "        ax = fig.add_subplot(2, 2, i+1)\n",
      "        p1 = plot(Yc/1000,(Zmatrix*VTMy).sum(axis=0)*10**5,'r',linewidth=2)\n",
      "        p1 = plot(Yc/1000,(Zmatrix*WTMZ).sum(axis=0)*10**5,'m',linewidth=2)\n",
      "        p1 = plot(Yc/1000,(Zmatrix*VTpy).sum(axis=0)*10**5,'--b',linewidth=2)\n",
      "        p1 = plot(Yc/1000,(Zmatrix*WTpZ).sum(axis=0)*10**5,'--c',linewidth=2)\n",
      "        p1 = plot(Yc/1000,(B).sum(axis=0),'--k',linewidth=2)\n",
      "        #p1 = plot(Yc[0:-50]/1000,SG.savitzky_golay(nansum(B,axis=0)[0:-50],15,1),'k',linewidth=2)\n",
      "        p1 = plot(Yc/1000,Psipred,'k',linewidth=1)\n",
      "        ylim(-4.,4.)\n",
      "        ax.set_title(str(tau[Runs[i]])+' day',fontsize=30)\n",
      "    if str(tau[Runs[i]])=='Closed':\n",
      "        ax.set_title(str(tau[Runs[i]]),fontsize=30)\n",
      "    ax.set_xlabel('Distance (km)',fontsize=30)\n",
      "    ax.set_ylabel('$m^2s^{-3}$ x 10$^{-5}$',fontsize=30)\n",
      "    ax.tick_params(labelsize=30)\n",
      "lgd=plt.legend([r'$\\overline{v}\\frac{\\partial \\overline{T}}{\\partial y}$',r'$ \\overline{w}\\frac{\\partial \\overline{T}}{\\partial z}$',r'$ \\frac{\\partial \\overline{v^\\prime T ^\\prime }}{\\partial y}$',r'$  \\frac{\\partial \\overline{w ^\\prime T ^\\prime}}{\\partial z}$'], shadow=True,bbox_to_anchor=(1.05, 1), loc=2, borderaxespad=0.,fontsize=30)\n",
      "plt.tight_layout()"
     ],
     "language": "python",
     "metadata": {},
     "outputs": []
    },
    {
     "cell_type": "code",
     "collapsed": false,
     "input": [],
     "language": "python",
     "metadata": {},
     "outputs": []
    }
   ],
   "metadata": {}
  }
 ]
}