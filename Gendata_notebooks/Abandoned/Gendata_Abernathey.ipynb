{
 "metadata": {
  "name": "",
  "signature": "sha256:c1e4ae9f8c0ee6b08b1e28cb98d5edff51315e85e8d021447ed4c86a645de2a7"
 },
 "nbformat": 3,
 "nbformat_minor": 0,
 "worksheets": [
  {
   "cells": [
    {
     "cell_type": "heading",
     "level": 1,
     "metadata": {},
     "source": [
      "Generate model inputs"
     ]
    },
    {
     "cell_type": "heading",
     "level": 2,
     "metadata": {},
     "source": [
      "This will set up the forcing for Abernathey Style Forcing\n"
     ]
    },
    {
     "cell_type": "code",
     "collapsed": false,
     "input": [
      "from scipy.io import netcdf\n",
      "import numpy as np\n",
      "import matplotlib.pyplot as plt\n",
      "import os\n",
      "import csv\n",
      "import sys\n",
      "import math\n",
      "from pylab import *\n",
      "from IPython.display import display, Math, Latex\n",
      "from numba import jit\n",
      "import glob"
     ],
     "language": "python",
     "metadata": {},
     "outputs": [],
     "prompt_number": 1
    },
    {
     "cell_type": "markdown",
     "metadata": {},
     "source": [
      "When writing in python it is very important to note reverse dimensions!!\n",
      "MITgcm assumes column major order (as does matlab) Python, uses row major order.\n",
      "Mosty it's fine just to write straight to binary, but to absolutely specific of the format for MITgcm the WriteFile fuction (taken from the MITgcm csv gendata.py):"
     ]
    },
    {
     "cell_type": "code",
     "collapsed": false,
     "input": [
      "class binfiles:\n",
      "    def __init__(self):\n",
      "        self.buffersize=8192\n",
      "\n",
      "    def writeOrg(self,filename,matrix,type='d'):\n",
      "        # create an array first\n",
      "        aMatrix=A.array(type)\n",
      "        # turn matrix into a flat and then into a list\n",
      "        # the list is then read into aMatrix\n",
      "        aMatrix.fromlist(matrix.flat.tolist())\n",
      "        # open the file\n",
      "        fd=open(filename,'wb')\n",
      "        aMatrix.tofile(fd)\n",
      "        fd.close()\n",
      "\n",
      "    def write(self,filename,matrix):\n",
      "        # open the file\n",
      "        fd=open(filename,'wb')\n",
      "        matrix.ravel().tofile(fd)\n",
      "        fd.close()\n",
      "\n",
      "    def read(self,filename,size=(0,0)):\n",
      "        fd=open(filename,'rb')\n",
      "        buffersize=size[0]*size[1]\n",
      "        if (buffersize==0) or (buffersize>self.buffersize):\n",
      "            buffersize=self.buffersize\n",
      "            \n",
      "        while True:\n",
      "            try:\n",
      "                matrix.fromfile(fd,buffersize)\n",
      "            except EOFError:\n",
      "                break\n",
      "            \n",
      "        fd.close()\n",
      "        if size[0]*size[1]!=0:\n",
      "            # size is given\n",
      "            matrix=reshape(matrix,size)\n",
      "        return(matrix)\n",
      "def writeFile(filename,X):\n",
      "    bf=binfiles()\n",
      "    bf.write(filename,X.astype(float64))"
     ],
     "language": "python",
     "metadata": {},
     "outputs": [],
     "prompt_number": 2
    },
    {
     "cell_type": "heading",
     "level": 2,
     "metadata": {},
     "source": [
      "Decide parameters:"
     ]
    },
    {
     "cell_type": "raw",
     "metadata": {},
     "source": [
      "Resolution \n",
      "Depth\n",
      "Domain\n",
      "Boundary Condition\n",
      "Topography\n",
      "Forcing"
     ]
    },
    {
     "cell_type": "code",
     "collapsed": false,
     "input": [
      "Topo=\"flat\" #Please Choose ridge, slope or flat\n",
      "Wind=\"Standard\" # Sine bell 0.2N/m$^2$\n",
      "Heat=\"Abernathey\" # Please Choose Abernathey or nonetQ\n",
      "BC=\"Sponge\" # Please Choose Sponge or Diffusion\n",
      "Name=\"Sponge_adv7\" # Give Experiment Name"
     ],
     "language": "python",
     "metadata": {},
     "outputs": [],
     "prompt_number": 3
    },
    {
     "cell_type": "code",
     "collapsed": false,
     "input": [
      "# Adjust accordingly\n",
      "Res=5000\n",
      "Ly=2000e3\n",
      "Lx=1000e3 #Full domain = 4000km otherwise 1000km\n",
      "H=2985 # Diffusion = 3800m, Sponge = 2985m\n",
      "nz=30 # Diffusion = 24 level, Sponge= 30 levels"
     ],
     "language": "python",
     "metadata": {},
     "outputs": [],
     "prompt_number": 4
    },
    {
     "cell_type": "code",
     "collapsed": false,
     "input": [
      "x=\"/noc/users/hb1g13/MITgcm/Mobilis/\"+Name+\"/input/\" \n",
      "os.chdir(x)"
     ],
     "language": "python",
     "metadata": {},
     "outputs": [],
     "prompt_number": 5
    },
    {
     "cell_type": "heading",
     "level": 2,
     "metadata": {},
     "source": [
      "Set up grid:"
     ]
    },
    {
     "cell_type": "code",
     "collapsed": false,
     "input": [
      "#Dimensions\n",
      "nx=np.round(Lx/Res)\n",
      "ny=np.round(Ly/Res)\n",
      "dx=np.ones(nx)*Res\n",
      "dy=np.ones(ny)*Res\n",
      "#Write binary output\n",
      "writeFile('delY',dy)\n",
      "writeFile('delX',dx)\n",
      "# Create c-grid with grid points in dead center\n",
      "x=(np.cumsum(dx)-dx/2)-Lx/2\n",
      "y=(np.cumsum(dy)-dy/2)-Ly/2\n",
      "[Y, X]=np.meshgrid(y,x) "
     ],
     "language": "python",
     "metadata": {},
     "outputs": [],
     "prompt_number": 6
    },
    {
     "cell_type": "heading",
     "level": 2,
     "metadata": {},
     "source": [
      "Now Create topography:"
     ]
    },
    {
     "cell_type": "markdown",
     "metadata": {},
     "source": [
      "Start with flat, then add slope and ridges"
     ]
    },
    {
     "cell_type": "code",
     "collapsed": false,
     "input": [
      "h= -H*np.ones((nx,ny)) # Flat bottom\n",
      "if Topo==\"ridge\":#2500 and 2000 for full depth\n",
      "         h= h+(1500 + 300*np.sin(10*pi*Y/Ly) + 400*np.sin(8*pi*Y/Ly)+ 300*sin(2\\\n",
      "5*pi*Y/Ly) )*(1/np.cosh(((X)-0.2*Y+3e5)/1.2e5))\n",
      "         h= h+((1000 + 600*np.sin(11*pi*Y/Ly) + 300*np.sin(7*pi*Y/Ly)+ 500*sin(2\\\n",
      "1*pi*Y/Ly) )*(1/np.cosh(((X)+0.1*Y+1.5e6)/1.2e5)))\n",
      "if Topo==\"slope\" or Topo==\"ridge\":\n",
      "    for i in range(int(nx)):\n",
      "      slope= np.transpose(H*(np.divide((Y[i,0:round(0.2*ny)]-Y[i,0]),(Y[i,0]-Y[i,round(0.2*ny)]))))\n",
      "      h2=h[:,0:round(0.2*ny)]\n",
      "      h[:,0:round(0.2*ny)]=np.maximum(slope,h2)\n",
      "# Close both ends\n",
      "h[:,0]=0\n",
      "h[:,-1]=0\n",
      "# Write to binary\n",
      "writeFile('topog',np.transpose(h))"
     ],
     "language": "python",
     "metadata": {},
     "outputs": [],
     "prompt_number": 7
    },
    {
     "cell_type": "code",
     "collapsed": false,
     "input": [
      "if Topo==\"flat\" or Topo==\"slope\":\n",
      "    plt.plot(y/1000,h[nx/2,:])\n",
      "    plt.title('Topography')\n",
      "    plt.ylabel('Depth (m)')\n",
      "    plt.xlabel('Y (km)')\n",
      "if Topo=='ridge':\n",
      "    plt.contourf(x/1000,y/1000,np.transpose(h),30)\n",
      "    cb=plt.colorbar()\n",
      "    plt.title('Topography')\n",
      "    plt.ylabel('Y (km)')\n",
      "    plt.xlabel('X (km)')\n",
      "    cb.set_label('Depth (m)')\n",
      "    "
     ],
     "language": "python",
     "metadata": {},
     "outputs": [
      {
       "metadata": {},
       "output_type": "display_data",
       "png": "[encoded data removed]",
       "text": [
        "<matplotlib.figure.Figure at 0x29b7bd0>"
       ]
      }
     ],
     "prompt_number": 8
    },
    {
     "cell_type": "heading",
     "level": 2,
     "metadata": {},
     "source": [
      "Surface Heat Forcing"
     ]
    },
    {
     "cell_type": "markdown",
     "metadata": {},
     "source": [
      "Now for the surface heat forcing:\n",
      "Must have bouyancy gain in the south and bouyancy loss over maximum wind sress to allow overturning\n",
      "\n",
      "\n",
      "$Q=-Q_{0}\\,cos(\\frac{3\\pi y}{Ly})\\quad \\quad \\quad \\quad y \\le \\frac{5Ly}{6}$"
     ]
    },
    {
     "cell_type": "code",
     "collapsed": false,
     "input": [
      "#Itegrate!\n",
      "Q=10*(np.sin(Y*(3*pi/Ly)))\n",
      "Q[:,ny-(np.round(ny/6)):ny]=0\n",
      "if Heat==\"nonetQ\":\n",
      "   Q[:,np.round(ny/2):ny]=0.5*Q[:,np.round(ny/2):ny]\n",
      "# Write to binary\n",
      "writeFile('Qsurface',np.transpose(Q))\n",
      "# netcdf check\n",
      "f=netcdf.netcdf_file('Qsurface.nc','w')\n",
      "f.createDimension('X',nx)\n",
      "f.createDimension('Y',ny)\n",
      "Q2=f.createVariable('Q','float',('X','Y'))\n",
      "Q2[:]=Q\n",
      "f.close()"
     ],
     "language": "python",
     "metadata": {},
     "outputs": [],
     "prompt_number": 9
    },
    {
     "cell_type": "code",
     "collapsed": false,
     "input": [
      "plt.plot(y/1000,Q[100,:])\n",
      "plt.title('Surface Heat Flux $W/m^2$')\n",
      "plt.ylabel('Heat Flux ($W/m^2$)')\n",
      "plt.xlabel('Meridional Distance (m)')"
     ],
     "language": "python",
     "metadata": {},
     "outputs": [
      {
       "metadata": {},
       "output_type": "pyout",
       "prompt_number": 10,
       "text": [
        "<matplotlib.text.Text at 0x29bf610>"
       ]
      },
      {
       "metadata": {},
       "output_type": "display_data",
       "png": "[encoded data removed]",
       "text": [
        "<matplotlib.figure.Figure at 0x2163710>"
       ]
      }
     ],
     "prompt_number": 10
    },
    {
     "cell_type": "heading",
     "level": 2,
     "metadata": {},
     "source": [
      "Windstress"
     ]
    },
    {
     "cell_type": "markdown",
     "metadata": {},
     "source": [
      "Plus the Windress with $\\tau_o$ set to $0.2Nm^-2$\n",
      "\n",
      "$\\tau_s(y)=\\tau_0 sin(\\frac{\\pi y}{Ly})$"
     ]
    },
    {
     "cell_type": "code",
     "collapsed": false,
     "input": [
      "tau=0.2*((np.sin((Y+Ly/2)*(pi/Ly)))) #Y is centred at 0 so put that back!\n",
      "# Write to binary\n",
      "writeFile('Wind',np.transpose(tau))\n",
      "# netcdf check\n",
      "f=netcdf.netcdf_file('Wind.nc','w')\n",
      "f.createDimension('Xp1',nx+1)\n",
      "f.createDimension('Y',ny)\n",
      "tau3=np.zeros((ny,nx+1))\n",
      "tau3[:,1:]=np.transpose(tau)\n",
      "tau2=f.createVariable('tau','double',('Xp1','Y'))\n",
      "tau2[:]=np.transpose(tau3)\n",
      "f.close()"
     ],
     "language": "python",
     "metadata": {},
     "outputs": [],
     "prompt_number": 11
    },
    {
     "cell_type": "code",
     "collapsed": false,
     "input": [
      "plt.plot(y/1000,tau[100,:])\n",
      "plt.title('Surface Wind Stress $N/m^2$')\n",
      "plt.ylabel('$\\tau$ ($N/m^2$)')\n",
      "plt.xlabel('Meridional Distance (m)')"
     ],
     "language": "python",
     "metadata": {},
     "outputs": [
      {
       "metadata": {},
       "output_type": "pyout",
       "prompt_number": 12,
       "text": [
        "<matplotlib.text.Text at 0x29d5190>"
       ]
      },
      {
       "metadata": {},
       "output_type": "display_data",
       "png": "[encoded data removed]",
       "text": [
        "<matplotlib.figure.Figure at 0x29e6c90>"
       ]
      }
     ],
     "prompt_number": 12
    },
    {
     "cell_type": "heading",
     "level": 2,
     "metadata": {},
     "source": [
      "Generate Sponge"
     ]
    },
    {
     "cell_type": "raw",
     "metadata": {},
     "source": [
      "Now creat a Sponge mask and a reference profile to relax to:"
     ]
    },
    {
     "cell_type": "code",
     "collapsed": false,
     "input": [
      "#Parameters\n",
      "N=1e3 # Natural stratification\n",
      "deltaT=8\n",
      "Tref=np.zeros(nz)\n",
      "#Create depth array:\n",
      "a=5,22.5,60\n",
      "b=np.linspace(135,2535,25)\n",
      "c=2685,2885\n",
      "z=np.concatenate([a,b,c])"
     ],
     "language": "python",
     "metadata": {},
     "outputs": [],
     "prompt_number": 13
    },
    {
     "cell_type": "markdown",
     "metadata": {},
     "source": [
      "\\begin{equation*} T^*(z)=\\Delta T\\frac{(e^{z/h}-e^{-H/h})}{1-e^{-H/h}} \\end{equation*}"
     ]
    },
    {
     "cell_type": "code",
     "collapsed": false,
     "input": [
      "Tref = deltaT*(exp(-z/N)-exp(-H/N))/(1-exp(-H/N))"
     ],
     "language": "python",
     "metadata": {},
     "outputs": [],
     "prompt_number": 14
    },
    {
     "cell_type": "code",
     "collapsed": false,
     "input": [
      "plt.plot(Tref,z)\n",
      "plt.gca().invert_yaxis()\n",
      "plt.title('Temperature Profile')\n",
      "plt.ylabel('Depth (m)')\n",
      "plt.xlabel('Temperature $^oC$')"
     ],
     "language": "python",
     "metadata": {},
     "outputs": [
      {
       "metadata": {},
       "output_type": "pyout",
       "prompt_number": 15,
       "text": [
        "<matplotlib.text.Text at 0x32db610>"
       ]
      },
      {
       "metadata": {},
       "output_type": "display_data",
       "png": "[encoded data removed]",
       "text": [
        "<matplotlib.figure.Figure at 0x29bfcd0>"
       ]
      }
     ],
     "prompt_number": 15
    },
    {
     "cell_type": "code",
     "collapsed": false,
     "input": [
      "#Make a 3D array of it\n",
      "T=np.ones((nz,ny,nx))\n",
      "Temp_field=np.zeros(np.shape(T))\n",
      "for i in range(int(nx)):\n",
      "    for j in range(int(ny)):\n",
      "        Temp_field[:,j,i]=np.multiply(Tref,T[:,j,i])"
     ],
     "language": "python",
     "metadata": {},
     "outputs": [],
     "prompt_number": 16
    },
    {
     "cell_type": "code",
     "collapsed": false,
     "input": [
      "# Write to binary\n",
      "writeFile('T_Sponge',Temp_field)\n",
      "# netcdf check\n",
      "f=netcdf.netcdf_file('TSponge.nc','w')\n",
      "f.createDimension('X',nx)\n",
      "f.createDimension('Y',ny)\n",
      "f.createDimension('Z',nz)\n",
      "Temp=f.createVariable('Temp','double',('Z','Y','X'))\n",
      "Temp[:]=Temp_field\n",
      "f.close()"
     ],
     "language": "python",
     "metadata": {},
     "outputs": [],
     "prompt_number": 17
    },
    {
     "cell_type": "code",
     "collapsed": false,
     "input": [
      "#Make 3D mask\n",
      "#Must vary between 0 (no Relaxation) and 1 (full relaxtion)\n",
      "#I have gone for a parabolic decay in x and linear decay in z (from playing around)\n",
      "msk=np.zeros(np.shape(T))\n",
      "for k in range(0,len(z)):\n",
      "    for i in range(len(x)):  \n",
      "        msk[k,ny-20:ny,i]=((np.divide((Y[i,ny-21:ny-1]-Y[i,ny-21]),(Y[i,ny-1]-Y[i,ny-21])))**2)*(z[k]/H)    \n",
      "# Write to binary\n",
      "writeFile('T.msk',msk)\n",
      "# netcdf check\n",
      "f=netcdf.netcdf_file('Mask.nc','w')\n",
      "f.createDimension('X',nx)\n",
      "f.createDimension('Y',ny)\n",
      "f.createDimension('Z',nz)\n",
      "Mask=f.createVariable('Mask','double',('Z','Y','X'))\n",
      "Mask[:]=(msk)\n",
      "f.close()"
     ],
     "language": "python",
     "metadata": {},
     "outputs": [],
     "prompt_number": 18
    },
    {
     "cell_type": "code",
     "collapsed": false,
     "input": [
      "plt.contourf(y/1000,z,msk[:,:,100],24,cm=cm.Spectral)\n",
      "cbar = plt.colorbar()\n",
      "plt.gca().invert_yaxis()\n",
      "plt.title('Mask Matrix')\n",
      "plt.ylabel('Depth (m)')\n",
      "plt.xlabel('Meridional Distance (km)')"
     ],
     "language": "python",
     "metadata": {},
     "outputs": [
      {
       "metadata": {},
       "output_type": "pyout",
       "prompt_number": 19,
       "text": [
        "<matplotlib.text.Text at 0x29b0d90>"
       ]
      },
      {
       "metadata": {},
       "output_type": "display_data",
       "png": "[encoded data removed]",
       "text": [
        "<matplotlib.figure.Figure at 0x2cd9450>"
       ]
      }
     ],
     "prompt_number": 19
    },
    {
     "cell_type": "code",
     "collapsed": false,
     "input": [],
     "language": "python",
     "metadata": {},
     "outputs": [],
     "prompt_number": 19
    }
   ],
   "metadata": {}
  }
 ]
}